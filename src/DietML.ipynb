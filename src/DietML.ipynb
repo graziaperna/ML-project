{
 "cells": [
  {
   "cell_type": "code",
   "execution_count": 580,
   "metadata": {},
   "outputs": [
    {
     "name": "stdout",
     "output_type": "stream",
     "text": [
      "x: \n",
      " age               10726\n",
      "weight(kg)        10726\n",
      "height(m)         10726\n",
      "gender            10726\n",
      "activity_level    10726\n",
      "dtype: int64\n",
      "\n",
      "y: \n",
      " 10726\n",
      "\n"
     ]
    }
   ],
   "source": [
    "import pandas as pd\n",
    "from sklearn.model_selection import train_test_split\n",
    "import matplotlib.pyplot as plt\n",
    "from sklearn.ensemble import RandomForestClassifier\n",
    "from sklearn.metrics import accuracy_score, precision_score, recall_score, f1_score, make_scorer, mean_squared_error, r2_score\n",
    "import numpy as np\n",
    "from sklearn.cluster import KMeans\n",
    "from sklearn.preprocessing import LabelEncoder\n",
    "from sklearn.preprocessing import OneHotEncoder\n",
    "from sklearn.preprocessing import StandardScaler\n",
    "from sklearn.ensemble import VotingClassifier\n",
    "from sklearn.tree import DecisionTreeClassifier\n",
    "from sklearn.neighbors import KNeighborsClassifier\n",
    "from sklearn.ensemble import RandomForestClassifier\n",
    "from sklearn.neural_network import MLPClassifier \n",
    "from sklearn.svm import SVC\n",
    "from sklearn.model_selection import GridSearchCV\n",
    "from sklearn.model_selection import KFold\n",
    "from sklearn.model_selection import train_test_split\n",
    "from sklearn.metrics import accuracy_score\n",
    "\n",
    "df = pd.read_csv(\"..\\\\Dataset\\\\reccomender.csv\")\n",
    "x = df[['age','weight(kg)','height(m)','gender','activity_level']]\n",
    "y = df.calories\n",
    "print(\"x: \\n\", x.count(), end=\"\\n\\n\")\n",
    "print(\"y: \\n\", y.count(), end=\"\\n\\n\")"
   ]
  },
  {
   "cell_type": "code",
   "execution_count": 564,
   "metadata": {},
   "outputs": [],
   "source": [
    "# Creazione dell'oggetto LabelEncoder\n",
    "label_encoder = LabelEncoder()\n",
    "\n",
    "# Codifica delle variabili categoriche come valori numerici\n",
    "x_encoded = x.copy()\n",
    "\n",
    "x_encoded['age'] = label_encoder.fit_transform(x['age'])\n",
    "x_encoded['weight(kg)'] = label_encoder.fit_transform(x['weight(kg)'])\n",
    "x_encoded['height(m)'] = label_encoder.fit_transform(x['height(m)'])\n",
    "x_encoded['gender'] = label_encoder.fit_transform(x['gender'])\n",
    "x_encoded['activity_level'] = label_encoder.fit_transform(x['activity_level'])\n",
    "#x_encoded['BMR'] = label_encoder.fit_transform(x['BMR'])"
   ]
  },
  {
   "cell_type": "code",
   "execution_count": 565,
   "metadata": {},
   "outputs": [],
   "source": [
    "\n",
    "# Creazione dell'oggetto OneHotEncoder\n",
    "\n",
    "encoder = OneHotEncoder()\n",
    "x_encoded = x_encoded.values\n",
    "# Adattamento del modello agli dati\n",
    "encoder.fit(x_encoded)\n",
    "\n",
    "# Trasformazione dei dati di addestramento\n",
    "x_encoded = encoder.transform(x_encoded).toarray()\n"
   ]
  },
  {
   "cell_type": "code",
   "execution_count": 581,
   "metadata": {},
   "outputs": [],
   "source": [
    "# Creazione di un oggetto StandardScaler\n",
    "scaler = StandardScaler()\n",
    "\n",
    "# Trasformazione e adattamento dei dati di addestramento\n",
    "x_scaled = scaler.fit_transform(x)"
   ]
  },
  {
   "cell_type": "code",
   "execution_count": 582,
   "metadata": {},
   "outputs": [
    {
     "data": {
      "text/html": [
       "<style>#sk-container-id-100 {color: black;background-color: white;}#sk-container-id-100 pre{padding: 0;}#sk-container-id-100 div.sk-toggleable {background-color: white;}#sk-container-id-100 label.sk-toggleable__label {cursor: pointer;display: block;width: 100%;margin-bottom: 0;padding: 0.3em;box-sizing: border-box;text-align: center;}#sk-container-id-100 label.sk-toggleable__label-arrow:before {content: \"▸\";float: left;margin-right: 0.25em;color: #696969;}#sk-container-id-100 label.sk-toggleable__label-arrow:hover:before {color: black;}#sk-container-id-100 div.sk-estimator:hover label.sk-toggleable__label-arrow:before {color: black;}#sk-container-id-100 div.sk-toggleable__content {max-height: 0;max-width: 0;overflow: hidden;text-align: left;background-color: #f0f8ff;}#sk-container-id-100 div.sk-toggleable__content pre {margin: 0.2em;color: black;border-radius: 0.25em;background-color: #f0f8ff;}#sk-container-id-100 input.sk-toggleable__control:checked~div.sk-toggleable__content {max-height: 200px;max-width: 100%;overflow: auto;}#sk-container-id-100 input.sk-toggleable__control:checked~label.sk-toggleable__label-arrow:before {content: \"▾\";}#sk-container-id-100 div.sk-estimator input.sk-toggleable__control:checked~label.sk-toggleable__label {background-color: #d4ebff;}#sk-container-id-100 div.sk-label input.sk-toggleable__control:checked~label.sk-toggleable__label {background-color: #d4ebff;}#sk-container-id-100 input.sk-hidden--visually {border: 0;clip: rect(1px 1px 1px 1px);clip: rect(1px, 1px, 1px, 1px);height: 1px;margin: -1px;overflow: hidden;padding: 0;position: absolute;width: 1px;}#sk-container-id-100 div.sk-estimator {font-family: monospace;background-color: #f0f8ff;border: 1px dotted black;border-radius: 0.25em;box-sizing: border-box;margin-bottom: 0.5em;}#sk-container-id-100 div.sk-estimator:hover {background-color: #d4ebff;}#sk-container-id-100 div.sk-parallel-item::after {content: \"\";width: 100%;border-bottom: 1px solid gray;flex-grow: 1;}#sk-container-id-100 div.sk-label:hover label.sk-toggleable__label {background-color: #d4ebff;}#sk-container-id-100 div.sk-serial::before {content: \"\";position: absolute;border-left: 1px solid gray;box-sizing: border-box;top: 0;bottom: 0;left: 50%;z-index: 0;}#sk-container-id-100 div.sk-serial {display: flex;flex-direction: column;align-items: center;background-color: white;padding-right: 0.2em;padding-left: 0.2em;position: relative;}#sk-container-id-100 div.sk-item {position: relative;z-index: 1;}#sk-container-id-100 div.sk-parallel {display: flex;align-items: stretch;justify-content: center;background-color: white;position: relative;}#sk-container-id-100 div.sk-item::before, #sk-container-id-100 div.sk-parallel-item::before {content: \"\";position: absolute;border-left: 1px solid gray;box-sizing: border-box;top: 0;bottom: 0;left: 50%;z-index: -1;}#sk-container-id-100 div.sk-parallel-item {display: flex;flex-direction: column;z-index: 1;position: relative;background-color: white;}#sk-container-id-100 div.sk-parallel-item:first-child::after {align-self: flex-end;width: 50%;}#sk-container-id-100 div.sk-parallel-item:last-child::after {align-self: flex-start;width: 50%;}#sk-container-id-100 div.sk-parallel-item:only-child::after {width: 0;}#sk-container-id-100 div.sk-dashed-wrapped {border: 1px dashed gray;margin: 0 0.4em 0.5em 0.4em;box-sizing: border-box;padding-bottom: 0.4em;background-color: white;}#sk-container-id-100 div.sk-label label {font-family: monospace;font-weight: bold;display: inline-block;line-height: 1.2em;}#sk-container-id-100 div.sk-label-container {text-align: center;}#sk-container-id-100 div.sk-container {/* jupyter's `normalize.less` sets `[hidden] { display: none; }` but bootstrap.min.css set `[hidden] { display: none !important; }` so we also need the `!important` here to be able to override the default hidden behavior on the sphinx rendered scikit-learn.org. See: https://github.com/scikit-learn/scikit-learn/issues/21755 */display: inline-block !important;position: relative;}#sk-container-id-100 div.sk-text-repr-fallback {display: none;}</style><div id=\"sk-container-id-100\" class=\"sk-top-container\"><div class=\"sk-text-repr-fallback\"><pre>XGBRegressor(base_score=None, booster=None, callbacks=None,\n",
       "             colsample_bylevel=None, colsample_bynode=None,\n",
       "             colsample_bytree=None, early_stopping_rounds=None,\n",
       "             enable_categorical=False, eval_metric=None, feature_types=None,\n",
       "             gamma=None, gpu_id=None, grow_policy=None, importance_type=None,\n",
       "             interaction_constraints=None, learning_rate=None, max_bin=None,\n",
       "             max_cat_threshold=None, max_cat_to_onehot=None,\n",
       "             max_delta_step=None, max_depth=None, max_leaves=None,\n",
       "             min_child_weight=None, missing=nan, monotone_constraints=None,\n",
       "             n_estimators=100, n_jobs=None, num_parallel_tree=None,\n",
       "             predictor=None, random_state=None, ...)</pre><b>In a Jupyter environment, please rerun this cell to show the HTML representation or trust the notebook. <br />On GitHub, the HTML representation is unable to render, please try loading this page with nbviewer.org.</b></div><div class=\"sk-container\" hidden><div class=\"sk-item\"><div class=\"sk-estimator sk-toggleable\"><input class=\"sk-toggleable__control sk-hidden--visually\" id=\"sk-estimator-id-120\" type=\"checkbox\" checked><label for=\"sk-estimator-id-120\" class=\"sk-toggleable__label sk-toggleable__label-arrow\">XGBRegressor</label><div class=\"sk-toggleable__content\"><pre>XGBRegressor(base_score=None, booster=None, callbacks=None,\n",
       "             colsample_bylevel=None, colsample_bynode=None,\n",
       "             colsample_bytree=None, early_stopping_rounds=None,\n",
       "             enable_categorical=False, eval_metric=None, feature_types=None,\n",
       "             gamma=None, gpu_id=None, grow_policy=None, importance_type=None,\n",
       "             interaction_constraints=None, learning_rate=None, max_bin=None,\n",
       "             max_cat_threshold=None, max_cat_to_onehot=None,\n",
       "             max_delta_step=None, max_depth=None, max_leaves=None,\n",
       "             min_child_weight=None, missing=nan, monotone_constraints=None,\n",
       "             n_estimators=100, n_jobs=None, num_parallel_tree=None,\n",
       "             predictor=None, random_state=None, ...)</pre></div></div></div></div></div>"
      ],
      "text/plain": [
       "XGBRegressor(base_score=None, booster=None, callbacks=None,\n",
       "             colsample_bylevel=None, colsample_bynode=None,\n",
       "             colsample_bytree=None, early_stopping_rounds=None,\n",
       "             enable_categorical=False, eval_metric=None, feature_types=None,\n",
       "             gamma=None, gpu_id=None, grow_policy=None, importance_type=None,\n",
       "             interaction_constraints=None, learning_rate=None, max_bin=None,\n",
       "             max_cat_threshold=None, max_cat_to_onehot=None,\n",
       "             max_delta_step=None, max_depth=None, max_leaves=None,\n",
       "             min_child_weight=None, missing=nan, monotone_constraints=None,\n",
       "             n_estimators=100, n_jobs=None, num_parallel_tree=None,\n",
       "             predictor=None, random_state=None, ...)"
      ]
     },
     "execution_count": 582,
     "metadata": {},
     "output_type": "execute_result"
    }
   ],
   "source": [
    "from sklearn.neighbors import KNeighborsRegressor\n",
    "import xgboost as xgb\n",
    "from sklearn.metrics import mean_squared_error, r2_score\n",
    "from sklearn.model_selection import train_test_split\n",
    "\n",
    "# Suddivisione iniziale in set di addestramento + convalida e test\n",
    "x_train_val, x_test, y_train_val, y_test = train_test_split(x_encoded, y, test_size=0.15, random_state=42)\n",
    "\n",
    "# Ulteriore suddivisione del set di addestramento + convalida in set di addestramento e convalida\n",
    "x_train, x_val, y_train, y_val = train_test_split(x_train_val, y_train_val, test_size=0.15, random_state=42)\n",
    "\n",
    "model = xgb.XGBRegressor()\n",
    "model.fit(x_train, y_train)\n",
    "\n"
   ]
  },
  {
   "cell_type": "code",
   "execution_count": 583,
   "metadata": {},
   "outputs": [
    {
     "data": {
      "text/html": [
       "<style>#sk-container-id-101 {color: black;background-color: white;}#sk-container-id-101 pre{padding: 0;}#sk-container-id-101 div.sk-toggleable {background-color: white;}#sk-container-id-101 label.sk-toggleable__label {cursor: pointer;display: block;width: 100%;margin-bottom: 0;padding: 0.3em;box-sizing: border-box;text-align: center;}#sk-container-id-101 label.sk-toggleable__label-arrow:before {content: \"▸\";float: left;margin-right: 0.25em;color: #696969;}#sk-container-id-101 label.sk-toggleable__label-arrow:hover:before {color: black;}#sk-container-id-101 div.sk-estimator:hover label.sk-toggleable__label-arrow:before {color: black;}#sk-container-id-101 div.sk-toggleable__content {max-height: 0;max-width: 0;overflow: hidden;text-align: left;background-color: #f0f8ff;}#sk-container-id-101 div.sk-toggleable__content pre {margin: 0.2em;color: black;border-radius: 0.25em;background-color: #f0f8ff;}#sk-container-id-101 input.sk-toggleable__control:checked~div.sk-toggleable__content {max-height: 200px;max-width: 100%;overflow: auto;}#sk-container-id-101 input.sk-toggleable__control:checked~label.sk-toggleable__label-arrow:before {content: \"▾\";}#sk-container-id-101 div.sk-estimator input.sk-toggleable__control:checked~label.sk-toggleable__label {background-color: #d4ebff;}#sk-container-id-101 div.sk-label input.sk-toggleable__control:checked~label.sk-toggleable__label {background-color: #d4ebff;}#sk-container-id-101 input.sk-hidden--visually {border: 0;clip: rect(1px 1px 1px 1px);clip: rect(1px, 1px, 1px, 1px);height: 1px;margin: -1px;overflow: hidden;padding: 0;position: absolute;width: 1px;}#sk-container-id-101 div.sk-estimator {font-family: monospace;background-color: #f0f8ff;border: 1px dotted black;border-radius: 0.25em;box-sizing: border-box;margin-bottom: 0.5em;}#sk-container-id-101 div.sk-estimator:hover {background-color: #d4ebff;}#sk-container-id-101 div.sk-parallel-item::after {content: \"\";width: 100%;border-bottom: 1px solid gray;flex-grow: 1;}#sk-container-id-101 div.sk-label:hover label.sk-toggleable__label {background-color: #d4ebff;}#sk-container-id-101 div.sk-serial::before {content: \"\";position: absolute;border-left: 1px solid gray;box-sizing: border-box;top: 0;bottom: 0;left: 50%;z-index: 0;}#sk-container-id-101 div.sk-serial {display: flex;flex-direction: column;align-items: center;background-color: white;padding-right: 0.2em;padding-left: 0.2em;position: relative;}#sk-container-id-101 div.sk-item {position: relative;z-index: 1;}#sk-container-id-101 div.sk-parallel {display: flex;align-items: stretch;justify-content: center;background-color: white;position: relative;}#sk-container-id-101 div.sk-item::before, #sk-container-id-101 div.sk-parallel-item::before {content: \"\";position: absolute;border-left: 1px solid gray;box-sizing: border-box;top: 0;bottom: 0;left: 50%;z-index: -1;}#sk-container-id-101 div.sk-parallel-item {display: flex;flex-direction: column;z-index: 1;position: relative;background-color: white;}#sk-container-id-101 div.sk-parallel-item:first-child::after {align-self: flex-end;width: 50%;}#sk-container-id-101 div.sk-parallel-item:last-child::after {align-self: flex-start;width: 50%;}#sk-container-id-101 div.sk-parallel-item:only-child::after {width: 0;}#sk-container-id-101 div.sk-dashed-wrapped {border: 1px dashed gray;margin: 0 0.4em 0.5em 0.4em;box-sizing: border-box;padding-bottom: 0.4em;background-color: white;}#sk-container-id-101 div.sk-label label {font-family: monospace;font-weight: bold;display: inline-block;line-height: 1.2em;}#sk-container-id-101 div.sk-label-container {text-align: center;}#sk-container-id-101 div.sk-container {/* jupyter's `normalize.less` sets `[hidden] { display: none; }` but bootstrap.min.css set `[hidden] { display: none !important; }` so we also need the `!important` here to be able to override the default hidden behavior on the sphinx rendered scikit-learn.org. See: https://github.com/scikit-learn/scikit-learn/issues/21755 */display: inline-block !important;position: relative;}#sk-container-id-101 div.sk-text-repr-fallback {display: none;}</style><div id=\"sk-container-id-101\" class=\"sk-top-container\"><div class=\"sk-text-repr-fallback\"><pre>KNeighborsRegressor()</pre><b>In a Jupyter environment, please rerun this cell to show the HTML representation or trust the notebook. <br />On GitHub, the HTML representation is unable to render, please try loading this page with nbviewer.org.</b></div><div class=\"sk-container\" hidden><div class=\"sk-item\"><div class=\"sk-estimator sk-toggleable\"><input class=\"sk-toggleable__control sk-hidden--visually\" id=\"sk-estimator-id-121\" type=\"checkbox\" checked><label for=\"sk-estimator-id-121\" class=\"sk-toggleable__label sk-toggleable__label-arrow\">KNeighborsRegressor</label><div class=\"sk-toggleable__content\"><pre>KNeighborsRegressor()</pre></div></div></div></div></div>"
      ],
      "text/plain": [
       "KNeighborsRegressor()"
      ]
     },
     "execution_count": 583,
     "metadata": {},
     "output_type": "execute_result"
    }
   ],
   "source": [
    "model1 = KNeighborsRegressor()\n",
    "model1.fit(x_train, y_train)"
   ]
  },
  {
   "cell_type": "code",
   "execution_count": 585,
   "metadata": {},
   "outputs": [
    {
     "name": "stdout",
     "output_type": "stream",
     "text": [
      "Mean Squared Error: 6372.226322178702\n",
      "Root Mean Squared Error: 79.82622577936841\n",
      "r2: 0.9569191254839309\n"
     ]
    }
   ],
   "source": [
    "# Calcolo delle previsioni\n",
    "y_pred = model1.predict(x_val)\n",
    "\n",
    "# Calcolo del MSE\n",
    "mse = mean_squared_error(y_val, y_pred)\n",
    "rmse = np.sqrt(mse)\n",
    "r2 = r2_score(y_val, y_pred)\n",
    "\n",
    "print(\"Mean Squared Error:\", mse)\n",
    "print(\"Root Mean Squared Error:\", rmse)\n",
    "print(\"r2:\", r2)\n"
   ]
  },
  {
   "cell_type": "code",
   "execution_count": 579,
   "metadata": {},
   "outputs": [
    {
     "name": "stdout",
     "output_type": "stream",
     "text": [
      "[-335.9329]\n"
     ]
    }
   ],
   "source": [
    "y_p = model.predict([[2,16.09,0.93,1,1.2]])\n",
    "print(y_p) "
   ]
  },
  {
   "cell_type": "code",
   "execution_count": 488,
   "metadata": {},
   "outputs": [
    {
     "name": "stdout",
     "output_type": "stream",
     "text": [
      "Mediterranean_diet    17\n",
      "alkaline_diet         17\n",
      "dash_diet             17\n",
      "gluten_free_diet      17\n",
      "high_fiber_diet       17\n",
      "high_protien_diet     17\n",
      "hormone_diet          17\n",
      "ketogenic_diet        17\n",
      "low_carb_diet         17\n",
      "low_fat_diet          17\n",
      "low_sodium_diet       17\n",
      "omni_diet             17\n",
      "paleo_diet            17\n",
      "type_o_diet           17\n",
      "vegan_diet            17\n",
      "Name: Diet, dtype: int64\n"
     ]
    }
   ],
   "source": [
    "#print(len(X_resampled))\n",
    "#print(len(y_resampled))\n",
    "\n",
    "print(y_resampled.value_counts())"
   ]
  },
  {
   "cell_type": "code",
   "execution_count": 498,
   "metadata": {},
   "outputs": [
    {
     "ename": "ValueError",
     "evalue": "Unknown label type: 'continuous'",
     "output_type": "error",
     "traceback": [
      "\u001b[1;31m---------------------------------------------------------------------------\u001b[0m",
      "\u001b[1;31mValueError\u001b[0m                                Traceback (most recent call last)",
      "Cell \u001b[1;32mIn[498], line 22\u001b[0m\n\u001b[0;32m     19\u001b[0m voting_clf \u001b[39m=\u001b[39m VotingClassifier(estimators\u001b[39m=\u001b[39m[(\u001b[39m'\u001b[39m\u001b[39mknn\u001b[39m\u001b[39m'\u001b[39m, clf2), (\u001b[39m'\u001b[39m\u001b[39msvc\u001b[39m\u001b[39m'\u001b[39m, clf3), (\u001b[39m'\u001b[39m\u001b[39mrf\u001b[39m\u001b[39m'\u001b[39m, clf4)], voting\u001b[39m=\u001b[39m\u001b[39m'\u001b[39m\u001b[39mhard\u001b[39m\u001b[39m'\u001b[39m)\n\u001b[0;32m     21\u001b[0m \u001b[39m# Addestramento del modello\u001b[39;00m\n\u001b[1;32m---> 22\u001b[0m clf4\u001b[39m.\u001b[39;49mfit(x_train, y_train)\n",
      "File \u001b[1;32m~\\AppData\\Local\\Packages\\PythonSoftwareFoundation.Python.3.9_qbz5n2kfra8p0\\LocalCache\\local-packages\\Python39\\site-packages\\sklearn\\ensemble\\_forest.py:385\u001b[0m, in \u001b[0;36mBaseForest.fit\u001b[1;34m(self, X, y, sample_weight)\u001b[0m\n\u001b[0;32m    378\u001b[0m         \u001b[39mraise\u001b[39;00m \u001b[39mValueError\u001b[39;00m(\n\u001b[0;32m    379\u001b[0m             \u001b[39m\"\u001b[39m\u001b[39mSum of y is not strictly positive which \u001b[39m\u001b[39m\"\u001b[39m\n\u001b[0;32m    380\u001b[0m             \u001b[39m\"\u001b[39m\u001b[39mis necessary for Poisson regression.\u001b[39m\u001b[39m\"\u001b[39m\n\u001b[0;32m    381\u001b[0m         )\n\u001b[0;32m    383\u001b[0m \u001b[39mself\u001b[39m\u001b[39m.\u001b[39mn_outputs_ \u001b[39m=\u001b[39m y\u001b[39m.\u001b[39mshape[\u001b[39m1\u001b[39m]\n\u001b[1;32m--> 385\u001b[0m y, expanded_class_weight \u001b[39m=\u001b[39m \u001b[39mself\u001b[39;49m\u001b[39m.\u001b[39;49m_validate_y_class_weight(y)\n\u001b[0;32m    387\u001b[0m \u001b[39mif\u001b[39;00m \u001b[39mgetattr\u001b[39m(y, \u001b[39m\"\u001b[39m\u001b[39mdtype\u001b[39m\u001b[39m\"\u001b[39m, \u001b[39mNone\u001b[39;00m) \u001b[39m!=\u001b[39m DOUBLE \u001b[39mor\u001b[39;00m \u001b[39mnot\u001b[39;00m y\u001b[39m.\u001b[39mflags\u001b[39m.\u001b[39mcontiguous:\n\u001b[0;32m    388\u001b[0m     y \u001b[39m=\u001b[39m np\u001b[39m.\u001b[39mascontiguousarray(y, dtype\u001b[39m=\u001b[39mDOUBLE)\n",
      "File \u001b[1;32m~\\AppData\\Local\\Packages\\PythonSoftwareFoundation.Python.3.9_qbz5n2kfra8p0\\LocalCache\\local-packages\\Python39\\site-packages\\sklearn\\ensemble\\_forest.py:746\u001b[0m, in \u001b[0;36mForestClassifier._validate_y_class_weight\u001b[1;34m(self, y)\u001b[0m\n\u001b[0;32m    745\u001b[0m \u001b[39mdef\u001b[39;00m \u001b[39m_validate_y_class_weight\u001b[39m(\u001b[39mself\u001b[39m, y):\n\u001b[1;32m--> 746\u001b[0m     check_classification_targets(y)\n\u001b[0;32m    748\u001b[0m     y \u001b[39m=\u001b[39m np\u001b[39m.\u001b[39mcopy(y)\n\u001b[0;32m    749\u001b[0m     expanded_class_weight \u001b[39m=\u001b[39m \u001b[39mNone\u001b[39;00m\n",
      "File \u001b[1;32m~\\AppData\\Local\\Packages\\PythonSoftwareFoundation.Python.3.9_qbz5n2kfra8p0\\LocalCache\\local-packages\\Python39\\site-packages\\sklearn\\utils\\multiclass.py:218\u001b[0m, in \u001b[0;36mcheck_classification_targets\u001b[1;34m(y)\u001b[0m\n\u001b[0;32m    210\u001b[0m y_type \u001b[39m=\u001b[39m type_of_target(y, input_name\u001b[39m=\u001b[39m\u001b[39m\"\u001b[39m\u001b[39my\u001b[39m\u001b[39m\"\u001b[39m)\n\u001b[0;32m    211\u001b[0m \u001b[39mif\u001b[39;00m y_type \u001b[39mnot\u001b[39;00m \u001b[39min\u001b[39;00m [\n\u001b[0;32m    212\u001b[0m     \u001b[39m\"\u001b[39m\u001b[39mbinary\u001b[39m\u001b[39m\"\u001b[39m,\n\u001b[0;32m    213\u001b[0m     \u001b[39m\"\u001b[39m\u001b[39mmulticlass\u001b[39m\u001b[39m\"\u001b[39m,\n\u001b[1;32m   (...)\u001b[0m\n\u001b[0;32m    216\u001b[0m     \u001b[39m\"\u001b[39m\u001b[39mmultilabel-sequences\u001b[39m\u001b[39m\"\u001b[39m,\n\u001b[0;32m    217\u001b[0m ]:\n\u001b[1;32m--> 218\u001b[0m     \u001b[39mraise\u001b[39;00m \u001b[39mValueError\u001b[39;00m(\u001b[39m\"\u001b[39m\u001b[39mUnknown label type: \u001b[39m\u001b[39m%r\u001b[39;00m\u001b[39m\"\u001b[39m \u001b[39m%\u001b[39m y_type)\n",
      "\u001b[1;31mValueError\u001b[0m: Unknown label type: 'continuous'"
     ]
    }
   ],
   "source": [
    "\n",
    "\n",
    "# Caricamento dei dati di addestramento, validazione e test\n",
    "#X_train, X_test, y_train, y_test = train_test_split(xUser__scaled, y, test_size=0.3, random_state=42)\n",
    "\n",
    "# Suddivisione iniziale in set di addestramento + convalida e test\n",
    "x_train_val, x_test, y_train_val, y_test = train_test_split(x_scaled, y, test_size=0.15, random_state=42)\n",
    "\n",
    "# Ulteriore suddivisione del set di addestramento + convalida in set di addestramento e convalida\n",
    "x_train, x_val, y_train, y_val = train_test_split(x_train_val, y_train_val, test_size=0.15, random_state=42)\n",
    "\n",
    "\n",
    "# Creazione del modello KNN\n",
    "clf1 = DecisionTreeClassifier(max_depth=4)\n",
    "clf2 = KNeighborsClassifier(n_neighbors=7)\n",
    "clf3 = SVC(kernel='linear')\n",
    "clf4 = RandomForestClassifier(n_estimators=50)\n",
    "clf5 = MLPClassifier(verbose=True, hidden_layer_sizes=(100,), tol = 0.0001, max_iter = 1000)\n",
    "\n",
    "# Creazione del VotingClassifier\n",
    "voting_clf = VotingClassifier(estimators=[('knn', clf2), ('svc', clf3), ('rf', clf4)], voting='hard')\n",
    "\n",
    "# Addestramento del modello\n",
    "clf4.fit(x_train, y_train)"
   ]
  },
  {
   "cell_type": "code",
   "execution_count": 490,
   "metadata": {},
   "outputs": [
    {
     "name": "stdout",
     "output_type": "stream",
     "text": [
      "Accuracy: 0.1212\n",
      "Precision: 0.0933\n",
      "Recall: 0.0833\n",
      "F1 Score: 0.0822\n"
     ]
    },
    {
     "name": "stderr",
     "output_type": "stream",
     "text": [
      "C:\\Users\\perna\\AppData\\Local\\Packages\\PythonSoftwareFoundation.Python.3.9_qbz5n2kfra8p0\\LocalCache\\local-packages\\Python39\\site-packages\\sklearn\\metrics\\_classification.py:1344: UndefinedMetricWarning: Precision is ill-defined and being set to 0.0 in labels with no predicted samples. Use `zero_division` parameter to control this behavior.\n",
      "  _warn_prf(average, modifier, msg_start, len(result))\n",
      "C:\\Users\\perna\\AppData\\Local\\Packages\\PythonSoftwareFoundation.Python.3.9_qbz5n2kfra8p0\\LocalCache\\local-packages\\Python39\\site-packages\\sklearn\\metrics\\_classification.py:1344: UndefinedMetricWarning: Recall is ill-defined and being set to 0.0 in labels with no true samples. Use `zero_division` parameter to control this behavior.\n",
      "  _warn_prf(average, modifier, msg_start, len(result))\n"
     ]
    }
   ],
   "source": [
    "evaluation_metrics(x_val, y_val, clf4)"
   ]
  },
  {
   "cell_type": "markdown",
   "metadata": {},
   "source": [
    "## GRID SEARCH"
   ]
  },
  {
   "cell_type": "code",
   "execution_count": 287,
   "metadata": {},
   "outputs": [
    {
     "name": "stdout",
     "output_type": "stream",
     "text": [
      "Number of CPUs in the system: 8\n"
     ]
    },
    {
     "name": "stderr",
     "output_type": "stream",
     "text": [
      "C:\\Users\\perna\\AppData\\Local\\Packages\\PythonSoftwareFoundation.Python.3.9_qbz5n2kfra8p0\\LocalCache\\local-packages\\Python39\\site-packages\\sklearn\\model_selection\\_split.py:700: UserWarning: The least populated class in y has only 9 members, which is less than n_splits=10.\n",
      "  warnings.warn(\n"
     ]
    },
    {
     "ename": "KeyboardInterrupt",
     "evalue": "",
     "output_type": "error",
     "traceback": [
      "\u001b[1;31m---------------------------------------------------------------------------\u001b[0m",
      "\u001b[1;31mKeyboardInterrupt\u001b[0m                         Traceback (most recent call last)",
      "Cell \u001b[1;32mIn[287], line 11\u001b[0m\n\u001b[0;32m      5\u001b[0m params \u001b[39m=\u001b[39m {\u001b[39m'\u001b[39m\u001b[39mhidden_layer_sizes\u001b[39m\u001b[39m'\u001b[39m: [(\u001b[39m100\u001b[39m,),(\u001b[39m100\u001b[39m,\u001b[39m100\u001b[39m,),(\u001b[39m100\u001b[39m,\u001b[39m50\u001b[39m,),(\u001b[39m100\u001b[39m,\u001b[39m50\u001b[39m,\u001b[39m50\u001b[39m)],\n\u001b[0;32m      6\u001b[0m           \u001b[39m'\u001b[39m\u001b[39mactivation\u001b[39m\u001b[39m'\u001b[39m: [\u001b[39m'\u001b[39m\u001b[39midentity\u001b[39m\u001b[39m'\u001b[39m,\u001b[39m'\u001b[39m\u001b[39mlogistic\u001b[39m\u001b[39m'\u001b[39m,\u001b[39m'\u001b[39m\u001b[39mtanh\u001b[39m\u001b[39m'\u001b[39m,\u001b[39m'\u001b[39m\u001b[39mrelu\u001b[39m\u001b[39m'\u001b[39m],\n\u001b[0;32m      7\u001b[0m           \u001b[39m'\u001b[39m\u001b[39msolver\u001b[39m\u001b[39m'\u001b[39m:[\u001b[39m'\u001b[39m\u001b[39mlbfgs\u001b[39m\u001b[39m'\u001b[39m,\u001b[39m'\u001b[39m\u001b[39msgd\u001b[39m\u001b[39m'\u001b[39m,\u001b[39m'\u001b[39m\u001b[39madam\u001b[39m\u001b[39m'\u001b[39m],\n\u001b[0;32m      8\u001b[0m           \u001b[39m'\u001b[39m\u001b[39mlearning_rate\u001b[39m\u001b[39m'\u001b[39m:[\u001b[39m'\u001b[39m\u001b[39mconstant\u001b[39m\u001b[39m'\u001b[39m,\u001b[39m'\u001b[39m\u001b[39minvscaling\u001b[39m\u001b[39m'\u001b[39m,\u001b[39m'\u001b[39m\u001b[39madaptive\u001b[39m\u001b[39m'\u001b[39m]}\n\u001b[0;32m     10\u001b[0m clf_optimized \u001b[39m=\u001b[39m GridSearchCV(clf5,param_grid\u001b[39m=\u001b[39mparams,cv\u001b[39m=\u001b[39m\u001b[39m10\u001b[39m,n_jobs\u001b[39m=\u001b[39mn_cpu\u001b[39m-\u001b[39m\u001b[39m1\u001b[39m,refit\u001b[39m=\u001b[39m\u001b[39mTrue\u001b[39;00m)\n\u001b[1;32m---> 11\u001b[0m clf_optimized\u001b[39m.\u001b[39;49mfit(x_train, y_train)\n\u001b[0;32m     12\u001b[0m \u001b[39mprint\u001b[39m(\u001b[39m\"\u001b[39m\u001b[39mMigliori iperparametri:\u001b[39m\u001b[39m\"\u001b[39m,clf_optimized\u001b[39m.\u001b[39mbest_params_)\n",
      "File \u001b[1;32m~\\AppData\\Local\\Packages\\PythonSoftwareFoundation.Python.3.9_qbz5n2kfra8p0\\LocalCache\\local-packages\\Python39\\site-packages\\sklearn\\model_selection\\_search.py:874\u001b[0m, in \u001b[0;36mBaseSearchCV.fit\u001b[1;34m(self, X, y, groups, **fit_params)\u001b[0m\n\u001b[0;32m    868\u001b[0m     results \u001b[39m=\u001b[39m \u001b[39mself\u001b[39m\u001b[39m.\u001b[39m_format_results(\n\u001b[0;32m    869\u001b[0m         all_candidate_params, n_splits, all_out, all_more_results\n\u001b[0;32m    870\u001b[0m     )\n\u001b[0;32m    872\u001b[0m     \u001b[39mreturn\u001b[39;00m results\n\u001b[1;32m--> 874\u001b[0m \u001b[39mself\u001b[39;49m\u001b[39m.\u001b[39;49m_run_search(evaluate_candidates)\n\u001b[0;32m    876\u001b[0m \u001b[39m# multimetric is determined here because in the case of a callable\u001b[39;00m\n\u001b[0;32m    877\u001b[0m \u001b[39m# self.scoring the return type is only known after calling\u001b[39;00m\n\u001b[0;32m    878\u001b[0m first_test_score \u001b[39m=\u001b[39m all_out[\u001b[39m0\u001b[39m][\u001b[39m\"\u001b[39m\u001b[39mtest_scores\u001b[39m\u001b[39m\"\u001b[39m]\n",
      "File \u001b[1;32m~\\AppData\\Local\\Packages\\PythonSoftwareFoundation.Python.3.9_qbz5n2kfra8p0\\LocalCache\\local-packages\\Python39\\site-packages\\sklearn\\model_selection\\_search.py:1388\u001b[0m, in \u001b[0;36mGridSearchCV._run_search\u001b[1;34m(self, evaluate_candidates)\u001b[0m\n\u001b[0;32m   1386\u001b[0m \u001b[39mdef\u001b[39;00m \u001b[39m_run_search\u001b[39m(\u001b[39mself\u001b[39m, evaluate_candidates):\n\u001b[0;32m   1387\u001b[0m \u001b[39m    \u001b[39m\u001b[39m\"\"\"Search all candidates in param_grid\"\"\"\u001b[39;00m\n\u001b[1;32m-> 1388\u001b[0m     evaluate_candidates(ParameterGrid(\u001b[39mself\u001b[39;49m\u001b[39m.\u001b[39;49mparam_grid))\n",
      "File \u001b[1;32m~\\AppData\\Local\\Packages\\PythonSoftwareFoundation.Python.3.9_qbz5n2kfra8p0\\LocalCache\\local-packages\\Python39\\site-packages\\sklearn\\model_selection\\_search.py:821\u001b[0m, in \u001b[0;36mBaseSearchCV.fit.<locals>.evaluate_candidates\u001b[1;34m(candidate_params, cv, more_results)\u001b[0m\n\u001b[0;32m    813\u001b[0m \u001b[39mif\u001b[39;00m \u001b[39mself\u001b[39m\u001b[39m.\u001b[39mverbose \u001b[39m>\u001b[39m \u001b[39m0\u001b[39m:\n\u001b[0;32m    814\u001b[0m     \u001b[39mprint\u001b[39m(\n\u001b[0;32m    815\u001b[0m         \u001b[39m\"\u001b[39m\u001b[39mFitting \u001b[39m\u001b[39m{0}\u001b[39;00m\u001b[39m folds for each of \u001b[39m\u001b[39m{1}\u001b[39;00m\u001b[39m candidates,\u001b[39m\u001b[39m\"\u001b[39m\n\u001b[0;32m    816\u001b[0m         \u001b[39m\"\u001b[39m\u001b[39m totalling \u001b[39m\u001b[39m{2}\u001b[39;00m\u001b[39m fits\u001b[39m\u001b[39m\"\u001b[39m\u001b[39m.\u001b[39mformat(\n\u001b[0;32m    817\u001b[0m             n_splits, n_candidates, n_candidates \u001b[39m*\u001b[39m n_splits\n\u001b[0;32m    818\u001b[0m         )\n\u001b[0;32m    819\u001b[0m     )\n\u001b[1;32m--> 821\u001b[0m out \u001b[39m=\u001b[39m parallel(\n\u001b[0;32m    822\u001b[0m     delayed(_fit_and_score)(\n\u001b[0;32m    823\u001b[0m         clone(base_estimator),\n\u001b[0;32m    824\u001b[0m         X,\n\u001b[0;32m    825\u001b[0m         y,\n\u001b[0;32m    826\u001b[0m         train\u001b[39m=\u001b[39;49mtrain,\n\u001b[0;32m    827\u001b[0m         test\u001b[39m=\u001b[39;49mtest,\n\u001b[0;32m    828\u001b[0m         parameters\u001b[39m=\u001b[39;49mparameters,\n\u001b[0;32m    829\u001b[0m         split_progress\u001b[39m=\u001b[39;49m(split_idx, n_splits),\n\u001b[0;32m    830\u001b[0m         candidate_progress\u001b[39m=\u001b[39;49m(cand_idx, n_candidates),\n\u001b[0;32m    831\u001b[0m         \u001b[39m*\u001b[39;49m\u001b[39m*\u001b[39;49mfit_and_score_kwargs,\n\u001b[0;32m    832\u001b[0m     )\n\u001b[0;32m    833\u001b[0m     \u001b[39mfor\u001b[39;49;00m (cand_idx, parameters), (split_idx, (train, test)) \u001b[39min\u001b[39;49;00m product(\n\u001b[0;32m    834\u001b[0m         \u001b[39menumerate\u001b[39;49m(candidate_params), \u001b[39menumerate\u001b[39;49m(cv\u001b[39m.\u001b[39;49msplit(X, y, groups))\n\u001b[0;32m    835\u001b[0m     )\n\u001b[0;32m    836\u001b[0m )\n\u001b[0;32m    838\u001b[0m \u001b[39mif\u001b[39;00m \u001b[39mlen\u001b[39m(out) \u001b[39m<\u001b[39m \u001b[39m1\u001b[39m:\n\u001b[0;32m    839\u001b[0m     \u001b[39mraise\u001b[39;00m \u001b[39mValueError\u001b[39;00m(\n\u001b[0;32m    840\u001b[0m         \u001b[39m\"\u001b[39m\u001b[39mNo fits were performed. \u001b[39m\u001b[39m\"\u001b[39m\n\u001b[0;32m    841\u001b[0m         \u001b[39m\"\u001b[39m\u001b[39mWas the CV iterator empty? \u001b[39m\u001b[39m\"\u001b[39m\n\u001b[0;32m    842\u001b[0m         \u001b[39m\"\u001b[39m\u001b[39mWere there no candidates?\u001b[39m\u001b[39m\"\u001b[39m\n\u001b[0;32m    843\u001b[0m     )\n",
      "File \u001b[1;32m~\\AppData\\Local\\Packages\\PythonSoftwareFoundation.Python.3.9_qbz5n2kfra8p0\\LocalCache\\local-packages\\Python39\\site-packages\\sklearn\\utils\\parallel.py:63\u001b[0m, in \u001b[0;36mParallel.__call__\u001b[1;34m(self, iterable)\u001b[0m\n\u001b[0;32m     58\u001b[0m config \u001b[39m=\u001b[39m get_config()\n\u001b[0;32m     59\u001b[0m iterable_with_config \u001b[39m=\u001b[39m (\n\u001b[0;32m     60\u001b[0m     (_with_config(delayed_func, config), args, kwargs)\n\u001b[0;32m     61\u001b[0m     \u001b[39mfor\u001b[39;00m delayed_func, args, kwargs \u001b[39min\u001b[39;00m iterable\n\u001b[0;32m     62\u001b[0m )\n\u001b[1;32m---> 63\u001b[0m \u001b[39mreturn\u001b[39;00m \u001b[39msuper\u001b[39;49m()\u001b[39m.\u001b[39;49m\u001b[39m__call__\u001b[39;49m(iterable_with_config)\n",
      "File \u001b[1;32m~\\AppData\\Local\\Packages\\PythonSoftwareFoundation.Python.3.9_qbz5n2kfra8p0\\LocalCache\\local-packages\\Python39\\site-packages\\joblib\\parallel.py:1944\u001b[0m, in \u001b[0;36mParallel.__call__\u001b[1;34m(self, iterable)\u001b[0m\n\u001b[0;32m   1938\u001b[0m \u001b[39m# The first item from the output is blank, but it makes the interpreter\u001b[39;00m\n\u001b[0;32m   1939\u001b[0m \u001b[39m# progress until it enters the Try/Except block of the generator and\u001b[39;00m\n\u001b[0;32m   1940\u001b[0m \u001b[39m# reach the first `yield` statement. This starts the aynchronous\u001b[39;00m\n\u001b[0;32m   1941\u001b[0m \u001b[39m# dispatch of the tasks to the workers.\u001b[39;00m\n\u001b[0;32m   1942\u001b[0m \u001b[39mnext\u001b[39m(output)\n\u001b[1;32m-> 1944\u001b[0m \u001b[39mreturn\u001b[39;00m output \u001b[39mif\u001b[39;00m \u001b[39mself\u001b[39m\u001b[39m.\u001b[39mreturn_generator \u001b[39melse\u001b[39;00m \u001b[39mlist\u001b[39;49m(output)\n",
      "File \u001b[1;32m~\\AppData\\Local\\Packages\\PythonSoftwareFoundation.Python.3.9_qbz5n2kfra8p0\\LocalCache\\local-packages\\Python39\\site-packages\\joblib\\parallel.py:1587\u001b[0m, in \u001b[0;36mParallel._get_outputs\u001b[1;34m(self, iterator, pre_dispatch)\u001b[0m\n\u001b[0;32m   1584\u001b[0m     \u001b[39myield\u001b[39;00m\n\u001b[0;32m   1586\u001b[0m     \u001b[39mwith\u001b[39;00m \u001b[39mself\u001b[39m\u001b[39m.\u001b[39m_backend\u001b[39m.\u001b[39mretrieval_context():\n\u001b[1;32m-> 1587\u001b[0m         \u001b[39myield from\u001b[39;00m \u001b[39mself\u001b[39m\u001b[39m.\u001b[39m_retrieve()\n\u001b[0;32m   1589\u001b[0m \u001b[39mexcept\u001b[39;00m \u001b[39mGeneratorExit\u001b[39;00m:\n\u001b[0;32m   1590\u001b[0m     \u001b[39m# The generator has been garbage collected before being fully\u001b[39;00m\n\u001b[0;32m   1591\u001b[0m     \u001b[39m# consumed. This aborts the remaining tasks if possible and warn\u001b[39;00m\n\u001b[0;32m   1592\u001b[0m     \u001b[39m# the user if necessary.\u001b[39;00m\n\u001b[0;32m   1593\u001b[0m     \u001b[39mself\u001b[39m\u001b[39m.\u001b[39m_exception \u001b[39m=\u001b[39m \u001b[39mTrue\u001b[39;00m\n",
      "File \u001b[1;32m~\\AppData\\Local\\Packages\\PythonSoftwareFoundation.Python.3.9_qbz5n2kfra8p0\\LocalCache\\local-packages\\Python39\\site-packages\\joblib\\parallel.py:1699\u001b[0m, in \u001b[0;36mParallel._retrieve\u001b[1;34m(self)\u001b[0m\n\u001b[0;32m   1694\u001b[0m \u001b[39m# If the next job is not ready for retrieval yet, we just wait for\u001b[39;00m\n\u001b[0;32m   1695\u001b[0m \u001b[39m# async callbacks to progress.\u001b[39;00m\n\u001b[0;32m   1696\u001b[0m \u001b[39mif\u001b[39;00m ((\u001b[39mlen\u001b[39m(\u001b[39mself\u001b[39m\u001b[39m.\u001b[39m_jobs) \u001b[39m==\u001b[39m \u001b[39m0\u001b[39m) \u001b[39mor\u001b[39;00m\n\u001b[0;32m   1697\u001b[0m     (\u001b[39mself\u001b[39m\u001b[39m.\u001b[39m_jobs[\u001b[39m0\u001b[39m]\u001b[39m.\u001b[39mget_status(\n\u001b[0;32m   1698\u001b[0m         timeout\u001b[39m=\u001b[39m\u001b[39mself\u001b[39m\u001b[39m.\u001b[39mtimeout) \u001b[39m==\u001b[39m TASK_PENDING)):\n\u001b[1;32m-> 1699\u001b[0m     time\u001b[39m.\u001b[39;49msleep(\u001b[39m0.01\u001b[39;49m)\n\u001b[0;32m   1700\u001b[0m     \u001b[39mcontinue\u001b[39;00m\n\u001b[0;32m   1702\u001b[0m \u001b[39m# We need to be careful: the job list can be filling up as\u001b[39;00m\n\u001b[0;32m   1703\u001b[0m \u001b[39m# we empty it and Python list are not thread-safe by\u001b[39;00m\n\u001b[0;32m   1704\u001b[0m \u001b[39m# default hence the use of the lock\u001b[39;00m\n",
      "\u001b[1;31mKeyboardInterrupt\u001b[0m: "
     ]
    }
   ],
   "source": [
    "import os\n",
    "n_cpu = os.cpu_count()\n",
    "print(\"Number of CPUs in the system:\", n_cpu)\n",
    "\n",
    "params = {'hidden_layer_sizes': [(100,),(100,100,),(100,50,),(100,50,50)],\n",
    "          'activation': ['identity','logistic','tanh','relu'],\n",
    "          'solver':['lbfgs','sgd','adam'],\n",
    "          'learning_rate':['constant','invscaling','adaptive']}\n",
    "\n",
    "clf_optimized = GridSearchCV(clf5,param_grid=params,cv=10,n_jobs=n_cpu-1,refit=True)\n",
    "clf_optimized.fit(x_train, y_train)\n",
    "print(\"Migliori iperparametri:\",clf_optimized.best_params_)"
   ]
  },
  {
   "cell_type": "code",
   "execution_count": 284,
   "metadata": {},
   "outputs": [
    {
     "name": "stdout",
     "output_type": "stream",
     "text": [
      "Number of CPUs in the system: 8\n"
     ]
    },
    {
     "name": "stderr",
     "output_type": "stream",
     "text": [
      "C:\\Users\\perna\\AppData\\Local\\Packages\\PythonSoftwareFoundation.Python.3.9_qbz5n2kfra8p0\\LocalCache\\local-packages\\Python39\\site-packages\\sklearn\\model_selection\\_split.py:700: UserWarning: The least populated class in y has only 9 members, which is less than n_splits=10.\n",
      "  warnings.warn(\n"
     ]
    },
    {
     "name": "stdout",
     "output_type": "stream",
     "text": [
      "Migliori iperparametri: {'class_weight': 'balanced', 'criterion': 'gini', 'max_depth': 4, 'n_estimators': 50}\n"
     ]
    }
   ],
   "source": [
    "import os\n",
    "n_cpu = os.cpu_count()\n",
    "print(\"Number of CPUs in the system:\", n_cpu)\n",
    "\n",
    "params = {'n_estimators': [50, 100, 200],\n",
    "          'class_weight': ['balanced', None],\n",
    "          'criterion':['gini','entropy','log_loss'],\n",
    "          'max_depth':[4,7,10]}\n",
    "\n",
    "clf_optimized = GridSearchCV(clf4,param_grid=params,cv=10,n_jobs=n_cpu-1,refit=True)\n",
    "clf_optimized.fit(x_train, y_train)\n",
    "print(\"Migliori iperparametri:\",clf_optimized.best_params_)"
   ]
  },
  {
   "cell_type": "code",
   "execution_count": 279,
   "metadata": {},
   "outputs": [
    {
     "name": "stdout",
     "output_type": "stream",
     "text": [
      "Number of CPUs in the system: 8\n"
     ]
    },
    {
     "name": "stderr",
     "output_type": "stream",
     "text": [
      "C:\\Users\\perna\\AppData\\Local\\Packages\\PythonSoftwareFoundation.Python.3.9_qbz5n2kfra8p0\\LocalCache\\local-packages\\Python39\\site-packages\\sklearn\\model_selection\\_split.py:700: UserWarning: The least populated class in y has only 9 members, which is less than n_splits=10.\n",
      "  warnings.warn(\n"
     ]
    },
    {
     "name": "stdout",
     "output_type": "stream",
     "text": [
      "Migliori iperparametri: {'C': 1, 'class_weight': 'balanced'}\n"
     ]
    }
   ],
   "source": [
    "import os\n",
    "n_cpu = os.cpu_count()\n",
    "print(\"Number of CPUs in the system:\", n_cpu)\n",
    "\n",
    "params = {'C': [1, 2, 3],\n",
    "          'class_weight': ['balanced', None]}\n",
    "\n",
    "clf_optimized = GridSearchCV(clf3,param_grid=params,cv=10,n_jobs=n_cpu-1,refit=True)\n",
    "clf_optimized.fit(x_train, y_train)\n",
    "print(\"Migliori iperparametri:\",clf_optimized.best_params_)"
   ]
  },
  {
   "cell_type": "code",
   "execution_count": 276,
   "metadata": {},
   "outputs": [
    {
     "name": "stdout",
     "output_type": "stream",
     "text": [
      "Number of CPUs in the system: 8\n",
      "Migliori iperparametri: {'algorithm': 'kd_tree', 'n_neighbors': 8, 'weights': 'distance'}\n"
     ]
    }
   ],
   "source": [
    "import os\n",
    "n_cpu = os.cpu_count()\n",
    "print(\"Number of CPUs in the system:\", n_cpu)\n",
    "\n",
    "params = {'n_neighbors': [3, 5, 8, 10],\n",
    "          'weights': ['uniform','distance'],\n",
    "          'algorithm': ['auto', 'ball_tree', 'kd_tree', 'brute']}\n",
    "\n",
    "clf_optimized = GridSearchCV(clf2,param_grid=params,cv=5, n_jobs=n_cpu-1,refit=True)\n",
    "clf_optimized.fit(x_train, y_train)\n",
    "print(\"Migliori iperparametri:\",clf_optimized.best_params_)"
   ]
  },
  {
   "cell_type": "code",
   "execution_count": 229,
   "metadata": {},
   "outputs": [
    {
     "name": "stdout",
     "output_type": "stream",
     "text": [
      "Number of CPUs in the system: 8\n"
     ]
    },
    {
     "name": "stdout",
     "output_type": "stream",
     "text": [
      "Migliori iperparametri: {'class_weight': 'balanced', 'max_depth': 10, 'max_features': 'sqrt', 'splitter': 'best'}\n"
     ]
    }
   ],
   "source": [
    "import os\n",
    "n_cpu = os.cpu_count()\n",
    "print(\"Number of CPUs in the system:\", n_cpu)\n",
    "\n",
    "params = {'splitter': ['best','random'],\n",
    "          'max_features': ['sqrt','log2','auto'],\n",
    "          'class_weight': ['balanced', None],\n",
    "          'max_depth': [4, 7, 10]}\n",
    "\n",
    "clf_optimized = GridSearchCV(clf1,param_grid=params,cv=5,n_jobs=n_cpu-1,refit=True)\n",
    "clf_optimized.fit(x_train, y_train)\n",
    "print(\"Migliori iperparametri:\",clf_optimized.best_params_)"
   ]
  },
  {
   "cell_type": "code",
   "execution_count": 282,
   "metadata": {},
   "outputs": [
    {
     "data": {
      "text/html": [
       "<style>#sk-container-id-64 {color: black;background-color: white;}#sk-container-id-64 pre{padding: 0;}#sk-container-id-64 div.sk-toggleable {background-color: white;}#sk-container-id-64 label.sk-toggleable__label {cursor: pointer;display: block;width: 100%;margin-bottom: 0;padding: 0.3em;box-sizing: border-box;text-align: center;}#sk-container-id-64 label.sk-toggleable__label-arrow:before {content: \"▸\";float: left;margin-right: 0.25em;color: #696969;}#sk-container-id-64 label.sk-toggleable__label-arrow:hover:before {color: black;}#sk-container-id-64 div.sk-estimator:hover label.sk-toggleable__label-arrow:before {color: black;}#sk-container-id-64 div.sk-toggleable__content {max-height: 0;max-width: 0;overflow: hidden;text-align: left;background-color: #f0f8ff;}#sk-container-id-64 div.sk-toggleable__content pre {margin: 0.2em;color: black;border-radius: 0.25em;background-color: #f0f8ff;}#sk-container-id-64 input.sk-toggleable__control:checked~div.sk-toggleable__content {max-height: 200px;max-width: 100%;overflow: auto;}#sk-container-id-64 input.sk-toggleable__control:checked~label.sk-toggleable__label-arrow:before {content: \"▾\";}#sk-container-id-64 div.sk-estimator input.sk-toggleable__control:checked~label.sk-toggleable__label {background-color: #d4ebff;}#sk-container-id-64 div.sk-label input.sk-toggleable__control:checked~label.sk-toggleable__label {background-color: #d4ebff;}#sk-container-id-64 input.sk-hidden--visually {border: 0;clip: rect(1px 1px 1px 1px);clip: rect(1px, 1px, 1px, 1px);height: 1px;margin: -1px;overflow: hidden;padding: 0;position: absolute;width: 1px;}#sk-container-id-64 div.sk-estimator {font-family: monospace;background-color: #f0f8ff;border: 1px dotted black;border-radius: 0.25em;box-sizing: border-box;margin-bottom: 0.5em;}#sk-container-id-64 div.sk-estimator:hover {background-color: #d4ebff;}#sk-container-id-64 div.sk-parallel-item::after {content: \"\";width: 100%;border-bottom: 1px solid gray;flex-grow: 1;}#sk-container-id-64 div.sk-label:hover label.sk-toggleable__label {background-color: #d4ebff;}#sk-container-id-64 div.sk-serial::before {content: \"\";position: absolute;border-left: 1px solid gray;box-sizing: border-box;top: 0;bottom: 0;left: 50%;z-index: 0;}#sk-container-id-64 div.sk-serial {display: flex;flex-direction: column;align-items: center;background-color: white;padding-right: 0.2em;padding-left: 0.2em;position: relative;}#sk-container-id-64 div.sk-item {position: relative;z-index: 1;}#sk-container-id-64 div.sk-parallel {display: flex;align-items: stretch;justify-content: center;background-color: white;position: relative;}#sk-container-id-64 div.sk-item::before, #sk-container-id-64 div.sk-parallel-item::before {content: \"\";position: absolute;border-left: 1px solid gray;box-sizing: border-box;top: 0;bottom: 0;left: 50%;z-index: -1;}#sk-container-id-64 div.sk-parallel-item {display: flex;flex-direction: column;z-index: 1;position: relative;background-color: white;}#sk-container-id-64 div.sk-parallel-item:first-child::after {align-self: flex-end;width: 50%;}#sk-container-id-64 div.sk-parallel-item:last-child::after {align-self: flex-start;width: 50%;}#sk-container-id-64 div.sk-parallel-item:only-child::after {width: 0;}#sk-container-id-64 div.sk-dashed-wrapped {border: 1px dashed gray;margin: 0 0.4em 0.5em 0.4em;box-sizing: border-box;padding-bottom: 0.4em;background-color: white;}#sk-container-id-64 div.sk-label label {font-family: monospace;font-weight: bold;display: inline-block;line-height: 1.2em;}#sk-container-id-64 div.sk-label-container {text-align: center;}#sk-container-id-64 div.sk-container {/* jupyter's `normalize.less` sets `[hidden] { display: none; }` but bootstrap.min.css set `[hidden] { display: none !important; }` so we also need the `!important` here to be able to override the default hidden behavior on the sphinx rendered scikit-learn.org. See: https://github.com/scikit-learn/scikit-learn/issues/21755 */display: inline-block !important;position: relative;}#sk-container-id-64 div.sk-text-repr-fallback {display: none;}</style><div id=\"sk-container-id-64\" class=\"sk-top-container\"><div class=\"sk-text-repr-fallback\"><pre>RandomForestClassifier(class_weight=&#x27;balanced&#x27;, max_depth=4, n_estimators=50)</pre><b>In a Jupyter environment, please rerun this cell to show the HTML representation or trust the notebook. <br />On GitHub, the HTML representation is unable to render, please try loading this page with nbviewer.org.</b></div><div class=\"sk-container\" hidden><div class=\"sk-item\"><div class=\"sk-estimator sk-toggleable\"><input class=\"sk-toggleable__control sk-hidden--visually\" id=\"sk-estimator-id-80\" type=\"checkbox\" checked><label for=\"sk-estimator-id-80\" class=\"sk-toggleable__label sk-toggleable__label-arrow\">RandomForestClassifier</label><div class=\"sk-toggleable__content\"><pre>RandomForestClassifier(class_weight=&#x27;balanced&#x27;, max_depth=4, n_estimators=50)</pre></div></div></div></div></div>"
      ],
      "text/plain": [
       "RandomForestClassifier(class_weight='balanced', max_depth=4, n_estimators=50)"
      ]
     },
     "execution_count": 282,
     "metadata": {},
     "output_type": "execute_result"
    }
   ],
   "source": [
    "# Assegnazione dei migliori parametri al classificatore\n",
    "best_params = clf_optimized.best_params_\n",
    "clf4.set_params(**best_params)\n",
    "clf4.fit(x_train,y_train)\n",
    "\n"
   ]
  },
  {
   "cell_type": "code",
   "execution_count": 217,
   "metadata": {},
   "outputs": [],
   "source": [
    "def evaluation_metrics(x, y, clf):\n",
    "\n",
    "    y_pred = clf.predict(x)\n",
    "\n",
    "    accuracy = accuracy_score(y, y_pred)\n",
    "    precision = precision_score(y, y_pred, average=\"macro\")\n",
    "    recall = recall_score(y, y_pred, average=\"macro\")\n",
    "    f1 = f1_score(y, y_pred, average=\"macro\")\n",
    "\n",
    "    print(\"Accuracy: {:.4f}\".format(accuracy))\n",
    "    print(\"Precision: {:.4f}\".format(precision))\n",
    "    print(\"Recall: {:.4f}\".format(recall))\n",
    "    print(\"F1 Score: {:.4f}\".format(f1))"
   ]
  },
  {
   "cell_type": "code",
   "execution_count": 283,
   "metadata": {},
   "outputs": [
    {
     "name": "stdout",
     "output_type": "stream",
     "text": [
      "Accuracy: 0.9831\n",
      "Precision: 0.8909\n",
      "Recall: 0.9167\n",
      "F1 Score: 0.9027\n"
     ]
    },
    {
     "name": "stderr",
     "output_type": "stream",
     "text": [
      "C:\\Users\\perna\\AppData\\Local\\Packages\\PythonSoftwareFoundation.Python.3.9_qbz5n2kfra8p0\\LocalCache\\local-packages\\Python39\\site-packages\\sklearn\\metrics\\_classification.py:1344: UndefinedMetricWarning: Precision is ill-defined and being set to 0.0 in labels with no predicted samples. Use `zero_division` parameter to control this behavior.\n",
      "  _warn_prf(average, modifier, msg_start, len(result))\n"
     ]
    }
   ],
   "source": [
    "evaluation_metrics(x_test, y_test, clf4)"
   ]
  },
  {
   "cell_type": "code",
   "execution_count": 3,
   "metadata": {},
   "outputs": [
    {
     "name": "stdout",
     "output_type": "stream",
     "text": [
      "      Meal_Id                 Name catagory  \\\n",
      "0           1  summer squash salad    salad   \n",
      "1           1  summer squash salad    salad   \n",
      "2           1  summer squash salad    salad   \n",
      "3           1  summer squash salad    salad   \n",
      "4           1  summer squash salad    salad   \n",
      "...       ...                  ...      ...   \n",
      "7231      309          puffed rice     rice   \n",
      "7232      309          puffed rice     rice   \n",
      "7233      309          puffed rice     rice   \n",
      "7234      309          puffed rice     rice   \n",
      "7235      309          puffed rice     rice   \n",
      "\n",
      "                                            description  Veg_Non   Nutrient  \\\n",
      "0     white balsamic vinegar,lemon juice,lemon rind,...      veg      fiber   \n",
      "1     white balsamic vinegar,lemon juice,lemon rind,...      veg      fiber   \n",
      "2     white balsamic vinegar,lemon juice,lemon rind,...      veg      fiber   \n",
      "3     white balsamic vinegar,lemon juice,lemon rind,...      veg      fiber   \n",
      "4     white balsamic vinegar,lemon juice,lemon rind,...      veg      fiber   \n",
      "...                                                 ...      ...        ...   \n",
      "7231                               grain made from rice  non-veg  vitamin_a   \n",
      "7232                               grain made from rice  non-veg  vitamin_a   \n",
      "7233                               grain made from rice  non-veg  vitamin_a   \n",
      "7234                               grain made from rice  non-veg  vitamin_a   \n",
      "7235                               grain made from rice  non-veg  vitamin_a   \n",
      "\n",
      "        Disease               Diet  \n",
      "0       obesity      alkaline_diet  \n",
      "1       obesity       low_fat_diet  \n",
      "2       obesity     ketogenic_diet  \n",
      "3       obesity    low_sodium_diet  \n",
      "4       obesity    high_fiber_diet  \n",
      "...         ...                ...  \n",
      "7231  pregnancy     ketogenic_diet  \n",
      "7232  diabeties    low_sodium_diet  \n",
      "7233  diabeties  high_protien_diet  \n",
      "7234  diabeties       low_fat_diet  \n",
      "7235  diabeties     ketogenic_diet  \n",
      "\n",
      "[7236 rows x 8 columns]\n"
     ]
    }
   ],
   "source": [
    "dataset = pd.read_csv(\"../Dataset/Processed/mealsProcessed.csv\")\n",
    "dataset.set_index(\"Meal_Id\")\n",
    "#Seprating dataset into input and output values\n",
    "#print(x.to_string())\n",
    "x = dataset[['Meal_Id','Name','catagory','description','Veg_Non','Nutrient','Disease','Diet']]\n",
    "x1 = dataset[['catagory','Veg_Non','Nutrient','Diet']]\n",
    "#x.drop_duplicates(subset=['Meal_Id'], keep = 'first')\n",
    "print(x)"
   ]
  },
  {
   "cell_type": "markdown",
   "metadata": {},
   "source": [
    "## encoder"
   ]
  },
  {
   "cell_type": "code",
   "execution_count": 4,
   "metadata": {},
   "outputs": [],
   "source": [
    "# Creazione dell'oggetto LabelEncoder\n",
    "label_encoder = LabelEncoder()\n",
    "\n",
    "# Codifica delle variabili categoriche come valori numerici\n",
    "X_encoded = x1.copy()\n",
    "#X_encoded['Name'] = label_encoder.fit_transform(x['Name'])\n",
    "X_encoded['catagory'] = label_encoder.fit_transform(x1['catagory'])\n",
    "#X_encoded['description'] = label_encoder.fit_transform(x['description'])\n",
    "X_encoded['Veg_Non'] = label_encoder.fit_transform(x1['Veg_Non'])\n",
    "X_encoded['Nutrient'] = label_encoder.fit_transform(x1['Nutrient'])\n",
    "#X_encoded['Disease'] = label_encoder.fit_transform(x['Disease'])\n",
    "X_encoded['Diet'] = label_encoder.fit_transform(x1['Diet'])\n"
   ]
  },
  {
   "cell_type": "code",
   "execution_count": 5,
   "metadata": {},
   "outputs": [],
   "source": [
    "from sklearn.preprocessing import OneHotEncoder\n",
    "\n",
    "# Creazione dell'oggetto OneHotEncoder\n",
    "encoder = OneHotEncoder()\n",
    "X_encoded = X_encoded.values\n",
    "# Adattamento del modello agli dati\n",
    "encoder.fit(X_encoded)\n",
    "\n",
    "# Trasformazione dei dati di addestramento\n",
    "X_encoded = encoder.transform(X_encoded).toarray()\n"
   ]
  },
  {
   "cell_type": "markdown",
   "metadata": {},
   "source": [
    "## Standard scaler"
   ]
  },
  {
   "cell_type": "code",
   "execution_count": 6,
   "metadata": {},
   "outputs": [],
   "source": [
    "from sklearn.preprocessing import StandardScaler\n",
    "\n",
    "# Creazione di un oggetto StandardScaler\n",
    "scaler = StandardScaler()\n",
    "\n",
    "# Trasformazione e adattamento dei dati di addestramento\n",
    "X_scaled = scaler.fit_transform(X_encoded)"
   ]
  },
  {
   "cell_type": "code",
   "execution_count": 83,
   "metadata": {},
   "outputs": [
    {
     "name": "stdout",
     "output_type": "stream",
     "text": [
      "[[-0.07071068 -0.05768697 -0.1304083  ... -0.086711   -0.38686735\n",
      "  -0.18680745]\n",
      " [-0.07071068 -0.05768697 -0.1304083  ... -0.086711   -0.38686735\n",
      "  -0.18680745]\n",
      " [-0.07071068 -0.05768697 -0.1304083  ... -0.086711   -0.38686735\n",
      "  -0.18680745]\n",
      " ...\n",
      " [-0.07071068 -0.05768697 -0.1304083  ... -0.086711   -0.38686735\n",
      "  -0.18680745]\n",
      " [-0.07071068 -0.05768697 -0.1304083  ... -0.086711   -0.38686735\n",
      "  -0.18680745]\n",
      " [-0.07071068 -0.05768697 -0.1304083  ... -0.086711   -0.38686735\n",
      "  -0.18680745]]\n"
     ]
    }
   ],
   "source": [
    "print(X_scaled)"
   ]
  },
  {
   "cell_type": "markdown",
   "metadata": {},
   "source": [
    "## Oversampling"
   ]
  },
  {
   "cell_type": "code",
   "execution_count": 6,
   "metadata": {},
   "outputs": [],
   "source": [
    "#%pip install scikit-learn==1.2.2"
   ]
  },
  {
   "cell_type": "code",
   "execution_count": 44,
   "metadata": {},
   "outputs": [
    {
     "ename": "TypeError",
     "evalue": "fit_resample() missing 1 required positional argument: 'y'",
     "output_type": "error",
     "traceback": [
      "\u001b[1;31m---------------------------------------------------------------------------\u001b[0m",
      "\u001b[1;31mTypeError\u001b[0m                                 Traceback (most recent call last)",
      "Cell \u001b[1;32mIn[44], line 9\u001b[0m\n\u001b[0;32m      7\u001b[0m ros \u001b[39m=\u001b[39m RandomOverSampler()\n\u001b[0;32m      8\u001b[0m \u001b[39m# resampling X, y\u001b[39;00m\n\u001b[1;32m----> 9\u001b[0m x_ros \u001b[39m=\u001b[39m ros\u001b[39m.\u001b[39;49mfit_resample(X_scaled)\n\u001b[0;32m     10\u001b[0m \u001b[39m# new class distribution \u001b[39;00m\n\u001b[0;32m     11\u001b[0m Counter({\u001b[39m0\u001b[39m: \u001b[39m9844\u001b[39m, \u001b[39m1\u001b[39m: \u001b[39m9844\u001b[39m})\n",
      "\u001b[1;31mTypeError\u001b[0m: fit_resample() missing 1 required positional argument: 'y'"
     ]
    }
   ],
   "source": [
    "from sklearn.utils._param_validation import _MissingValues\n",
    "from imblearn.over_sampling import RandomOverSampler\n",
    "from collections import Counter\n",
    "\n",
    "\n",
    "# instantiating the random over sampler \n",
    "ros = RandomOverSampler()\n",
    "# resampling X, y\n",
    "x_ros = ros.fit_resample(X_scaled)\n",
    "# new class distribution \n",
    "Counter({0: 9844, 1: 9844})"
   ]
  },
  {
   "cell_type": "code",
   "execution_count": null,
   "metadata": {},
   "outputs": [
    {
     "name": "stdout",
     "output_type": "stream",
     "text": [
      "     bmi  gender  age\n",
      "0     17       1   38\n",
      "1     11       1   34\n",
      "2     13       1   32\n",
      "3     15       1   45\n",
      "4     18       1   48\n",
      "..   ...     ...  ...\n",
      "547   15       0   31\n",
      "548   16       0   35\n",
      "549   16       0   35\n",
      "550   16       1   47\n",
      "551   16       1   47\n",
      "\n",
      "[552 rows x 3 columns]\n"
     ]
    }
   ],
   "source": [
    "print(x_ros)"
   ]
  },
  {
   "cell_type": "code",
   "execution_count": null,
   "metadata": {},
   "outputs": [
    {
     "name": "stdout",
     "output_type": "stream",
     "text": [
      "0      2111\n",
      "1      2288\n",
      "2      2660\n",
      "3      2255\n",
      "4      2604\n",
      "       ... \n",
      "547    2778\n",
      "548    2885\n",
      "549    2885\n",
      "550    3084\n",
      "551    3084\n",
      "Name: calorie_intake, Length: 552, dtype: int64\n"
     ]
    }
   ],
   "source": [
    "print(y_ros)"
   ]
  },
  {
   "cell_type": "markdown",
   "metadata": {},
   "source": [
    "## Gerarchico\n",
    "\n",
    "In questa parte vogliamo analizzare in base a cosa potrebbero essere raggruppate le varie diete"
   ]
  },
  {
   "cell_type": "code",
   "execution_count": 7,
   "metadata": {},
   "outputs": [
    {
     "data": {
      "image/png": "[encoded data removed]",
      "text/plain": [
       "<Figure size 1000x600 with 1 Axes>"
      ]
     },
     "metadata": {},
     "output_type": "display_data"
    }
   ],
   "source": [
    "from scipy.cluster.hierarchy import dendrogram, linkage\n",
    "\n",
    "# Calcolo della matrice di linkage utilizzando il metodo di collegamento \"ward\"\n",
    "Z = linkage(X_scaled, method='ward')\n",
    "\n",
    "# Creazione del dendrogramma\n",
    "plt.figure(figsize=(10, 6))\n",
    "dendrogram(Z)\n",
    "plt.xlabel('Sample index')\n",
    "plt.ylabel('Distance')\n",
    "plt.title('Dendrogram')\n",
    "plt.show()"
   ]
  },
  {
   "cell_type": "code",
   "execution_count": 10,
   "metadata": {},
   "outputs": [],
   "source": [
    "from sklearn.cluster import AgglomerativeClustering\n",
    "\n",
    "# Crea un oggetto di clustering gerarchico\n",
    "clustering = AgglomerativeClustering(n_clusters=120, metric='euclidean', linkage='ward')\n",
    "\n",
    "# Adatta il modello ai dati\n",
    "clustering.fit(X_scaled)\n",
    "\n",
    "# Ottieni le etichette dei cluster per ogni punto dati\n",
    "labels = clustering.labels_\n",
    "\n"
   ]
  },
  {
   "cell_type": "code",
   "execution_count": 12,
   "metadata": {},
   "outputs": [
    {
     "name": "stdout",
     "output_type": "stream",
     "text": [
      "[22  4  4 ... 10 10 11]\n"
     ]
    }
   ],
   "source": [
    "# Stampa le etichette dei cluster\n",
    "print(labels)\n"
   ]
  },
  {
   "cell_type": "markdown",
   "metadata": {},
   "source": [
    "## Kmeans"
   ]
  },
  {
   "cell_type": "code",
   "execution_count": 13,
   "metadata": {},
   "outputs": [
    {
     "ename": "KeyboardInterrupt",
     "evalue": "",
     "output_type": "error",
     "traceback": [
      "\u001b[1;31m---------------------------------------------------------------------------\u001b[0m",
      "\u001b[1;31mKeyboardInterrupt\u001b[0m                         Traceback (most recent call last)",
      "Cell \u001b[1;32mIn[13], line 8\u001b[0m\n\u001b[0;32m      6\u001b[0m \u001b[39mfor\u001b[39;00m k \u001b[39min\u001b[39;00m k_values:\n\u001b[0;32m      7\u001b[0m     kmeans \u001b[39m=\u001b[39m KMeans(n_clusters\u001b[39m=\u001b[39mk, random_state\u001b[39m=\u001b[39m\u001b[39m0\u001b[39m, n_init \u001b[39m=\u001b[39m \u001b[39m10\u001b[39m)\n\u001b[1;32m----> 8\u001b[0m     kmeans\u001b[39m.\u001b[39;49mfit(X_scaled)\n\u001b[0;32m      9\u001b[0m     labels \u001b[39m=\u001b[39m kmeans\u001b[39m.\u001b[39mlabels_\n\u001b[0;32m     10\u001b[0m     silhouette_scores\u001b[39m.\u001b[39mappend(silhouette_score(X_scaled, labels))\n",
      "File \u001b[1;32m~\\AppData\\Local\\Packages\\PythonSoftwareFoundation.Python.3.9_qbz5n2kfra8p0\\LocalCache\\local-packages\\Python39\\site-packages\\sklearn\\cluster\\_kmeans.py:1461\u001b[0m, in \u001b[0;36mKMeans.fit\u001b[1;34m(self, X, y, sample_weight)\u001b[0m\n\u001b[0;32m   1457\u001b[0m best_inertia, best_labels \u001b[39m=\u001b[39m \u001b[39mNone\u001b[39;00m, \u001b[39mNone\u001b[39;00m\n\u001b[0;32m   1459\u001b[0m \u001b[39mfor\u001b[39;00m i \u001b[39min\u001b[39;00m \u001b[39mrange\u001b[39m(\u001b[39mself\u001b[39m\u001b[39m.\u001b[39m_n_init):\n\u001b[0;32m   1460\u001b[0m     \u001b[39m# Initialize centers\u001b[39;00m\n\u001b[1;32m-> 1461\u001b[0m     centers_init \u001b[39m=\u001b[39m \u001b[39mself\u001b[39;49m\u001b[39m.\u001b[39;49m_init_centroids(\n\u001b[0;32m   1462\u001b[0m         X, x_squared_norms\u001b[39m=\u001b[39;49mx_squared_norms, init\u001b[39m=\u001b[39;49minit, random_state\u001b[39m=\u001b[39;49mrandom_state\n\u001b[0;32m   1463\u001b[0m     )\n\u001b[0;32m   1464\u001b[0m     \u001b[39mif\u001b[39;00m \u001b[39mself\u001b[39m\u001b[39m.\u001b[39mverbose:\n\u001b[0;32m   1465\u001b[0m         \u001b[39mprint\u001b[39m(\u001b[39m\"\u001b[39m\u001b[39mInitialization complete\u001b[39m\u001b[39m\"\u001b[39m)\n",
      "File \u001b[1;32m~\\AppData\\Local\\Packages\\PythonSoftwareFoundation.Python.3.9_qbz5n2kfra8p0\\LocalCache\\local-packages\\Python39\\site-packages\\sklearn\\cluster\\_kmeans.py:989\u001b[0m, in \u001b[0;36m_BaseKMeans._init_centroids\u001b[1;34m(self, X, x_squared_norms, init, random_state, init_size, n_centroids)\u001b[0m\n\u001b[0;32m    986\u001b[0m     n_samples \u001b[39m=\u001b[39m X\u001b[39m.\u001b[39mshape[\u001b[39m0\u001b[39m]\n\u001b[0;32m    988\u001b[0m \u001b[39mif\u001b[39;00m \u001b[39misinstance\u001b[39m(init, \u001b[39mstr\u001b[39m) \u001b[39mand\u001b[39;00m init \u001b[39m==\u001b[39m \u001b[39m\"\u001b[39m\u001b[39mk-means++\u001b[39m\u001b[39m\"\u001b[39m:\n\u001b[1;32m--> 989\u001b[0m     centers, _ \u001b[39m=\u001b[39m _kmeans_plusplus(\n\u001b[0;32m    990\u001b[0m         X,\n\u001b[0;32m    991\u001b[0m         n_clusters,\n\u001b[0;32m    992\u001b[0m         random_state\u001b[39m=\u001b[39;49mrandom_state,\n\u001b[0;32m    993\u001b[0m         x_squared_norms\u001b[39m=\u001b[39;49mx_squared_norms,\n\u001b[0;32m    994\u001b[0m     )\n\u001b[0;32m    995\u001b[0m \u001b[39melif\u001b[39;00m \u001b[39misinstance\u001b[39m(init, \u001b[39mstr\u001b[39m) \u001b[39mand\u001b[39;00m init \u001b[39m==\u001b[39m \u001b[39m\"\u001b[39m\u001b[39mrandom\u001b[39m\u001b[39m\"\u001b[39m:\n\u001b[0;32m    996\u001b[0m     seeds \u001b[39m=\u001b[39m random_state\u001b[39m.\u001b[39mpermutation(n_samples)[:n_clusters]\n",
      "File \u001b[1;32m~\\AppData\\Local\\Packages\\PythonSoftwareFoundation.Python.3.9_qbz5n2kfra8p0\\LocalCache\\local-packages\\Python39\\site-packages\\sklearn\\cluster\\_kmeans.py:229\u001b[0m, in \u001b[0;36m_kmeans_plusplus\u001b[1;34m(X, n_clusters, x_squared_norms, random_state, n_local_trials)\u001b[0m\n\u001b[0;32m    225\u001b[0m \u001b[39mfor\u001b[39;00m c \u001b[39min\u001b[39;00m \u001b[39mrange\u001b[39m(\u001b[39m1\u001b[39m, n_clusters):\n\u001b[0;32m    226\u001b[0m     \u001b[39m# Choose center candidates by sampling with probability proportional\u001b[39;00m\n\u001b[0;32m    227\u001b[0m     \u001b[39m# to the squared distance to the closest existing center\u001b[39;00m\n\u001b[0;32m    228\u001b[0m     rand_vals \u001b[39m=\u001b[39m random_state\u001b[39m.\u001b[39muniform(size\u001b[39m=\u001b[39mn_local_trials) \u001b[39m*\u001b[39m current_pot\n\u001b[1;32m--> 229\u001b[0m     candidate_ids \u001b[39m=\u001b[39m np\u001b[39m.\u001b[39msearchsorted(stable_cumsum(closest_dist_sq), rand_vals)\n\u001b[0;32m    230\u001b[0m     \u001b[39m# XXX: numerical imprecision can result in a candidate_id out of range\u001b[39;00m\n\u001b[0;32m    231\u001b[0m     np\u001b[39m.\u001b[39mclip(candidate_ids, \u001b[39mNone\u001b[39;00m, closest_dist_sq\u001b[39m.\u001b[39msize \u001b[39m-\u001b[39m \u001b[39m1\u001b[39m, out\u001b[39m=\u001b[39mcandidate_ids)\n",
      "File \u001b[1;32m~\\AppData\\Local\\Packages\\PythonSoftwareFoundation.Python.3.9_qbz5n2kfra8p0\\LocalCache\\local-packages\\Python39\\site-packages\\sklearn\\utils\\extmath.py:1138\u001b[0m, in \u001b[0;36mstable_cumsum\u001b[1;34m(arr, axis, rtol, atol)\u001b[0m\n\u001b[0;32m   1115\u001b[0m \u001b[39mdef\u001b[39;00m \u001b[39mstable_cumsum\u001b[39m(arr, axis\u001b[39m=\u001b[39m\u001b[39mNone\u001b[39;00m, rtol\u001b[39m=\u001b[39m\u001b[39m1e-05\u001b[39m, atol\u001b[39m=\u001b[39m\u001b[39m1e-08\u001b[39m):\n\u001b[0;32m   1116\u001b[0m \u001b[39m    \u001b[39m\u001b[39m\"\"\"Use high precision for cumsum and check that final value matches sum.\u001b[39;00m\n\u001b[0;32m   1117\u001b[0m \n\u001b[0;32m   1118\u001b[0m \u001b[39m    Warns if the final cumulative sum does not match the sum (up to the chosen\u001b[39;00m\n\u001b[1;32m   (...)\u001b[0m\n\u001b[0;32m   1136\u001b[0m \u001b[39m        Array with the cumulative sums along the chosen axis.\u001b[39;00m\n\u001b[0;32m   1137\u001b[0m \u001b[39m    \"\"\"\u001b[39;00m\n\u001b[1;32m-> 1138\u001b[0m     out \u001b[39m=\u001b[39m np\u001b[39m.\u001b[39;49mcumsum(arr, axis\u001b[39m=\u001b[39;49maxis, dtype\u001b[39m=\u001b[39;49mnp\u001b[39m.\u001b[39;49mfloat64)\n\u001b[0;32m   1139\u001b[0m     expected \u001b[39m=\u001b[39m np\u001b[39m.\u001b[39msum(arr, axis\u001b[39m=\u001b[39maxis, dtype\u001b[39m=\u001b[39mnp\u001b[39m.\u001b[39mfloat64)\n\u001b[0;32m   1140\u001b[0m     \u001b[39mif\u001b[39;00m \u001b[39mnot\u001b[39;00m np\u001b[39m.\u001b[39mall(\n\u001b[0;32m   1141\u001b[0m         np\u001b[39m.\u001b[39misclose(\n\u001b[0;32m   1142\u001b[0m             out\u001b[39m.\u001b[39mtake(\u001b[39m-\u001b[39m\u001b[39m1\u001b[39m, axis\u001b[39m=\u001b[39maxis), expected, rtol\u001b[39m=\u001b[39mrtol, atol\u001b[39m=\u001b[39matol, equal_nan\u001b[39m=\u001b[39m\u001b[39mTrue\u001b[39;00m\n\u001b[0;32m   1143\u001b[0m         )\n\u001b[0;32m   1144\u001b[0m     ):\n",
      "File \u001b[1;32m<__array_function__ internals>:200\u001b[0m, in \u001b[0;36mcumsum\u001b[1;34m(*args, **kwargs)\u001b[0m\n",
      "File \u001b[1;32m~\\AppData\\Local\\Packages\\PythonSoftwareFoundation.Python.3.9_qbz5n2kfra8p0\\LocalCache\\local-packages\\Python39\\site-packages\\numpy\\core\\fromnumeric.py:2597\u001b[0m, in \u001b[0;36mcumsum\u001b[1;34m(a, axis, dtype, out)\u001b[0m\n\u001b[0;32m   2523\u001b[0m \u001b[39m@array_function_dispatch\u001b[39m(_cumsum_dispatcher)\n\u001b[0;32m   2524\u001b[0m \u001b[39mdef\u001b[39;00m \u001b[39mcumsum\u001b[39m(a, axis\u001b[39m=\u001b[39m\u001b[39mNone\u001b[39;00m, dtype\u001b[39m=\u001b[39m\u001b[39mNone\u001b[39;00m, out\u001b[39m=\u001b[39m\u001b[39mNone\u001b[39;00m):\n\u001b[0;32m   2525\u001b[0m \u001b[39m    \u001b[39m\u001b[39m\"\"\"\u001b[39;00m\n\u001b[0;32m   2526\u001b[0m \u001b[39m    Return the cumulative sum of the elements along a given axis.\u001b[39;00m\n\u001b[0;32m   2527\u001b[0m \n\u001b[1;32m   (...)\u001b[0m\n\u001b[0;32m   2595\u001b[0m \n\u001b[0;32m   2596\u001b[0m \u001b[39m    \"\"\"\u001b[39;00m\n\u001b[1;32m-> 2597\u001b[0m     \u001b[39mreturn\u001b[39;00m _wrapfunc(a, \u001b[39m'\u001b[39;49m\u001b[39mcumsum\u001b[39;49m\u001b[39m'\u001b[39;49m, axis\u001b[39m=\u001b[39;49maxis, dtype\u001b[39m=\u001b[39;49mdtype, out\u001b[39m=\u001b[39;49mout)\n",
      "File \u001b[1;32m~\\AppData\\Local\\Packages\\PythonSoftwareFoundation.Python.3.9_qbz5n2kfra8p0\\LocalCache\\local-packages\\Python39\\site-packages\\numpy\\core\\fromnumeric.py:57\u001b[0m, in \u001b[0;36m_wrapfunc\u001b[1;34m(obj, method, *args, **kwds)\u001b[0m\n\u001b[0;32m     54\u001b[0m     \u001b[39mreturn\u001b[39;00m _wrapit(obj, method, \u001b[39m*\u001b[39margs, \u001b[39m*\u001b[39m\u001b[39m*\u001b[39mkwds)\n\u001b[0;32m     56\u001b[0m \u001b[39mtry\u001b[39;00m:\n\u001b[1;32m---> 57\u001b[0m     \u001b[39mreturn\u001b[39;00m bound(\u001b[39m*\u001b[39margs, \u001b[39m*\u001b[39m\u001b[39m*\u001b[39mkwds)\n\u001b[0;32m     58\u001b[0m \u001b[39mexcept\u001b[39;00m \u001b[39mTypeError\u001b[39;00m:\n\u001b[0;32m     59\u001b[0m     \u001b[39m# A TypeError occurs if the object does have such a method in its\u001b[39;00m\n\u001b[0;32m     60\u001b[0m     \u001b[39m# class, but its signature is not identical to that of NumPy's. This\u001b[39;00m\n\u001b[1;32m   (...)\u001b[0m\n\u001b[0;32m     64\u001b[0m     \u001b[39m# Call _wrapit from within the except clause to ensure a potential\u001b[39;00m\n\u001b[0;32m     65\u001b[0m     \u001b[39m# exception has a traceback chain.\u001b[39;00m\n\u001b[0;32m     66\u001b[0m     \u001b[39mreturn\u001b[39;00m _wrapit(obj, method, \u001b[39m*\u001b[39margs, \u001b[39m*\u001b[39m\u001b[39m*\u001b[39mkwds)\n",
      "\u001b[1;31mKeyboardInterrupt\u001b[0m: "
     ]
    }
   ],
   "source": [
    "from sklearn.metrics import silhouette_score\n",
    "\n",
    "k_values = range(2, 7237)\n",
    "# Calcola il valore medio della silhouette per ogni valore di k\n",
    "silhouette_scores = []\n",
    "for k in k_values:\n",
    "    kmeans = KMeans(n_clusters=k, random_state=0, n_init = 10)\n",
    "    kmeans.fit(X_scaled)\n",
    "    labels = kmeans.labels_\n",
    "    silhouette_scores.append(silhouette_score(X_scaled, labels))\n",
    "\n",
    "# Visualizza il grafico della silhouette analysis\n",
    "plt.plot(k_values, silhouette_scores, marker='o')\n",
    "plt.xlabel('Numero di cluster (k)')\n",
    "plt.ylabel('Valore medio della silhouette')\n",
    "plt.title('Grafico della Silhouette Analysis')\n",
    "optimal_k = k_values[np.argmax(silhouette_scores)]\n",
    "plt.axvline(x=optimal_k, color='r', linestyle='--')\n",
    "plt.text(optimal_k + 0.1, max(silhouette_scores) - 0.1, f'k = {optimal_k}', color='r')\n",
    "plt.show()"
   ]
  },
  {
   "cell_type": "code",
   "execution_count": 40,
   "metadata": {},
   "outputs": [
    {
     "name": "stdout",
     "output_type": "stream",
     "text": [
      "[ 86 134   9   5 145 136  81 138  63  79  61  77 156  26 155  15  44 153\n",
      "  42  42  88  88  13 135  27 147  91  91  74  90  90  55  55  59 159  33\n",
      "  62 137  47 141 146 151 135  68  68  38  38 127 127   2 112   2   2   2\n",
      "   0   4   4 143 166 121 121  82  82 144  70 138 165 165   7   1  81 152\n",
      "  81 154   7   7 161 105  14  28   3  31  31   1  19  54   6  32  73   1\n",
      "  58  23  80  66 162  29  53  71 101 145 105 133  14 118 130 165 165   2\n",
      "  83  14   2   2  94   2   2   2   2  14   2   2  14   2  14 125 114 114\n",
      " 118 118   2  94  99   2 143 132 145 109 150  97 150 160  89 143  22 143\n",
      "  20  85  20 108  16  57  72   8   8  48 100 115  20 129   5  20  85  40\n",
      "  40 126  18  84 110 124 119 128  95 158  54 107  14  20 140 137  56  11\n",
      " 157  69 122 150 113  76 120  75  65 103  65  76  93  41  25 136   2 106\n",
      " 131 123  35  50 142  39 138 145  50  12  92 149  98 148  22  52 102  24\n",
      "  97  20  30  67  17 116  87  14   6  51   2  36   2 145  49 117  46 111\n",
      " 154  43  18  37  21 139   6 105 148 163  34  78  45  10   5 164  60  85\n",
      " 134   2 152  99 104   2 152   2   2 146  54  96   2  40  18 144  64 167\n",
      " 146  18]\n"
     ]
    }
   ],
   "source": [
    "import numpy as np\n",
    "import matplotlib.pyplot as plt\n",
    "from sklearn.cluster import KMeans\n",
    "\n",
    "\n",
    "# Creazione dell'oggetto KMeans\n",
    "kmeans = KMeans(n_clusters=optimal_k, n_init=10)\n",
    "\n",
    "#predict the labels of clusters.\n",
    "label = kmeans.fit_predict(X_scaled)\n",
    " \n",
    "print(label)\n",
    "\n",
    "# Etichettatura dei punti\n",
    "labels = kmeans.labels_\n",
    "\n",
    "# Ottenere i centroidi\n",
    "centroids = kmeans.cluster_centers_"
   ]
  },
  {
   "cell_type": "code",
   "execution_count": 49,
   "metadata": {},
   "outputs": [
    {
     "data": {
      "image/png": "[encoded data removed]",
      "text/plain": [
       "<Figure size 640x480 with 1 Axes>"
      ]
     },
     "metadata": {},
     "output_type": "display_data"
    }
   ],
   "source": [
    "#Getting unique labels\n",
    " \n",
    "u_labels = np.unique(labels)\n",
    " \n",
    "#plotting the results:\n",
    " \n",
    "for i in u_labels:\n",
    "    plt.scatter(X_scaled[labels == i , 0] , X_scaled[labels == i , 1] , label = i)\n",
    "#plt.legend()\n",
    "plt.show()"
   ]
  },
  {
   "cell_type": "code",
   "execution_count": 53,
   "metadata": {},
   "outputs": [],
   "source": [
    "# Alternatively, you can create a new dataframe with the instances and labels\n",
    "labels_df = pd.DataFrame({'Meal_Id': x['Meal_Id'], 'Name': x['Name'], 'catagory': x['catagory'], 'description': x['description'], 'Veg_Non': x['Veg_Non'], 'Nutrient': x['Nutrient'],'Disease': x['Disease'],'Diet': x['Diet'],'KMeans_Labels': labels})\n",
    "# Save the dataframe to a file\n",
    "labels_df.to_csv('..\\\\Dataset\\\\instances_with_labels.csv', index=False)\n"
   ]
  }
 ],
 "metadata": {
  "kernelspec": {
   "display_name": "base",
   "language": "python",
   "name": "python3"
  },
  "language_info": {
   "codemirror_mode": {
    "name": "ipython",
    "version": 3
   },
   "file_extension": ".py",
   "mimetype": "text/x-python",
   "name": "python",
   "nbconvert_exporter": "python",
   "pygments_lexer": "ipython3",
   "version": "3.9.13"
  },
  "orig_nbformat": 4
 },
 "nbformat": 4,
 "nbformat_minor": 2
}
