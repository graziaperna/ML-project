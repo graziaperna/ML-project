{
 "cells": [
  {
   "cell_type": "code",
   "execution_count": 85,
   "metadata": {},
   "outputs": [
    {
     "name": "stdout",
     "output_type": "stream",
     "text": [
      "x: \n",
      " age               10726\n",
      "weight(kg)        10726\n",
      "height(m)         10726\n",
      "gender            10726\n",
      "BMI               10726\n",
      "BMR               10726\n",
      "activity_level    10726\n",
      "dtype: int64\n",
      "\n",
      "y: \n",
      " 10726\n",
      "\n"
     ]
    }
   ],
   "source": [
    "import pandas as pd\n",
    "from sklearn.model_selection import train_test_split\n",
    "import matplotlib.pyplot as plt\n",
    "from sklearn.ensemble import RandomForestClassifier\n",
    "from sklearn.metrics import accuracy_score, precision_score, recall_score, f1_score, make_scorer, mean_squared_error, r2_score\n",
    "import numpy as np\n",
    "from sklearn.cluster import KMeans\n",
    "from sklearn.preprocessing import LabelEncoder\n",
    "from sklearn.preprocessing import OneHotEncoder\n",
    "from sklearn.preprocessing import StandardScaler\n",
    "from sklearn.ensemble import VotingClassifier\n",
    "from sklearn.tree import DecisionTreeClassifier\n",
    "from sklearn.neighbors import KNeighborsClassifier\n",
    "from sklearn.ensemble import RandomForestClassifier\n",
    "from sklearn.neural_network import MLPClassifier \n",
    "from sklearn.svm import SVC\n",
    "from sklearn.model_selection import GridSearchCV\n",
    "from sklearn.model_selection import KFold\n",
    "from sklearn.model_selection import train_test_split\n",
    "from sklearn.metrics import accuracy_score\n",
    "\n",
    "df = pd.read_csv(\"..\\\\Dataset\\\\reccomender.csv\")\n",
    "x = df[['age','weight(kg)','height(m)','gender','BMI','BMR','activity_level']]\n",
    "y = df.calories\n",
    "print(\"x: \\n\", x.count(), end=\"\\n\\n\")\n",
    "print(\"y: \\n\", y.count(), end=\"\\n\\n\")"
   ]
  },
  {
   "cell_type": "code",
   "execution_count": 86,
   "metadata": {},
   "outputs": [],
   "source": [
    "# Creazione dell'oggetto LabelEncoder\n",
    "label_encoder = LabelEncoder()\n",
    "\n",
    "# Codifica delle variabili categoriche come valori numerici\n",
    "x_encoded = x.copy()\n",
    "\n",
    "x_encoded['age'] = label_encoder.fit_transform(x['age'])\n",
    "x_encoded['weight(kg)'] = label_encoder.fit_transform(x['weight(kg)'])\n",
    "x_encoded['height(m)'] = label_encoder.fit_transform(x['height(m)'])\n",
    "x_encoded['gender'] = label_encoder.fit_transform(x['gender'])\n",
    "x_encoded['activity_level'] = label_encoder.fit_transform(x['activity_level'])\n",
    "x_encoded['BMR'] = label_encoder.fit_transform(x['BMR'])\n",
    "x_encoded['BMI'] = label_encoder.fit_transform(x['BMI'])"
   ]
  },
  {
   "cell_type": "code",
   "execution_count": 87,
   "metadata": {},
   "outputs": [],
   "source": [
    "from sklearn.preprocessing import MinMaxScaler ,MaxAbsScaler ,RobustScaler ,QuantileTransformer\n",
    "import numpy as np\n",
    "\n",
    "\n",
    "# Creazione di un oggetto StandardScaler\n",
    "scaler = StandardScaler()\n",
    "#scaler = MinMaxScaler()\n",
    "#scaler = MaxAbsScaler()\n",
    "#scaler = RobustScaler()\n",
    "#scaler = QuantileTransformer()\n",
    "\n",
    "# Trasformazione e adattamento dei dati di addestramento\n",
    "x_scaled = scaler.fit_transform(x_encoded)"
   ]
  },
  {
   "cell_type": "code",
   "execution_count": 88,
   "metadata": {},
   "outputs": [],
   "source": [
    "from sklearn.metrics import mean_squared_error, r2_score\n",
    "from sklearn.model_selection import train_test_split\n",
    "\n",
    "# Suddivisione iniziale in set di addestramento + convalida e test\n",
    "x_train_val, x_test, y_train_val, y_test = train_test_split(x_scaled, y, test_size=0.3,shuffle=True, random_state=42)\n",
    "\n",
    "# Ulteriore suddivisione del set di addestramento + convalida in set di addestramento e convalida\n",
    "x_train, x_val, y_train, y_val = train_test_split(x_train_val, y_train_val, test_size=0.3, shuffle=True,random_state=42)\n"
   ]
  },
  {
   "cell_type": "code",
   "execution_count": 89,
   "metadata": {},
   "outputs": [
    {
     "name": "stdout",
     "output_type": "stream",
     "text": [
      "Number of CPUs in the system: 8\n"
     ]
    }
   ],
   "source": [
    "import os\n",
    "from sklearn.tree import DecisionTreeRegressor\n",
    "from sklearn.ensemble import RandomForestRegressor\n",
    "from sklearn.ensemble import GradientBoostingRegressor\n",
    "from sklearn.ensemble import AdaBoostRegressor\n",
    "from sklearn.ensemble import ExtraTreesRegressor\n",
    "from sklearn.ensemble import IsolationForest\n",
    "from sklearn.ensemble import BaggingRegressor\n",
    "\n",
    " \n",
    "#model = DecisionTreeRegressor()\n",
    "#model = RandomForestRegressor(n_estimators=720)\n",
    "#model = AdaBoostRegressor()\n",
    "#model = GradientBoostingRegressor()\n",
    "model= ExtraTreesRegressor()\n",
    "#model = IsolationForest(contamination='auto')\n",
    "#Lo proveremo con il modello più performante\n",
    "#model = BaggingRegressor(base_estimator=()) \n",
    "\n",
    "model.fit(x_train, y_train)\n",
    "\n",
    "n_cpu = os.cpu_count()\n",
    "print(\"Number of CPUs in the system:\", n_cpu)"
   ]
  },
  {
   "cell_type": "code",
   "execution_count": 90,
   "metadata": {},
   "outputs": [
    {
     "name": "stdout",
     "output_type": "stream",
     "text": [
      "Mean Squared Error: 4.426542061523589\n",
      "Root Mean Squared Error: 2.103934899545038\n",
      "r2: 0.9999699967635629\n"
     ]
    }
   ],
   "source": [
    "# Calcolo delle previsioni\n",
    "y_pred = model.predict(x_val)\n",
    "\n",
    "# Calcolo del MSE\n",
    "mse = mean_squared_error(y_val, y_pred)\n",
    "rmse = np.sqrt(mse)\n",
    "r2 = r2_score(y_val, y_pred)\n",
    "\n",
    "print(\"Mean Squared Error:\", mse)\n",
    "print(\"Root Mean Squared Error:\", rmse)\n",
    "print(\"r2:\", r2)\n"
   ]
  },
  {
   "cell_type": "code",
   "execution_count": 91,
   "metadata": {},
   "outputs": [
    {
     "name": "stdout",
     "output_type": "stream",
     "text": [
      "Mean Squared Error: 5.9000043878887425\n",
      "Root Mean Squared Error: 2.4289924635306597\n",
      "r2: 0.9999623642652895\n"
     ]
    }
   ],
   "source": [
    "# Calcolo delle previsioni\n",
    "y_pred = model.predict(x_test)\n",
    "\n",
    "# Calcolo del MSE\n",
    "mse = mean_squared_error(y_test, y_pred)\n",
    "rmse = np.sqrt(mse)\n",
    "r2 = r2_score(y_test, y_pred)\n",
    "\n",
    "print(\"Mean Squared Error:\", mse)\n",
    "print(\"Root Mean Squared Error:\", rmse)\n",
    "print(\"r2:\", r2)"
   ]
  },
  {
   "cell_type": "code",
   "execution_count": 42,
   "metadata": {},
   "outputs": [
    {
     "name": "stdout",
     "output_type": "stream",
     "text": [
      "Distanza tra y_val e y_pred: 8160     0.047820\n",
      "3600     0.088231\n",
      "4318     0.088582\n",
      "2641     1.096381\n",
      "10659    0.452400\n",
      "           ...   \n",
      "8499     0.138135\n",
      "6391     0.025346\n",
      "7764     0.082545\n",
      "7059     0.233196\n",
      "6547     0.123855\n",
      "Name: calories, Length: 2253, dtype: float64\n"
     ]
    },
    {
     "data": {
      "image/png": "[encoded data removed]",
      "text/plain": [
       "<Figure size 640x480 with 1 Axes>"
      ]
     },
     "metadata": {},
     "output_type": "display_data"
    }
   ],
   "source": [
    "#distanza tra x_val e y_pred\n",
    "import math\n",
    "distanza = abs(y_pred - y_val)\n",
    "\n",
    "print(\"Distanza tra y_val e y_pred:\", distanza)\n",
    "plt.plot([y_val, y_val], [y_val, y_pred], 'ro-', label='Distanza')\n",
    "plt.plot(y_val, y_pred, 'bo', label='Valore predetto')\n",
    "plt.plot(y_val, y_val, 'go', label='Valore di x')\n",
    "plt.xlabel('x')\n",
    "plt.ylabel('y')\n",
    "plt.title('Distanza tra y_val e y_pred')\n",
    "plt.grid(True)\n",
    "plt.show()\n"
   ]
  },
  {
   "cell_type": "markdown",
   "metadata": {},
   "source": [
    "## GRID SEARCH"
   ]
  },
  {
   "cell_type": "code",
   "execution_count": 158,
   "metadata": {},
   "outputs": [
    {
     "name": "stderr",
     "output_type": "stream",
     "text": [
      "C:\\Users\\USER\\AppData\\Roaming\\Python\\Python39\\site-packages\\sklearn\\model_selection\\_search.py:952: UserWarning: One or more of the test scores are non-finite: [nan nan nan nan nan nan nan nan]\n",
      "  warnings.warn(\n"
     ]
    },
    {
     "name": "stdout",
     "output_type": "stream",
     "text": [
      "Migliori iperparametri: {'max_depth': 35, 'min_samples_leaf': 1, 'min_samples_split': 2, 'n_estimators': 720}\n"
     ]
    }
   ],
   "source": [
    "scorer = make_scorer('mean_squared_error', greater_is_better=False)\n",
    "\n",
    "params = {'n_estimators': [500,600,720],\n",
    "           'max_depth':[35,40], \n",
    "           'min_samples_split':[2,3], \n",
    "           'min_samples_leaf':[1,2]\n",
    "           }\n",
    "\n",
    "clf_optimized = GridSearchCV(model,param_grid=params,cv=10,n_jobs=n_cpu-1,scoring= scorer,refit=True)\n",
    "clf_optimized.fit(x_train, y_train)\n",
    "print(\"Migliori iperparametri:\",clf_optimized.best_params_)"
   ]
  },
  {
   "cell_type": "code",
   "execution_count": 159,
   "metadata": {},
   "outputs": [
    {
     "data": {
      "text/html": [
       "<style>#sk-container-id-21 {color: black;background-color: white;}#sk-container-id-21 pre{padding: 0;}#sk-container-id-21 div.sk-toggleable {background-color: white;}#sk-container-id-21 label.sk-toggleable__label {cursor: pointer;display: block;width: 100%;margin-bottom: 0;padding: 0.3em;box-sizing: border-box;text-align: center;}#sk-container-id-21 label.sk-toggleable__label-arrow:before {content: \"▸\";float: left;margin-right: 0.25em;color: #696969;}#sk-container-id-21 label.sk-toggleable__label-arrow:hover:before {color: black;}#sk-container-id-21 div.sk-estimator:hover label.sk-toggleable__label-arrow:before {color: black;}#sk-container-id-21 div.sk-toggleable__content {max-height: 0;max-width: 0;overflow: hidden;text-align: left;background-color: #f0f8ff;}#sk-container-id-21 div.sk-toggleable__content pre {margin: 0.2em;color: black;border-radius: 0.25em;background-color: #f0f8ff;}#sk-container-id-21 input.sk-toggleable__control:checked~div.sk-toggleable__content {max-height: 200px;max-width: 100%;overflow: auto;}#sk-container-id-21 input.sk-toggleable__control:checked~label.sk-toggleable__label-arrow:before {content: \"▾\";}#sk-container-id-21 div.sk-estimator input.sk-toggleable__control:checked~label.sk-toggleable__label {background-color: #d4ebff;}#sk-container-id-21 div.sk-label input.sk-toggleable__control:checked~label.sk-toggleable__label {background-color: #d4ebff;}#sk-container-id-21 input.sk-hidden--visually {border: 0;clip: rect(1px 1px 1px 1px);clip: rect(1px, 1px, 1px, 1px);height: 1px;margin: -1px;overflow: hidden;padding: 0;position: absolute;width: 1px;}#sk-container-id-21 div.sk-estimator {font-family: monospace;background-color: #f0f8ff;border: 1px dotted black;border-radius: 0.25em;box-sizing: border-box;margin-bottom: 0.5em;}#sk-container-id-21 div.sk-estimator:hover {background-color: #d4ebff;}#sk-container-id-21 div.sk-parallel-item::after {content: \"\";width: 100%;border-bottom: 1px solid gray;flex-grow: 1;}#sk-container-id-21 div.sk-label:hover label.sk-toggleable__label {background-color: #d4ebff;}#sk-container-id-21 div.sk-serial::before {content: \"\";position: absolute;border-left: 1px solid gray;box-sizing: border-box;top: 0;bottom: 0;left: 50%;z-index: 0;}#sk-container-id-21 div.sk-serial {display: flex;flex-direction: column;align-items: center;background-color: white;padding-right: 0.2em;padding-left: 0.2em;position: relative;}#sk-container-id-21 div.sk-item {position: relative;z-index: 1;}#sk-container-id-21 div.sk-parallel {display: flex;align-items: stretch;justify-content: center;background-color: white;position: relative;}#sk-container-id-21 div.sk-item::before, #sk-container-id-21 div.sk-parallel-item::before {content: \"\";position: absolute;border-left: 1px solid gray;box-sizing: border-box;top: 0;bottom: 0;left: 50%;z-index: -1;}#sk-container-id-21 div.sk-parallel-item {display: flex;flex-direction: column;z-index: 1;position: relative;background-color: white;}#sk-container-id-21 div.sk-parallel-item:first-child::after {align-self: flex-end;width: 50%;}#sk-container-id-21 div.sk-parallel-item:last-child::after {align-self: flex-start;width: 50%;}#sk-container-id-21 div.sk-parallel-item:only-child::after {width: 0;}#sk-container-id-21 div.sk-dashed-wrapped {border: 1px dashed gray;margin: 0 0.4em 0.5em 0.4em;box-sizing: border-box;padding-bottom: 0.4em;background-color: white;}#sk-container-id-21 div.sk-label label {font-family: monospace;font-weight: bold;display: inline-block;line-height: 1.2em;}#sk-container-id-21 div.sk-label-container {text-align: center;}#sk-container-id-21 div.sk-container {/* jupyter's `normalize.less` sets `[hidden] { display: none; }` but bootstrap.min.css set `[hidden] { display: none !important; }` so we also need the `!important` here to be able to override the default hidden behavior on the sphinx rendered scikit-learn.org. See: https://github.com/scikit-learn/scikit-learn/issues/21755 */display: inline-block !important;position: relative;}#sk-container-id-21 div.sk-text-repr-fallback {display: none;}</style><div id=\"sk-container-id-21\" class=\"sk-top-container\"><div class=\"sk-text-repr-fallback\"><pre>ExtraTreesRegressor(max_depth=35, n_estimators=720)</pre><b>In a Jupyter environment, please rerun this cell to show the HTML representation or trust the notebook. <br />On GitHub, the HTML representation is unable to render, please try loading this page with nbviewer.org.</b></div><div class=\"sk-container\" hidden><div class=\"sk-item\"><div class=\"sk-estimator sk-toggleable\"><input class=\"sk-toggleable__control sk-hidden--visually\" id=\"sk-estimator-id-21\" type=\"checkbox\" checked><label for=\"sk-estimator-id-21\" class=\"sk-toggleable__label sk-toggleable__label-arrow\">ExtraTreesRegressor</label><div class=\"sk-toggleable__content\"><pre>ExtraTreesRegressor(max_depth=35, n_estimators=720)</pre></div></div></div></div></div>"
      ],
      "text/plain": [
       "ExtraTreesRegressor(max_depth=35, n_estimators=720)"
      ]
     },
     "execution_count": 159,
     "metadata": {},
     "output_type": "execute_result"
    }
   ],
   "source": [
    "# Assegnazione dei migliori parametri al classificatore\n",
    "best_params = clf_optimized.best_params_\n",
    "model.set_params(**best_params)\n",
    "model.fit(x_train,y_train)"
   ]
  },
  {
   "cell_type": "code",
   "execution_count": 160,
   "metadata": {},
   "outputs": [
    {
     "name": "stdout",
     "output_type": "stream",
     "text": [
      "Mean Squared Error: 4.709533195166662\n",
      "Root Mean Squared Error: 2.1701458925995416\n",
      "r2: 0.999969958201674\n"
     ]
    }
   ],
   "source": [
    "# Calcolo delle previsioni\n",
    "y_pred = model.predict(x_test)\n",
    "\n",
    "# Calcolo del MSE\n",
    "mse = mean_squared_error(y_test, y_pred)\n",
    "rmse = np.sqrt(mse)\n",
    "r2 = r2_score(y_test, y_pred)\n",
    "\n",
    "print(\"Mean Squared Error:\", mse)\n",
    "print(\"Root Mean Squared Error:\", rmse)\n",
    "print(\"r2:\", r2)"
   ]
  },
  {
   "cell_type": "code",
   "execution_count": 151,
   "metadata": {},
   "outputs": [
    {
     "name": "stdout",
     "output_type": "stream",
     "text": [
      "[2897.96836392]\n"
     ]
    }
   ],
   "source": [
    "print(model.predict([[3,17.76999260194176,1.0347295405014274,1,16.59715122620208,987.396,1.9]]))"
   ]
  }
 ],
 "metadata": {
  "kernelspec": {
   "display_name": "base",
   "language": "python",
   "name": "python3"
  },
  "language_info": {
   "codemirror_mode": {
    "name": "ipython",
    "version": 3
   },
   "file_extension": ".py",
   "mimetype": "text/x-python",
   "name": "python",
   "nbconvert_exporter": "python",
   "pygments_lexer": "ipython3",
   "version": "3.9.13"
  },
  "orig_nbformat": 4
 },
 "nbformat": 4,
 "nbformat_minor": 2
}
