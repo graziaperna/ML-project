{
 "cells": [
  {
   "cell_type": "code",
   "execution_count": 279,
   "metadata": {},
   "outputs": [
    {
     "name": "stdout",
     "output_type": "stream",
     "text": [
      "                                                  food\n",
      "0    Breakfast:Seedy Avocado Toast- Lunch: Veggie a...\n",
      "1    Breakfast:Pear Banana Smoothie, Whole Wheat To...\n",
      "2    Breakfast:Oatmeal ,Banana ,Peanut Butter, Choc...\n",
      "3    Breakfast:Banana oatmeal smoothie - Lunch:Big ...\n",
      "4    Breakfast:Banana oatmeal smoothie - Lunch:Big ...\n",
      "..                                                 ...\n",
      "194  Breakfast: Chicken and Cottage Cheese Sandwich...\n",
      "195  Breakfast: Tropical protein smoothie- Lunch: C...\n",
      "196  Breakfast: Chicken and Cottage Cheese Sandwich...\n",
      "197  Breakfast: Chicken and Cottage Cheese Sandwich...\n",
      "198  Breakfast: Spinach, Swiss, and Egg White Omele...\n",
      "\n",
      "[199 rows x 1 columns]\n"
     ]
    }
   ],
   "source": [
    "import pandas as pd\n",
    "from sklearn.model_selection import train_test_split\n",
    "import pandas as pd\n",
    "from sklearn.model_selection import train_test_split\n",
    "import pandas as pd\n",
    "import matplotlib.pyplot as plt\n",
    "from sklearn.ensemble import RandomForestClassifier\n",
    "from sklearn.metrics import accuracy_score, precision_score, recall_score, f1_score, make_scorer\n",
    "import numpy as np\n",
    "from keras.models import Sequential\n",
    "from keras.layers import Dense\n",
    "from sklearn.cluster import KMeans\n",
    "\n",
    "dataset = pd.read_csv(\"..\\\\Dataset\\\\food.csv\")\n",
    "#Seprating dataset into input and output values\n",
    "#x = dataset[['bmi','age','vegNonveg','gender','cat','calorie_intake','food']]\n",
    "#print(x.to_string())\n",
    "x = dataset[['food']]\n",
    "print(x)\n"
   ]
  },
  {
   "cell_type": "code",
   "execution_count": 254,
   "metadata": {},
   "outputs": [
    {
     "name": "stdout",
     "output_type": "stream",
     "text": [
      "TRAIN: \n",
      " food                                                                                                                                                                                                            \n",
      "Breakfast:Banana oatmeal smoothie - Lunch:Big PB&J Sandwich,Carrots with Hummus - Dinner:5 Ingredient Coconut Curry                                                                                                 2\n",
      "Breakfast: 1 Protein Energy Balls- Lunch: Corn Tuna Salad- Dinner: Easy Microwave Sausage, Kale, and White Beans                                                                                                    1\n",
      "Breakfast: Strawberry Oatmeal- Lunch: ALT (Avocado, Lettuce, and Tomato) Sandwiches- Dinner: Grilled Cheese with Tomato, Peppers and Basil                                                                          1\n",
      "Breakfast: Spiced Sweet Potato and Goat Cheese Egg Skillet - Lunch: 2 Strawberry Smoothies - Dinner: 2 Cheese Spinach Turkey Burgers                                                                                1\n",
      "Breakfast: Spinach Avocado Smoothie Bowl, Oranges - Lunch:Turkey Lettuce Rollups, Cottage Cheese & Raspberries - Dinner: BBQ Chicken Sandwich, Roasted Green Beans                                                  1\n",
      "Breakfast: Spinach Scramble - Lunch: 2 Paneer Stuffed Peppers - Dinner: Soya and Red Beans Kabobs                                                                                                                   1\n",
      "Breakfast: Spinach Scramble - Lunch: Red Bean & White Bean Salad - Dinner: Spaghetti with Sweet Chilli Sauce                                                                                                        1\n",
      "Breakfast: Spinach Scramble - Lunch: Vegetable Cheese sandwich - Dinner: Grilled Cheese with Tomato, Peppers and Basil                                                                                              1\n",
      "Breakfast: Spinach, Onion, Mushroom, and Bell Pepper Egg White Omelet, Morning Roasted Potatoes- Lunch: Tahini on Rye - Dinner: Quick and Easy Grilled Cheese                                                       1\n",
      "Breakfast: Spinach, Pepper, and Tomato Scramble on Toast- Lunch: Potato Chip Sandwich- Dinner: + Dinner Pita Pizza                                                                                                  1\n",
      "Breakfast: Spinach, Pepper, and Tomato Scramble on Toast- Lunch: Simple Caprese Sandwich- Dinner: Pasta with Creamy Spinach and Mushroom Sauce                                                                      1\n",
      "Breakfast: Spinach, Swiss, and Egg White Omelet, Whole Wheat Toast- Lunch:Spanish-style Toast with Tomato (Pan con tomate)- Dinner: Mozzarella and Hummus on MultiGrain Flatbread, Easy Hard-Boiled Eggs            1\n",
      "Breakfast: Strawberries and Cream Smoothie- Lunch: Corn Tuna Salad- Dinner: Veggie & chicken salad                                                                                                                  1\n",
      "Breakfast: Strawberry Oatmeal- Lunch: Cucumber, Tomato, Chicken, and Cheese Sandwich- Dinner: BLT sandwich                                                                                                          1\n",
      "Breakfast: Vegetable 3 Egg Scramble- Lunch: Cottage Cheese Tuna Salad- Dinner: 2 Fat Bean and Cheese Burrito                                                                                                        1\n",
      "Breakfast: Strawberry Oatmeal- Lunch: Peanut Butter and Honey Sandwich on Rye, Yogurt & Strawberries- Dinner:Pasta with Red Sauce and Mozzarella, Steamed Broccoli with Olive Oil and Parmesan                      1\n",
      "Breakfast: Strawberry Protein Shake- Lunch: Tuna and Ranch Garden Salad- Dinner: Shredded Chicken White Nachos                                                                                                      1\n",
      "Breakfast: Strawberry Yogurt and Strawberries- Lunch: Southwestern Salad with Black Beans- Dinner: Grilled Cheese with Tomato, Peppers and Basil                                                                    1\n",
      "Breakfast: Sunrise Smoothie- Lunch: Chicken Caesar Wraps- Dinner: BLT sandwich                                                                                                                                      1\n",
      "Breakfast: Toasted Chili Pepper Cheese Sandwich- Lunch: Peanut butter and jelly- Dinner: + Dinner Pita Pizza                                                                                                        1\n",
      "Breakfast: Tropical protein smoothie- Lunch: Chicken Celery Sticks- Dinner: Spicy Chicken Salad                                                                                                                     1\n",
      "Breakfast: Tropical protein smoothie- Lunch: Fruit & Vegetable Plate with Almonds & Cheese- Dinner: Easy Grilled Chicken Teriyaki                                                                                   1\n",
      "Breakfast: Turkey & Spinach Omelet - Lunch: 2 Tuna Stuffed Peppers - Dinner: Roasted Broccoli and Grilled Cheese Sandwich                                                                                           1\n",
      "Breakfast: Turkey and Spinach Omelet - Lunch: Hummus Avocado Toast - Dinner: Shrimp and Corn with Basil                                                                                                             1\n",
      "Breakfast: Southwestern Eggs - Lunch: 2 Tuna Stuffed Tomato - Dinner: Minestrone in Minutes                                                                                                                         1\n",
      "Breakfast: Smoothie- Lunch: Tuna Mex Tuna Salad- Dinner: Chicken Kabobs                                                                                                                                             1\n",
      "Breakfast: Seedy Hummus Toast- Lunch: 2 Calorie Hummus- Dinner: Pasta with Fresh Tomato Sauce                                                                                                                       1\n",
      "Breakfast: Protein Smoothie Bowl- Lunch: Mexican Black Bean and Chicken Stew with Rice- Dinner:Paprika Chicken with Salad                                                                                           1\n",
      "Breakfast: Oatmeal banana protein shake- Lunch: Peanut Butter & Carrots, Grapes- Dinner:Almond Butter Chicken Salad Lettuce Wrap                                                                                    1\n",
      "Breakfast: Oatmeal banana protein shake- Lunch: Simple Caprese Sandwich- Dinner: Mozzarella and Hummus on MultiGrain Flatbread                                                                                      1\n",
      "Breakfast: Oatmeal banana protein shake- Lunch: Tomato and Cheese Wrap- Dinner: Greek Pasta with Tomatoes and White Beans                                                                                           1\n",
      "Breakfast: Oatmeal banana protein shake- Lunch: Turkey, Cheddar, and Mustard Sandwich- Dinner: BLT sandwich                                                                                                         1\n",
      "Breakfast: Oatmeal with Mango and Toasted Coconut - Lunch: 2 Provolone Sandwich - Dinner: 2 Grilled Veg Sandwiches                                                                                                  1\n",
      "Breakfast: Oatmeal with Milk and Blueberries - Lunch:Big PB&J Sandwich - Dinner:Flat Bread Pizza                                                                                                                    1\n",
      "Breakfast: Oats with Rice Milk and Banana- Lunch: Tuna and Ranch Garden Salad- Dinner: BBQ Chicken Sandwich                                                                                                         1\n",
      "Breakfast: Orange-Vanilla Protein Smoothie- Lunch: Tuna and Ranch Garden Salad- Dinner: Tomato Mozzarella Tuna Melt                                                                                                 1\n",
      "Breakfast: PB&J Smoothie - Lunch: Simple Cabbage Salad - Dinner: Skilet Creamy Lemon Pasta                                                                                                                          1\n",
      "Breakfast: PB&J Smoothie, Whole Wheat Toast - Lunch: Hummus on Whole Wheat - Dinner: Spicy Chicken Salad, Fire Roasted Tomatoes with Cheese                                                                         1\n",
      "Breakfast: Parfait- Lunch: Big PB&J Sandwich- Dinner: Pasta with Red Sauce and Mozzarella                                                                                                                           1\n",
      "Breakfast: Peaches Oatmeal - Lunch: Quick Avocado Sandwich - Dinner: Balsamic Cheese Salad                                                                                                                          1\n",
      "Breakfast: Peaches and Cream Oatmeal - Lunch: Paleo Avocado Beans Salad - Dinner: Balsamic Soyachunks and Mushrooms                                                                                                 1\n",
      "Breakfast: Peanut Butter & Banana Oatmeal- Lunch: Peanut Butter and Honey Sandwich on Rye- Dinner: Easy Grilled Chicken Teriyaki                                                                                    1\n",
      "Breakfast: Peanut Butter Banana Oatmeal Shake- Lunch: Lemon Avocado Salad- Dinner: One-Pot Spaghetti with Fresh Tomato Sauce                                                                                        1\n",
      "Breakfast: Peanut Butter Protein Oats, Oranges- Lunch: Bell Pepper and Hummus Snack, Avacado- Dinner: Pasta with Marinara Sauce, Steamed Broccoli with Olive Oil and Parmesan                                       1\n",
      "Breakfast: Peanut Butter Protein Oats- Lunch: Chocolate Peanut Butter Protein Shake- Dinner: White Bean and Kale Soup                                                                                               1\n",
      "Breakfast: Peanut Butter Protein Oats- Lunch: Simple Caprese Sandwich- Dinner: Broccoli & Feta Pasta Salad                                                                                                          1\n",
      "Breakfast: Peanut Butter Raspberry Oatmeal - Lunch: Cottage Cheese with Spinach - Dinner: Pasta with Corn and Tomato puree                                                                                          1\n",
      "Breakfast: Peanut Butter and Honey Oatmeal- Lunch: Tomato and Cheese Wrap- Dinner: Pasta Caprice, Microwaved sweet potato                                                                                           1\n",
      "Breakfast: Pecans- Lunch: Cottage Cheese with Spicy Tuna- Dinner: BLT sandwich                                                                                                                                      1\n",
      "Breakfast: Vanilla Banana Protein Shake- Lunch: Chicken Celery Sticks- Dinner: 2 Fat Bean and Cheese Burrito                                                                                                        1\n",
      "Breakfast: Vegetable 3 Egg Scramble- Lunch: Cucumber Turkey Sandwich with Gournay- Dinner: 2 Fat Bean and Cheese Burrito                                                                                            1\n",
      "Breakfast: 2 Balsamic Zucchini Sandwiches - Lunch: Simle Paneer and Lettuce Sandwich - Dinner: 1 Protein Soyachunk Alfredo Pasta                                                                                    1\n",
      "Breakfast:Apple - Lunch: Peanut Butter and Honey Sandwich on Rye- Dinner:Mozzarella and Hummus on MultiGrain Flatbread,Green Beans with Olive Oil                                                                   1\n",
      "Breakfast:Oatmeal with Milk and Blueberries - Lunch:Turkey Lettuce Rollups,Basic protein shake - Dinner:Turkey & Onion uesadillas                                                                                   1\n",
      "Breakfast:Oatmeal with Milk and Blueberries, Whole wheat toast- Lunch: Simple Caprese Sandwich, Banana- Dinner:Greek Pasta with Tomatoes and White Beans                                                            1\n",
      "Breakfast:Oranges - Lunch: Big PB&J Sandwich,Banana- Dinner:Greek Pasta with Tomatoes and White Beans                                                                                                               1\n",
      "Breakfast:PB&J Smoothie - Lunch: Peanut butter and jelly- Dinner: Grilled Steak with Pepper Relish                                                                                                                  1\n",
      "Breakfast:Peanut Butter Protein Oats - Lunch: Almond Mango Protein Shake- Dinner:BLT sandwich,Easy Hard-Boiled Eggs                                                                                                 1\n",
      "Breakfast:Peanut Butter Protein Oats - Lunch:Big PB&J Sandwich - Dinner:Honey-Mustard Sausage Kebabs                                                                                                                1\n",
      "Breakfast:Peanut Butter Protein Oats - Lunch:Peanut butter and jelly,Yogurt & Strawberries - Dinner:Pasta with Marinara Sauce,Steamed Broccoli with Olive Oil and Parmesan                                          1\n",
      "Breakfast:Peanut Butter and Honey Oatmeal - Lunch:Peanut butter and jelly,Yogurt & Strawberries - Dinner:Pasta with Red Sauce and Mozzarella,Steamed Broccoli with Olive Oil and Parmesan                           1\n",
      "Breakfast:Pear Banana Smoothie, Whole Wheat Toast- Lunch: Strawberry protein smoothie, Apples and Almond Butter- Dinner: Smashed White Beans on Toast,Green Beans with Olive Oil, Balsamic, and Garlic              1\n",
      "Breakfast:Quesadilla- Lunch:Strawberry protein smoothie,Peanut Butter & Celery - Dinner:Pasta la Checca                                                                                                             1\n",
      "Breakfast:Seedy Avocado Toast- Lunch: Veggie and Hummus Sandwich, Veggie and Hummus Sandwich- Dinner: Zucchini Peanut Noodles, White Rice                                                                           1\n",
      "Breakfast:Strawberry Oatmeal - Lunch:Peanut Butter and Honey Sandwich on Rye,Yogurt & Strawberries - Dinner:Sautéed Flank Steak and Onions with Cheddar Cheese                                                      1\n",
      "Breakfast:Strawberry Oatmeal - Lunch:Strawberry protein smoothie,Peanut Butter & Celery - Dinner:Spicy Chicken Fajita                                                                                               1\n",
      "Breakfast:Strawberry Oatmeal- Lunch:Peanut Butter and Honey Sandwich on Rye,Carrots with Hummus- Dinner:Black Bean Vegetarian Quesadillas                                                                           1\n",
      "Breakfast:Sunrise Smoothie - Lunch:Chicken Caesar Wraps - Dinner:BLT sandwich,Easy Hard-Boiled Eggs                                                                                                                 1\n",
      "Breakfast:TChocolate peanut protein shake - Lunch:Hummus on Whole Wheat- Dinner:Soba Noodles & Coconut Curry,Lemon Steamed Broccoli                                                                                 1\n",
      "Breakfast:Tomato Scramble - Lunch:Simple Caprese Sandwich - Dinner:Mozzarella and Hummus on MultiGrain Flatbread,Steamed Broccoli with Olive Oil and Parmesan                                                       1\n",
      "Breakfast:Tropical protein smoothie - Lunch:Bell Pepper and Hummus Snack,Lemon Avocado Salad - Dinner:Coconut Green Curry and Soba                                                                                  1\n",
      "Breakfast:Tropical protein smoothie - Lunch:Big PB&J Sandwich,Almonds - Dinner:Easy Grilled Chicken Teriyaki,Steamed Broccoli with Olive Oil and Parmesan                                                           1\n",
      "Breakfast:Tropical protein smoothie - Lunch:Strawberry protein smoothie,Almonds - Dinner:Prosciutto Sandwich with Spinach                                                                                           1\n",
      "Breakfast:Vegetable 3 Egg Scramble - Lunch:Big PB&J Sandwich,banana - Dinner:Easy Grilled Chicken Teriyaki,Spicy Garlic Broccoli                                                                                    1\n",
      "Breakfast:Oatmeal with Milk and Blueberries - Lunch:Strawberry protein smoothie,Almonds - Dinner:Chicken Kabobs,Easy Hard-Boiled Eggs                                                                               1\n",
      "Breakfast:Oatmeal with Milk and Blueberries - Lunch:Big PB&J Sandwich,Yogurt & Strawberries - Dinner:Pasta with Red Sauce and Mozzarella,Steamed Broccoli with Olive Oil and Parmesan                               1\n",
      "Breakfast:Oatmeal banana protein shake - Lunch:Ham and cheese sandwich- Dinner:Turkey Bacon BLT Sandwich                                                                                                            1\n",
      "Breakfast:Granola,Banana Smoothie - Lunch:Chicken and avocado salad - Dinner:Chicken Kabobs,Easy Hard-Boiled Eggs                                                                                                   1\n",
      "Breakfast:Banana oatmeal smoothie - Lunch:Big PB&J Sandwich,Banana + Dinner:Easy Grilled Chicken Teriyaki,Spinach Recipe                                                                                            1\n",
      "Breakfast:Banana oatmeal smoothie - Lunch:Big PB&J Sandwich,Peanut Butter & Celery- Dinner:Cottage Cheese and Spinach Sandwich,Steamed Broccoli with Olive Oil and Parmesan                                         1\n",
      "Breakfast:Banana oatmeal smoothie - Lunch:Strawberry protein smoothie,Peanut Butter & Celery- Dinner:Tomato Mozzarella Tuna Melt                                                                                    1\n",
      "Breakfast:Blueberry protein pudding,Buttered Toast - Lunch:Big PB&J Sandwich,Yogurt & Strawberries - Dinner:BLT sandwich,Easy Hard-Boiled Eggs                                                                      1\n",
      "Breakfast:Buttered Toast,Banana Smoothie - Lunch: Strawberry protein smoothie,Peanut Butter & Celery- Dinner:BBQ Chicken Sandwich,Easy Hard-Boiled Eggs                                                             1\n",
      "Breakfast:Buttered Toast- Lunch:Big PB&J Sandwich,Basic protein shake- Dinner:Greek Pasta with Tomatoes and White Beans                                                                                             1\n",
      "Breakfast:Chocolate peanut protein shake - Lunch: Turkey Sandwich,Carrots with Hummus- Dinner:BBQ Chicken Sandwich                                                                                                  1\n",
      "Breakfast:Chocolate peanut protein shake - Lunch:Big PB&J Sandwich,Spinach Tomato Salad - Dinner:Five Ingredient Pasta Toss                                                                                         1\n",
      "Breakfast:Cranberry-Banana Oatmeal - Lunch: Turkey Lettuce Rollups,Basic protein shake- Dinner:BLT sandwich,Easy Hard-Boiled Eggs                                                                                   1\n",
      "Breakfast:Make Ahead Burritos - Lunch:Big PB&J Sandwich,Yogurt & Strawberries - Dinner:Quick Salsa Baked Bean Bowl,Steamed Broccoli                                                                                 1\n",
      "Breakfast:Oatmeal banana protein shake - Lunch:Big PB&J Sandwich,Yogurt & Strawberries - Dinner:BLT sandwich                                                                                                        1\n",
      "Breakfast:Mexican Pepper and Cheese Quesadilla - Lunch: Big PB&J Sandwich,Peanut Butter & Celery- Dinner:Kidney Bean Quesadillas                                                                                    1\n",
      "Breakfast:Mexican Pepper and Cheese Quesadilla - Lunch: Peanut butter and jelly- Dinner:Greek Pasta with Tomatoes and White Beans                                                                                   1\n",
      "Breakfast:Mexican Pepper and Cheese Quesadilla - Lunch:Big PB&J Sandwich - Dinner:+ Dinner Pita Pizza                                                                                                               1\n",
      "Breakfast:Mexican Pepper and Cheese Quesadilla - Lunch:Big PB&J Sandwich,Basic protein shake - Dinner:Greek Pasta with Tomatoes and White Beans                                                                     1\n",
      "Breakfast:Oatmeal ,Banana ,Peanut Butter, Chocolate Shake - Lunch: Ham and cheese sandwich- Dinner:Turkey Bacon BLT Sandwich                                                                                        1\n",
      "Breakfast:Oatmeal Cottage Cheese Pancakes - Lunch:Chicken Celery Sticks, Tossed Tomatoes, Cucumber, and Red Peppers - Dinner: Gourmet Grilled Cheese                                                                1\n",
      "Breakfast:Oatmeal and peaches - Lunch:Peanut Butter and Honey Sandwich on Rye - Dinner:Zucchini Pasta                                                                                                               1\n",
      "Breakfast:Oatmeal banana protein shake - Lunch: Mexican Cottage Cheese Salad- Dinner:Chicken bacon ranch wrap                                                                                                       1\n",
      "Breakfast:Oatmeal banana protein shake - Lunch: Peanut butter and jelly,Carrots with Hummus- Dinner:2 Fat Bean and Cheese Burrito                                                                                   1\n",
      "Breakfast: Oatmeal banana protein shake- Lunch: Chicken Celery Sticks- Dinner: Pasta with Red Sauce and Mozzarella                                                                                                  1\n",
      "Breakfast: Oatmeal banana protein shake- Lunch: Barbecue tuna sandwich, Almonds- Dinner:Chicken Kabobs                                                                                                              1\n",
      "Breakfast: Oatmeal banana protein shake- Lunch: Apples and Almond Butter, Yogurt & Strawberries- Dinner: Microwave Parmesan Lemon Chicken and Brussels Sprouts                                                      1\n",
      "Breakfast: Banana oatmeal smoothie- Lunch: Tuna and Ranch Garden Salad- Dinner: BBQ Chicken Sandwich                                                                                                                1\n",
      "Breakfast: Berry Yogurt Smoothie- Lunch: Fruit & Vegetable Plate with Almonds & Cheese- Dinner: Kielbasa, Pepper, Onion and Potato Hash                                                                             1\n",
      "Breakfast: Berry Yogurt Smoothie- Lunch: Tuna Stuffed Pepper- Dinner: Kielbasa, Pepper, Onion and Potato Hash                                                                                                       1\n",
      "Breakfast: Black Bean Omelete - Lunch: Yogurt & Strawberries - Dinner: Mozzarella Tortilla Pizza                                                                                                                    1\n",
      "Breakfast: Blackberry Almond Butter Sandwich - Lunch: Tuna-Stuffed Tomato,Peach and Peanut Butter Snack - Dinner: Chicken Parmesan, Easy Sautéed Spinach                                                            1\n",
      "Breakfast: Blueberry Almond Butter Oatmeal - Lunch: Tuna-Stuffed Tomato - Dinner: Chicken and Pepper Stir Fry                                                                                                       1\n",
      "Breakfast: Carrot Cake Oatmeal - Lunch: 2 ALT (Avocado, Lettuce, and Tomato) Sandwiches - Dinner: 2 Bowl Vegetable Soup                                                                                             1\n",
      "Breakfast: Cheese Cupcake - Lunch: Cottage Cheese and Ranch Garden Salad - Dinner: Prosciutto Sandwich with Spinach                                                                                                 1\n",
      "Breakfast: Chicken and Cottage Cheese Sandwich- Lunch: Barbecue tuna sandwich, Almonds- Dinner:Gourmet Grilled Cheese                                                                                               1\n",
      "Breakfast: Chicken and Cottage Cheese Sandwich- Lunch: Chicken Celery Sticks- Dinner: BBQ Chicken Sandwich                                                                                                          1\n",
      "Breakfast: Chicken and Cottage Cheese Sandwich- Lunch: Cucumber Turkey Sandwich with Gournay- Dinner: BBQ Chicken Sandwich                                                                                          1\n",
      "Breakfast: Chicken and Cottage Cheese Sandwich- Lunch: Peach Protein Smoothie- Dinner: BLT sandwich, Easy Hard-Boiled Eggs                                                                                          1\n",
      "Breakfast: Chicken and Cottage Cheese Sandwich- Lunch: Turkey, Cheddar, and Mustard Sandwich- Dinner: BBQ Chicken Sandwich, Easy Hard-Boiled Eggs                                                                   1\n",
      "Breakfast: Chicken and Cottage Cheese Sandwich- Lunch:Apricot Jam and Almond Butter Sandwich- Dinner:Almond Butter Chicken Salad Lettuce Wrap                                                                       1\n",
      "Breakfast: Chocolate peanut protein shake- Lunch: Chicken and avocado salad- Dinner: Pasta la Checca                                                                                                                1\n",
      "Breakfast: Chocolate peanut protein shake- Lunch: Corn Tuna Salad- Dinner: Chicken Kabobs                                                                                                                           1\n",
      "Breakfast: Chocolate peanut protein shake- Lunch: Fruit & Vegetable Plate with Almonds & Cheese- Dinner: Chicken Kabobs                                                                                             1\n",
      "Breakfast: Chocolate peanut protein shake- Lunch: King Crab Salad- Dinner:Spicy Chicken soup                                                                                                                        1\n",
      "Breakfast: Cottage Cheese with Fruit and Granola- Lunch: Simple Caprese Sandwich- Dinner: Pasta with Baby Broccoli and Beans                                                                                        1\n",
      "Breakfast: Cottage Cheese with Fruit and Granola- Lunch: Veggie and Hummus Sandwich- Dinner: Grilled Cheese with Tomato, Peppers and Basil                                                                          1\n",
      "Breakfast: Cranberry-Banana Oatmeal- Lunch: Chicken Celery Sticks- Dinner: Grilled turkey sandwich                                                                                                                  1\n",
      "Breakfast: Cranberry-Banana Oatmeal- Lunch: Paleo Avocado Chicken Salad- Dinner:Spicy Chicken Salad                                                                                                                 1\n",
      "Breakfast: Banana, Oat, and Chia Smoothie - Lunch: 2 Sun-Dried Tomato Paneer Rollups - Dinner: 2 Balsamic Zucchini Sandwiches                                                                                       1\n",
      "Breakfast: Banana oatmeal smoothie- Lunch: Tuna and Ranch Garden Salad Sandwich- Dinner: Basic Chicken Quesadilla                                                                                                   1\n",
      "Breakfast: Oatmeal banana protein shake - Lunch: Avocado Green Power Salad - Dinner: Veggie & Paneer salad                                                                                                          1\n",
      "Breakfast: Banana Peanut Butter Chia Pudding - Lunch: Kidney Beans Lettuce Cheese Rollups - Dinner: 2 Lavash Vegetable Wraps                                                                                        1\n",
      "Breakfast: 2 Bowl Nonfat Yogurt - Lunch: Cottage Cheese & Raspberries - Dinner: Broccoli Quiche                                                                                                                     1\n",
      "Breakfast: 2 Chicken and Egg Mushroom Cups - Lunch: Chicken and cheese sandwich - Dinner: Chicken Kabobs                                                                                                            1\n",
      "Breakfast: 2 Cottage Cheese Sandwiches - Lunch: Yoghurt Lettuce Sandwich - Dinner: Mixed Beans and Spinach Pasta                                                                                                    1\n",
      "Breakfast: 2 Egg and Cheese Sandwich - Lunch: 2 Tuna-Stuffed Tomato - Dinner: 2 Lavash Chicken Wrap                                                                                                                 1\n",
      "Breakfast: 2 Eggs, Cheese, and Mushroom Omelet - Lunch: Peanut Butter and Honey Sandwich on Rye - Dinner: 2 Prosciutto Sandwiches with Spinach                                                                      1\n",
      "Breakfast: 2 Eggs, Mushroom Omelet - Lunch: 2 ALT (Avocado, Lettuce, and Tomato) Sandwiches - Dinner: Chicken & Mayo Bagel                                                                                          1\n",
      "Breakfast: 2 Grown-Up PB&J Toast - Lunch: 2 Tuna and Avocado Wraps - Dinner: 2 Chicken Wraps                                                                                                                        1\n",
      "Breakfast: 2 Oatmeal Cottage Cheese Pancakes - Lunch: Vegetable cheese sandwich - Dinner: 1 Protein Soyachunks Alfredo                                                                                              1\n",
      "Breakfast: 2 Southwestern Eggs - Lunch: Avocado Green Power Salad - Dinner: Garden style pasta                                                                                                                      1\n",
      "Breakfast: 2 Southwestern Eggs - Lunch: Tuna & White Bean Salad - Dinner: Taco Salad Bowl                                                                                                                           1\n",
      "Breakfast: 5 Banana Flax Pancakes - Lunch: Tuna & White Bean Salad - Dinner: Taco Bowl Salad                                                                                                                        1\n",
      "Breakfast: Bagel with Cream Cheese - Lunch: Paleo Avocado Chicken Salad - Dinner: 2 Prosciutto Sandwiches with Spinach                                                                                              1\n",
      "Breakfast: Bagel with Cream Cheese- Lunch: ALT (Avocado, Lettuce, and Tomato) Sandwiches- Dinner: Mama's Best Broiled Tomato Sandwich                                                                               1\n",
      "Breakfast: Bagel with Cream Cheese- Lunch: ALT (Avocado, Lettuce, and Tomato) Sandwiches- Dinner: Pasta Caprice                                                                                                     1\n",
      "Breakfast: Bagel with Cream Cheese- Lunch: Big PB&J Sandwich- Dinner: Pasta with Red Sauce and Mozzarella                                                                                                           1\n",
      "Breakfast: Bagel with Cream Cheese- Lunch: Fruit salad- Dinner: Pasta with Baby Broccoli and Beans                                                                                                                  1\n",
      "Breakfast: Bagel with Cream Cheese- Lunch: Tomato and Cheese Wrap,Carrots with Hummus- Dinner: Gourmet Grilled Cheese, Roasted asparagus                                                                            1\n",
      "Breakfast: Banana & Almond Butter Toast- Lunch: Peanut Butter and Honey Sandwich on Rye, Carrots with Hummus- Dinner:Mozzarella and Hummus on MultiGrain Flatbread, Steamed Broccoli with Olive Oil and Parmesan    1\n",
      "Breakfast: Banana Almond Shake, 1 Orange - Lunch: Tomato and Cheese Wrap - Dinner: Sweet Corn Pasta                                                                                                                 1\n",
      "Breakfast: Banana Nut Oatmeal- Lunch: Cucumber Sandwich,Yogurt with Almonds & Honey- Dinner:One-Pot Spaghetti with Fresh Tomato Sauce                                                                               1\n",
      "Breakfast: Banana Oat and Peanut Butter Muffin - Lunch: Red and White Beans Salad - Dinner: Spinach Almond Salad                                                                                                    1\n",
      "Breakfast: Egg White Avocado & Tomato Scramble- Lunch: Tuna Stuffed Pepper, Turkey and Avocado Wrap - Dinner: Chicken and Ranch Wrap                                                                                1\n",
      "Breakfast: Egg White Oatmeal with Blueberries - Lunch: Hummus on Rye - Dinner: Cucumbers and Egg Salad                                                                                                              1\n",
      "Breakfast: Egg White Oatmeal with Blueberries - Lunch: Turkey and Swiss Sandwich - Dinner: Microwave Parmesan Lemon Chicken and Brussels Sprouts                                                                    1\n",
      "Breakfast: Eggs Baked in Avocado- Lunch: Chicken and cheese sandwich, Carrots - Dinner: Chicken & Mayo Bagel, Roasted Broccoli with Parmesan Lemon Butter Sauce                                                     1\n",
      "Breakfast: Nutella and Banana Toast- Lunch: Tomato and Hummus on Rye- Dinner: Toaster Oven Mozzarella Tortilla Pizza                                                                                                1\n",
      "Breakfast: Oat Bran Pancake - Lunch: Cottage Cheese with Soya Chunks - Dinner: Vegetable and Fruits Salad                                                                                                           1\n",
      "Breakfast: Oat Bran Pancake, Warm Blueberry Yogurt - Lunch: Big PB&J Sandwich - Dinner: + Dinner Pita Pizza, Steamed Broccoli with Olive Oil and Parmesan                                                           1\n",
      "Breakfast: Oatmeal Banana Pancakes - Lunch: Tomato and Lettuce Salad - Dinner: Pasta with Fresh Tomato Sauce                                                                                                        1\n",
      "Breakfast: Oatmeal Banana Peanut Butter Chocolate Shake- Lunch: Apricot Jam and Almond Butter Sandwich- Dinner: Easy Microwave Sausage, Kale, and White Beans                                                       1\n",
      "Breakfast: Oatmeal Banana Peanut Butter Chocolate Shake- Lunch: Banana Avocado Protein Smoothie- Dinner: Chicken Kabobs                                                                                             1\n",
      "Breakfast: Oatmeal Banana Peanut Butter Chocolate Shake- Lunch: King Crab Salad- Dinner: Spicy Chicken soup                                                                                                         1\n",
      "Breakfast: Oatmeal Banana Peanut Butter Chocolate Shake- Lunch: Maple Strawberries and Cream- Dinner: Tomato Mozzarella Tuna Melt                                                                                   1\n",
      "Breakfast: Oatmeal Banana Peanut Butter Chocolate Shake- Lunch: Pinto Bean salad- Dinner: Greek Style Ravioli                                                                                                       1\n",
      "Breakfast: Oatmeal Banana Peanut Butter Chocolate Shake- Lunch: Turkey Sandwich- Dinner: Turkey Bacon BLT Sandwich                                                                                                  1\n",
      "Breakfast: Oatmeal Banana Peanut Butter Chocolate Shake- Lunch: Turkey, Cheddar, and Mustard Sandwich- Dinner: Oriental Chicken Stir-Fry                                                                            1\n",
      "Breakfast: Oatmeal Banana Peanut Butter Chocolate Shake- Lunch:Big PB&J Sandwich,Almonds- Dinner:Chicken Kabobs,Easy Parmesan Crisps                                                                                1\n",
      "Breakfast: Oatmeal Cottage Cheese Pancake - Lunch: Tuna-Stuffed Tomato - Dinner: Steamed Broccoli                                                                                                                   1\n",
      "Breakfast: Oatmeal and Apples - Lunch: 2 Lettuce Cottage Cheese Rollups - Dinner: Soyachunks With Tomato Bean Salad                                                                                                 1\n",
      "Breakfast: Oatmeal and Apples - Lunch: Tuna with Avocado - Dinner: Fennel & Chicken Flatbread                                                                                                                       1\n",
      "Breakfast: Oatmeal and Apples- Lunch:Caprese Salad- Dinner: Mozzarella and Hummus on MultiGrain Flatbread, Zucchini Spears                                                                                          1\n",
      "Breakfast: Oatmeal and peaches- Lunch: Simple Caprese Sandwich- Dinner: Pasta with Red Sauce and Mozzarella, Steamed Broccoli                                                                                       1\n",
      "Breakfast: Oatmeal and raisins - Lunch: Turkey Lettuce Cheese Rollups - Dinner: Taco Salad Bowl                                                                                                                     1\n",
      "Breakfast: Oatmeal and raisins- Lunch: Tomato and Hummus Pocket Sandwich- Dinner: + Dinner Pita Pizza                                                                                                               1\n",
      "Breakfast: Oatmeal and raisins- Lunch:Hummus and Veggie Sandwich- Dinner:Grilled Cheese with Tomato, Peppers and Basil                                                                                              1\n",
      "Breakfast: Oatmeal banana pancakes - Lunch: Paleo Avocado Beans Salad - Dinner: Soyachunks and Tomato Kabobs                                                                                                        1\n",
      "Breakfast: Nectarine Oatmeal - Lunch: Turkey and Swiss Sandwich - Dinner: Prawn Stir Fry                                                                                                                            1\n",
      "Breakfast: Nectarine Oatmeal - Lunch: Fruit & Vegetable Plate with Almonds & Cheese - Dinner: Quinoa Tabbouleh                                                                                                      1\n",
      "Breakfast: Mug Omelet - Lunch: 2 Turkey and Provolone Sandwiches - Dinner: 2 Grilled Turkey Sandwiches                                                                                                              1\n",
      "Breakfast: Island in the Sun Smoothie - Lunch: Fruit & Vegetable Plate with Almonds & Cheese, 2 Calorie Hummus - Dinner: Pineapple, Black Beans, and Couscous                                                       1\n",
      "Breakfast: Everything Bagel with Cream Cheese and Cucumber- Lunch: Apricot Jam and Almond Butter Sandwich- Dinner: Greek Pasta with Tomatoes and White Beans                                                        1\n",
      "Breakfast: Fruit and Granola Yogurt- Lunch: Fruit salad- Dinner: Pasta with Baby Broccoli and Beans                                                                                                                 1\n",
      "Breakfast: Fruit and Yogurt Smoothie - Lunch: 2 Tuna-Stuffed Tomatoes - Dinner: Shredded Chicken White Nachos                                                                                                       1\n",
      "Breakfast: Fruit and Yogurt Smoothie - Lunch:Yogurt & Strawberries - Dinner: Cheesy Chorizo Chicken and Spinach                                                                                                     1\n",
      "Breakfast: Fruit salad - Lunch: Lemon Avocado Salad - Dinner: White Rice                                                                                                                                            1\n",
      "Breakfast: Granola - Lunch: Tuna-Stuffed Tomato - Dinner: Peanut Butter and Peach Toast                                                                                                                             1\n",
      "Breakfast: Grown-Up PB&J Toast - Lunch: Light Raspberry yogurt - Dinner: Caulif2er Chicken Fried Rice                                                                                                               1\n",
      "Breakfast: Ham and Egg Scramble- Lunch:Strawberry protein smoothie,Celery - Dinner:Big Bad Bean Burrito                                                                                                             1\n",
      "Breakfast: Homemade Maple Granola - Lunch: Soya Lettuce Cheese Rollups - Dinner: Taco Salad                                                                                                                         1\n",
      "Breakfast: Kale White Bean and Pesto Salad- Lunch:Oatmeal and raisins- Dinner: Spinach and Sun-dried Tomato Sandwich                                                                                                1\n",
      "Breakfast: Mini Pizzas - Lunch: Tuna and Ranch Garden Salad, 2 Calorie Hummus - Dinner: Cottage Cheese and Spinach Sandwich, Easy Hard-Boiled Eggs                                                                  1\n",
      "Breakfast: Knock-Oats - Lunch: Barbecue tuna sandwich - Dinner: Oriental Chicken Stir-Fry                                                                                                                           1\n",
      "Breakfast: Knock-Oats - Lunch: Cottage Cheese & Strawberries - Dinner: Cheesy Spinach Scramble                                                                                                                      1\n",
      "Breakfast: Make Ahead Burritos- Lunch: Yogurt & Banana- Dinner: Cheesy Chicken and Spinach                                                                                                                          1\n",
      "Breakfast: Mango Trifle, Cheese On Toast- Lunch: Lemon Avocado Salad- Dinner: Pasta with Red Sauce and Mozzarella, Steamed Broccoli                                                                                 1\n",
      "Breakfast: Mexican Pepper and Cheese Quesadilla- Lunch: Apricot Jam and Almond Butter Sandwich- Dinner: Spinach Tomato Quesadilla                                                                                   1\n",
      "Breakfast: Mexican Pepper and Cheese Quesadilla- Lunch: Fruit salad- Dinner: 2 Fat Bean and Cheese Burrito                                                                                                          1\n",
      "Breakfast: Mexican Pepper and Cheese Quesadilla- Lunch: Simple Caprese Sandwich, Almonds- Dinner: + Dinner Pita Pizza                                                                                               1\n",
      "Breakfast: Mexican Pepper and Cheese Quesadilla- Lunch: Simple Caprese Sandwich- Dinner: Pasta with Red Sauce and Mozzarella                                                                                        1\n",
      "Breakfast: Microwave Vanilla Banana Oat Cake- Lunch: Lime Chicken Salad, Quick and Easy Homemade Hummus - Dinner: BLT sandwich                                                                                      1\n",
      "Breakfast:fruit smoothie,Granola - Lunch: All American Tuna- Dinner:BLT sandwich,Easy Hard-Boiled Eggs                                                                                                              1\n",
      "\n"
     ]
    }
   ],
   "source": [
    "print(\"TRAIN: \\n\", x.value_counts().to_string(), end=\"\\n\\n\")\n"
   ]
  },
  {
   "cell_type": "code",
   "execution_count": 255,
   "metadata": {},
   "outputs": [],
   "source": [
    "from sklearn.preprocessing import LabelEncoder\n",
    "\n",
    "# Creazione dell'oggetto LabelEncoder\n",
    "label_encoder = LabelEncoder()\n",
    "\n",
    "# Codifica delle variabili categoriche come valori numerici\n",
    "X_encoded = x.copy()  # Copia dei dati originali\n",
    "X_encoded['food'] = label_encoder.fit_transform(x['food'])\n"
   ]
  },
  {
   "cell_type": "code",
   "execution_count": 256,
   "metadata": {},
   "outputs": [],
   "source": [
    "from sklearn.preprocessing import OneHotEncoder\n",
    "\n",
    "# Creazione dell'oggetto OneHotEncoder\n",
    "encoder = OneHotEncoder()\n",
    "X_encoded = X_encoded.values\n",
    "# Adattamento del modello agli dati\n",
    "encoder.fit(X_encoded)\n",
    "\n",
    "# Trasformazione dei dati di addestramento\n",
    "X_encoded = encoder.transform(X_encoded).toarray()\n"
   ]
  },
  {
   "cell_type": "code",
   "execution_count": 257,
   "metadata": {},
   "outputs": [],
   "source": [
    "from sklearn.preprocessing import StandardScaler\n",
    "\n",
    "# Creazione di un oggetto StandardScaler\n",
    "scaler = StandardScaler()\n",
    "\n",
    "# Adattamento del modello agli dati\n",
    "scaler.fit(X_encoded)\n",
    "\n",
    "# Trasformazione dei dati di addestramento\n",
    "X_scaled = scaler.transform(X_encoded)\n",
    "\n"
   ]
  },
  {
   "cell_type": "code",
   "execution_count": 269,
   "metadata": {},
   "outputs": [
    {
     "name": "stdout",
     "output_type": "stream",
     "text": [
      "[58 34 48 34 47 34 27 34 34 34 34 41 34 44 29 34 69 34 34 40 63 21 38 49\n",
      " 34 34 34 34 34 64 34 34 34 34 55 34 34 20 34 34 34 34 51 34 37 34 34 34\n",
      " 34 34 34 34 42 54 34 12 34 34 34 34 32 61 56 45 17 34 34  6 43 34 34 34\n",
      "  8 34 34 34 39 34 14 34  2  5 34 34 34 34 34 34 34 34 62 34 34 34 34 34\n",
      " 34 33 34 10 15 34 24 65 34 34 34 34 34 34 34 34 34 34 34 34 34 34 34 46\n",
      " 34 34  1 67 34 34 22 34 34 34 34 34  4 18 34 36 34 34 34 66 19 34 34 34\n",
      " 34 68 34 34  9 11 34 34 34 60 34  3 34 34 34 34 34 34 23 34 34 34 34 50\n",
      " 34 57 34 34 34 28 34 25 34 13 34 30 34 34  0 26 16 52 34 34 34 34 59 34\n",
      " 34 35 34 53 34  7 31]\n"
     ]
    }
   ],
   "source": [
    "kmeans = KMeans(n_clusters=70, random_state=0).fit(X_scaled)\n",
    "print(kmeans.labels_)"
   ]
  },
  {
   "cell_type": "code",
   "execution_count": 270,
   "metadata": {},
   "outputs": [],
   "source": [
    "x = dataset[['bmi','age','vegNonveg','gender','cat','calorie_intake']]\n",
    "y = kmeans.labels_"
   ]
  },
  {
   "cell_type": "code",
   "execution_count": 271,
   "metadata": {},
   "outputs": [],
   "source": [
    "#Splitting dataset into train and test\n",
    "x_train,x_test, y_train, y_test= train_test_split(x,y, test_size=0.3,random_state=0)"
   ]
  },
  {
   "cell_type": "code",
   "execution_count": 272,
   "metadata": {},
   "outputs": [
    {
     "data": {
      "text/html": [
       "<style>#sk-container-id-18 {color: black;background-color: white;}#sk-container-id-18 pre{padding: 0;}#sk-container-id-18 div.sk-toggleable {background-color: white;}#sk-container-id-18 label.sk-toggleable__label {cursor: pointer;display: block;width: 100%;margin-bottom: 0;padding: 0.3em;box-sizing: border-box;text-align: center;}#sk-container-id-18 label.sk-toggleable__label-arrow:before {content: \"▸\";float: left;margin-right: 0.25em;color: #696969;}#sk-container-id-18 label.sk-toggleable__label-arrow:hover:before {color: black;}#sk-container-id-18 div.sk-estimator:hover label.sk-toggleable__label-arrow:before {color: black;}#sk-container-id-18 div.sk-toggleable__content {max-height: 0;max-width: 0;overflow: hidden;text-align: left;background-color: #f0f8ff;}#sk-container-id-18 div.sk-toggleable__content pre {margin: 0.2em;color: black;border-radius: 0.25em;background-color: #f0f8ff;}#sk-container-id-18 input.sk-toggleable__control:checked~div.sk-toggleable__content {max-height: 200px;max-width: 100%;overflow: auto;}#sk-container-id-18 input.sk-toggleable__control:checked~label.sk-toggleable__label-arrow:before {content: \"▾\";}#sk-container-id-18 div.sk-estimator input.sk-toggleable__control:checked~label.sk-toggleable__label {background-color: #d4ebff;}#sk-container-id-18 div.sk-label input.sk-toggleable__control:checked~label.sk-toggleable__label {background-color: #d4ebff;}#sk-container-id-18 input.sk-hidden--visually {border: 0;clip: rect(1px 1px 1px 1px);clip: rect(1px, 1px, 1px, 1px);height: 1px;margin: -1px;overflow: hidden;padding: 0;position: absolute;width: 1px;}#sk-container-id-18 div.sk-estimator {font-family: monospace;background-color: #f0f8ff;border: 1px dotted black;border-radius: 0.25em;box-sizing: border-box;margin-bottom: 0.5em;}#sk-container-id-18 div.sk-estimator:hover {background-color: #d4ebff;}#sk-container-id-18 div.sk-parallel-item::after {content: \"\";width: 100%;border-bottom: 1px solid gray;flex-grow: 1;}#sk-container-id-18 div.sk-label:hover label.sk-toggleable__label {background-color: #d4ebff;}#sk-container-id-18 div.sk-serial::before {content: \"\";position: absolute;border-left: 1px solid gray;box-sizing: border-box;top: 0;bottom: 0;left: 50%;z-index: 0;}#sk-container-id-18 div.sk-serial {display: flex;flex-direction: column;align-items: center;background-color: white;padding-right: 0.2em;padding-left: 0.2em;position: relative;}#sk-container-id-18 div.sk-item {position: relative;z-index: 1;}#sk-container-id-18 div.sk-parallel {display: flex;align-items: stretch;justify-content: center;background-color: white;position: relative;}#sk-container-id-18 div.sk-item::before, #sk-container-id-18 div.sk-parallel-item::before {content: \"\";position: absolute;border-left: 1px solid gray;box-sizing: border-box;top: 0;bottom: 0;left: 50%;z-index: -1;}#sk-container-id-18 div.sk-parallel-item {display: flex;flex-direction: column;z-index: 1;position: relative;background-color: white;}#sk-container-id-18 div.sk-parallel-item:first-child::after {align-self: flex-end;width: 50%;}#sk-container-id-18 div.sk-parallel-item:last-child::after {align-self: flex-start;width: 50%;}#sk-container-id-18 div.sk-parallel-item:only-child::after {width: 0;}#sk-container-id-18 div.sk-dashed-wrapped {border: 1px dashed gray;margin: 0 0.4em 0.5em 0.4em;box-sizing: border-box;padding-bottom: 0.4em;background-color: white;}#sk-container-id-18 div.sk-label label {font-family: monospace;font-weight: bold;display: inline-block;line-height: 1.2em;}#sk-container-id-18 div.sk-label-container {text-align: center;}#sk-container-id-18 div.sk-container {/* jupyter's `normalize.less` sets `[hidden] { display: none; }` but bootstrap.min.css set `[hidden] { display: none !important; }` so we also need the `!important` here to be able to override the default hidden behavior on the sphinx rendered scikit-learn.org. See: https://github.com/scikit-learn/scikit-learn/issues/21755 */display: inline-block !important;position: relative;}#sk-container-id-18 div.sk-text-repr-fallback {display: none;}</style><div id=\"sk-container-id-18\" class=\"sk-top-container\"><div class=\"sk-text-repr-fallback\"><pre>RandomForestClassifier(criterion=&#x27;entropy&#x27;, warm_start=True)</pre><b>In a Jupyter environment, please rerun this cell to show the HTML representation or trust the notebook. <br />On GitHub, the HTML representation is unable to render, please try loading this page with nbviewer.org.</b></div><div class=\"sk-container\" hidden><div class=\"sk-item\"><div class=\"sk-estimator sk-toggleable\"><input class=\"sk-toggleable__control sk-hidden--visually\" id=\"sk-estimator-id-18\" type=\"checkbox\" checked><label for=\"sk-estimator-id-18\" class=\"sk-toggleable__label sk-toggleable__label-arrow\">RandomForestClassifier</label><div class=\"sk-toggleable__content\"><pre>RandomForestClassifier(criterion=&#x27;entropy&#x27;, warm_start=True)</pre></div></div></div></div></div>"
      ],
      "text/plain": [
       "RandomForestClassifier(criterion='entropy', warm_start=True)"
      ]
     },
     "execution_count": 272,
     "metadata": {},
     "output_type": "execute_result"
    }
   ],
   "source": [
    "model = RandomForestClassifier(criterion='entropy', warm_start = True)\n",
    "model.fit(x_train,y_train)"
   ]
  },
  {
   "cell_type": "code",
   "execution_count": 90,
   "metadata": {},
   "outputs": [
    {
     "data": {
      "text/html": [
       "<style>#sk-container-id-13 {color: black;background-color: white;}#sk-container-id-13 pre{padding: 0;}#sk-container-id-13 div.sk-toggleable {background-color: white;}#sk-container-id-13 label.sk-toggleable__label {cursor: pointer;display: block;width: 100%;margin-bottom: 0;padding: 0.3em;box-sizing: border-box;text-align: center;}#sk-container-id-13 label.sk-toggleable__label-arrow:before {content: \"▸\";float: left;margin-right: 0.25em;color: #696969;}#sk-container-id-13 label.sk-toggleable__label-arrow:hover:before {color: black;}#sk-container-id-13 div.sk-estimator:hover label.sk-toggleable__label-arrow:before {color: black;}#sk-container-id-13 div.sk-toggleable__content {max-height: 0;max-width: 0;overflow: hidden;text-align: left;background-color: #f0f8ff;}#sk-container-id-13 div.sk-toggleable__content pre {margin: 0.2em;color: black;border-radius: 0.25em;background-color: #f0f8ff;}#sk-container-id-13 input.sk-toggleable__control:checked~div.sk-toggleable__content {max-height: 200px;max-width: 100%;overflow: auto;}#sk-container-id-13 input.sk-toggleable__control:checked~label.sk-toggleable__label-arrow:before {content: \"▾\";}#sk-container-id-13 div.sk-estimator input.sk-toggleable__control:checked~label.sk-toggleable__label {background-color: #d4ebff;}#sk-container-id-13 div.sk-label input.sk-toggleable__control:checked~label.sk-toggleable__label {background-color: #d4ebff;}#sk-container-id-13 input.sk-hidden--visually {border: 0;clip: rect(1px 1px 1px 1px);clip: rect(1px, 1px, 1px, 1px);height: 1px;margin: -1px;overflow: hidden;padding: 0;position: absolute;width: 1px;}#sk-container-id-13 div.sk-estimator {font-family: monospace;background-color: #f0f8ff;border: 1px dotted black;border-radius: 0.25em;box-sizing: border-box;margin-bottom: 0.5em;}#sk-container-id-13 div.sk-estimator:hover {background-color: #d4ebff;}#sk-container-id-13 div.sk-parallel-item::after {content: \"\";width: 100%;border-bottom: 1px solid gray;flex-grow: 1;}#sk-container-id-13 div.sk-label:hover label.sk-toggleable__label {background-color: #d4ebff;}#sk-container-id-13 div.sk-serial::before {content: \"\";position: absolute;border-left: 1px solid gray;box-sizing: border-box;top: 0;bottom: 0;left: 50%;z-index: 0;}#sk-container-id-13 div.sk-serial {display: flex;flex-direction: column;align-items: center;background-color: white;padding-right: 0.2em;padding-left: 0.2em;position: relative;}#sk-container-id-13 div.sk-item {position: relative;z-index: 1;}#sk-container-id-13 div.sk-parallel {display: flex;align-items: stretch;justify-content: center;background-color: white;position: relative;}#sk-container-id-13 div.sk-item::before, #sk-container-id-13 div.sk-parallel-item::before {content: \"\";position: absolute;border-left: 1px solid gray;box-sizing: border-box;top: 0;bottom: 0;left: 50%;z-index: -1;}#sk-container-id-13 div.sk-parallel-item {display: flex;flex-direction: column;z-index: 1;position: relative;background-color: white;}#sk-container-id-13 div.sk-parallel-item:first-child::after {align-self: flex-end;width: 50%;}#sk-container-id-13 div.sk-parallel-item:last-child::after {align-self: flex-start;width: 50%;}#sk-container-id-13 div.sk-parallel-item:only-child::after {width: 0;}#sk-container-id-13 div.sk-dashed-wrapped {border: 1px dashed gray;margin: 0 0.4em 0.5em 0.4em;box-sizing: border-box;padding-bottom: 0.4em;background-color: white;}#sk-container-id-13 div.sk-label label {font-family: monospace;font-weight: bold;display: inline-block;line-height: 1.2em;}#sk-container-id-13 div.sk-label-container {text-align: center;}#sk-container-id-13 div.sk-container {/* jupyter's `normalize.less` sets `[hidden] { display: none; }` but bootstrap.min.css set `[hidden] { display: none !important; }` so we also need the `!important` here to be able to override the default hidden behavior on the sphinx rendered scikit-learn.org. See: https://github.com/scikit-learn/scikit-learn/issues/21755 */display: inline-block !important;position: relative;}#sk-container-id-13 div.sk-text-repr-fallback {display: none;}</style><div id=\"sk-container-id-13\" class=\"sk-top-container\"><div class=\"sk-text-repr-fallback\"><pre>LinearSVC(max_iter=100000000)</pre><b>In a Jupyter environment, please rerun this cell to show the HTML representation or trust the notebook. <br />On GitHub, the HTML representation is unable to render, please try loading this page with nbviewer.org.</b></div><div class=\"sk-container\" hidden><div class=\"sk-item\"><div class=\"sk-estimator sk-toggleable\"><input class=\"sk-toggleable__control sk-hidden--visually\" id=\"sk-estimator-id-13\" type=\"checkbox\" checked><label for=\"sk-estimator-id-13\" class=\"sk-toggleable__label sk-toggleable__label-arrow\">LinearSVC</label><div class=\"sk-toggleable__content\"><pre>LinearSVC(max_iter=100000000)</pre></div></div></div></div></div>"
      ],
      "text/plain": [
       "LinearSVC(max_iter=100000000)"
      ]
     },
     "execution_count": 90,
     "metadata": {},
     "output_type": "execute_result"
    }
   ],
   "source": [
    "from sklearn import svm\n",
    "from sklearn.svm import LinearSVC\n",
    "\n",
    "\n",
    "model = svm.LinearSVC(max_iter = 100000000)\n",
    "model.fit(x_train,y_train)\n"
   ]
  },
  {
   "cell_type": "code",
   "execution_count": 273,
   "metadata": {},
   "outputs": [],
   "source": [
    "def evaluation_metrics(x, y, model):\n",
    "\n",
    "    y_pred = model.predict(x)\n",
    "\n",
    "    accuracy = accuracy_score(y, y_pred)\n",
    "    precision = precision_score(y, y_pred, average=\"macro\",labels=np.unique(y_pred))\n",
    "    recall = recall_score(y, y_pred, average=\"macro\",labels=np.unique(y_pred))\n",
    "    f1 = f1_score(y, y_pred, average=\"macro\",labels=np.unique(y_pred))\n",
    "\n",
    "    print(\"Accuracy: {:.4f}\".format(accuracy))\n",
    "    print(\"Precision: {:.4f}\".format(precision))\n",
    "    print(\"Recall: {:.4f}\".format(recall))\n",
    "    print(\"F1 Score: {:.4f}\".format(f1))"
   ]
  },
  {
   "cell_type": "code",
   "execution_count": 76,
   "metadata": {},
   "outputs": [],
   "source": [
    "import warnings\n",
    "warnings.filterwarnings('always')"
   ]
  },
  {
   "cell_type": "code",
   "execution_count": 163,
   "metadata": {},
   "outputs": [
    {
     "name": "stdout",
     "output_type": "stream",
     "text": [
      "[[0. 0. 0. ... 0. 0. 0.]\n",
      " [0. 0. 0. ... 0. 0. 0.]\n",
      " [0. 0. 0. ... 0. 0. 0.]\n",
      " ...\n",
      " [0. 0. 0. ... 0. 0. 0.]\n",
      " [0. 0. 0. ... 0. 0. 0.]\n",
      " [0. 0. 0. ... 0. 0. 0.]]\n"
     ]
    }
   ],
   "source": [
    "print(X_encoded)"
   ]
  },
  {
   "cell_type": "code",
   "execution_count": 274,
   "metadata": {},
   "outputs": [
    {
     "name": "stdout",
     "output_type": "stream",
     "text": [
      "Accuracy: 0.6500\n",
      "Precision: 0.6500\n",
      "Recall: 1.0000\n",
      "F1 Score: 0.7879\n"
     ]
    }
   ],
   "source": [
    "evaluation_metrics(x_test, y_test, model)\n"
   ]
  },
  {
   "cell_type": "code",
   "execution_count": 275,
   "metadata": {},
   "outputs": [
    {
     "name": "stderr",
     "output_type": "stream",
     "text": [
      "C:\\Users\\perna\\AppData\\Local\\Packages\\PythonSoftwareFoundation.Python.3.9_qbz5n2kfra8p0\\LocalCache\\local-packages\\Python39\\site-packages\\sklearn\\base.py:450: UserWarning: X does not have valid feature names, but RandomForestClassifier was fitted with feature names\n",
      "  warnings.warn(\n"
     ]
    }
   ],
   "source": [
    "x_test= [[23,44,0,0,1,1900]]\n",
    "x = dataset[['bmi','age','vegNonveg','gender','cat','calorie_intake']]\n",
    "\n",
    "y_pred = model.predict(x_test)"
   ]
  },
  {
   "cell_type": "code",
   "execution_count": 276,
   "metadata": {},
   "outputs": [
    {
     "name": "stdout",
     "output_type": "stream",
     "text": [
      "[34]\n"
     ]
    }
   ],
   "source": [
    "print(y_pred)"
   ]
  },
  {
   "cell_type": "code",
   "execution_count": 277,
   "metadata": {},
   "outputs": [],
   "source": [
    "x = dataset[['food']]\n",
    "list = x.values"
   ]
  },
  {
   "cell_type": "code",
   "execution_count": 278,
   "metadata": {},
   "outputs": [
    {
     "name": "stdout",
     "output_type": "stream",
     "text": [
      "[['Breakfast:TChocolate peanut protein shake - Lunch:Hummus on Whole Wheat- Dinner:Soba Noodles & Coconut Curry,Lemon Steamed Broccoli']]\n"
     ]
    }
   ],
   "source": [
    "print(list[y_pred])"
   ]
  }
 ],
 "metadata": {
  "kernelspec": {
   "display_name": "base",
   "language": "python",
   "name": "python3"
  },
  "language_info": {
   "codemirror_mode": {
    "name": "ipython",
    "version": 3
   },
   "file_extension": ".py",
   "mimetype": "text/x-python",
   "name": "python",
   "nbconvert_exporter": "python",
   "pygments_lexer": "ipython3",
   "version": "3.9.13"
  },
  "orig_nbformat": 4
 },
 "nbformat": 4,
 "nbformat_minor": 2
}
