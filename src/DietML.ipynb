{
 "cells": [
  {
   "cell_type": "code",
   "execution_count": 24,
   "metadata": {},
   "outputs": [
    {
     "name": "stdout",
     "output_type": "stream",
     "text": [
      "     Meal_Id                        Name catagory  \\\n",
      "0          1         summer squash salad    salad   \n",
      "1          2        chicken minced salad    salad   \n",
      "2          3        sweet chilli almonds   chilli   \n",
      "3          4             tricolour salad    salad   \n",
      "4          5  gluten-free christmas cake     cake   \n",
      "..       ...                         ...      ...   \n",
      "507      305                  sunga pork    curry   \n",
      "508      306                banana chips   banana   \n",
      "509      307                 bhurji- egg      egg   \n",
      "510      308       flattened rice / pohe     rice   \n",
      "511      309                 puffed rice     rice   \n",
      "\n",
      "                                           description  Veg_Non  \\\n",
      "0    white balsamic vinegar, lemon juice, lemon rin...      veg   \n",
      "1    olive oil, chicken mince, garlic (minced), oni...  non-veg   \n",
      "2    almonds whole, egg white, curry leaves, salt, ...      veg   \n",
      "3    vinegar, honey/sugar, soy sauce, salt, garlic ...      veg   \n",
      "4    christmas dry fruits (pre-soaked), orange zest...      veg   \n",
      "..                                                 ...      ...   \n",
      "507                                              curry      veg   \n",
      "508  r dried slices of bananas (fruits of herbaceou...      veg   \n",
      "509  made using indian spices, onion, tomatoes, gre...  non-veg   \n",
      "510  ible, dehusked rice which is flattened into fl...      veg   \n",
      "511  grain made from rice; usually made by heating ...      veg   \n",
      "\n",
      "          Nutrient                                            Disease  \\\n",
      "0            fiber              obesity diabeties hypertension goitre   \n",
      "1            fiber   anemia pregnancy hypertension rickets goitre ...   \n",
      "2        vitamin_a   hypertension scurvy heart_disease goitre kidn...   \n",
      "3            fiber                        obesity goitre hypertension   \n",
      "4        vitamin_a                              goitre kidney_disease   \n",
      "..             ...                                                ...   \n",
      "507           iron                                   pregnancy goitre   \n",
      "508      magnesium                                       hypertension   \n",
      "509      vitamin_a   hypertension rickets goitre kidney_disease pr...   \n",
      "510  carbohydrates   anemia cancer scurvy heart_disease eye_diseas...   \n",
      "511  carbohydrates                           obesity diabeties anemia   \n",
      "\n",
      "                                                  Diet  \n",
      "0     alkaline_diet low_fat_diet ketogenic_diet low...  \n",
      "1     low_fat_diet low_carb_diet ketogenic_diet low...  \n",
      "2     alkaline_diet low_fat_diet paleo_diet Mediter...  \n",
      "3     low_fat_diet ketogenic_diet low_sodium_diet h...  \n",
      "4                                    high_protien_diet  \n",
      "..                                                 ...  \n",
      "507   low_fat_diet paleo_diet vegan_diet high_fiber...  \n",
      "508   alkaline_diet high_protien_diet vegan_diet hi...  \n",
      "509   low_sodium_diet high_protien_diet low_fat_die...  \n",
      "510   alkaline_diet low_fat_diet ketogenic_diet veg...  \n",
      "511   high_protien_diet vegan_diet dash_diet ketoge...  \n",
      "\n",
      "[512 rows x 8 columns]\n"
     ]
    }
   ],
   "source": [
    "import pandas as pd\n",
    "from sklearn.model_selection import train_test_split\n",
    "import matplotlib.pyplot as plt\n",
    "from sklearn.ensemble import RandomForestClassifier\n",
    "from sklearn.metrics import accuracy_score, precision_score, recall_score, f1_score, make_scorer, mean_squared_error, r2_score\n",
    "import numpy as np\n",
    "from sklearn.cluster import KMeans\n",
    "\n",
    "dataset = pd.read_csv(\"..\\\\Dataset\\\\meal.csv\")\n",
    "#Seprating dataset into input and output values\n",
    "#print(x.to_string())\n",
    "x = dataset[['Meal_Id','Name','catagory','description','Veg_Non','Nutrient','Disease','Diet']]\n",
    "print(x)"
   ]
  },
  {
   "cell_type": "markdown",
   "metadata": {},
   "source": [
    "## encoder"
   ]
  },
  {
   "cell_type": "code",
   "execution_count": 25,
   "metadata": {},
   "outputs": [],
   "source": [
    "from sklearn.preprocessing import LabelEncoder\n",
    "\n",
    "# Creazione dell'oggetto LabelEncoder\n",
    "label_encoder = LabelEncoder()\n",
    "\n",
    "# Codifica delle variabili categoriche come valori numerici\n",
    "X_encoded = x.copy()  # Copia dei dati originali\n",
    "X_encoded['Name'] = label_encoder.fit_transform(x['Name'])\n",
    "X_encoded['catagory'] = label_encoder.fit_transform(x['catagory'])\n",
    "X_encoded['description'] = label_encoder.fit_transform(x['description'])\n",
    "X_encoded['Veg_Non'] = label_encoder.fit_transform(x['Veg_Non'])\n",
    "X_encoded['Nutrient'] = label_encoder.fit_transform(x['Nutrient'])\n",
    "X_encoded['Disease'] = label_encoder.fit_transform(x['Disease'])\n",
    "X_encoded['Diet'] = label_encoder.fit_transform(x['Diet'])\n"
   ]
  },
  {
   "cell_type": "code",
   "execution_count": 26,
   "metadata": {},
   "outputs": [],
   "source": [
    "from sklearn.preprocessing import OneHotEncoder\n",
    "\n",
    "# Creazione dell'oggetto OneHotEncoder\n",
    "encoder = OneHotEncoder()\n",
    "X_encoded = X_encoded.values\n",
    "# Adattamento del modello agli dati\n",
    "encoder.fit(X_encoded)\n",
    "\n",
    "# Trasformazione dei dati di addestramento\n",
    "X_encoded = encoder.transform(X_encoded).toarray()\n"
   ]
  },
  {
   "cell_type": "markdown",
   "metadata": {},
   "source": [
    "## Standard scaler"
   ]
  },
  {
   "cell_type": "code",
   "execution_count": 27,
   "metadata": {},
   "outputs": [],
   "source": [
    "from sklearn.preprocessing import StandardScaler\n",
    "\n",
    "# Creazione di un oggetto StandardScaler\n",
    "scaler = StandardScaler()\n",
    "\n",
    "# Trasformazione e adattamento dei dati di addestramento\n",
    "X_scaled = scaler.fit_transform(X_encoded)"
   ]
  },
  {
   "cell_type": "code",
   "execution_count": 28,
   "metadata": {},
   "outputs": [
    {
     "name": "stdout",
     "output_type": "stream",
     "text": [
      "     Meal_Id                        Name catagory  \\\n",
      "0          1         summer squash salad    salad   \n",
      "1          2        chicken minced salad    salad   \n",
      "2          3        sweet chilli almonds   chilli   \n",
      "3          4             tricolour salad    salad   \n",
      "4          5  gluten-free christmas cake     cake   \n",
      "..       ...                         ...      ...   \n",
      "507      305                  sunga pork    curry   \n",
      "508      306                banana chips   banana   \n",
      "509      307                 bhurji- egg      egg   \n",
      "510      308       flattened rice / pohe     rice   \n",
      "511      309                 puffed rice     rice   \n",
      "\n",
      "                                           description  Veg_Non  \\\n",
      "0    white balsamic vinegar, lemon juice, lemon rin...      veg   \n",
      "1    olive oil, chicken mince, garlic (minced), oni...  non-veg   \n",
      "2    almonds whole, egg white, curry leaves, salt, ...      veg   \n",
      "3    vinegar, honey/sugar, soy sauce, salt, garlic ...      veg   \n",
      "4    christmas dry fruits (pre-soaked), orange zest...      veg   \n",
      "..                                                 ...      ...   \n",
      "507                                              curry      veg   \n",
      "508  r dried slices of bananas (fruits of herbaceou...      veg   \n",
      "509  made using indian spices, onion, tomatoes, gre...  non-veg   \n",
      "510  ible, dehusked rice which is flattened into fl...      veg   \n",
      "511  grain made from rice; usually made by heating ...      veg   \n",
      "\n",
      "          Nutrient                                            Disease  \\\n",
      "0            fiber              obesity diabeties hypertension goitre   \n",
      "1            fiber   anemia pregnancy hypertension rickets goitre ...   \n",
      "2        vitamin_a   hypertension scurvy heart_disease goitre kidn...   \n",
      "3            fiber                        obesity goitre hypertension   \n",
      "4        vitamin_a                              goitre kidney_disease   \n",
      "..             ...                                                ...   \n",
      "507           iron                                   pregnancy goitre   \n",
      "508      magnesium                                       hypertension   \n",
      "509      vitamin_a   hypertension rickets goitre kidney_disease pr...   \n",
      "510  carbohydrates   anemia cancer scurvy heart_disease eye_diseas...   \n",
      "511  carbohydrates                           obesity diabeties anemia   \n",
      "\n",
      "                                                  Diet  \n",
      "0     alkaline_diet low_fat_diet ketogenic_diet low...  \n",
      "1     low_fat_diet low_carb_diet ketogenic_diet low...  \n",
      "2     alkaline_diet low_fat_diet paleo_diet Mediter...  \n",
      "3     low_fat_diet ketogenic_diet low_sodium_diet h...  \n",
      "4                                    high_protien_diet  \n",
      "..                                                 ...  \n",
      "507   low_fat_diet paleo_diet vegan_diet high_fiber...  \n",
      "508   alkaline_diet high_protien_diet vegan_diet hi...  \n",
      "509   low_sodium_diet high_protien_diet low_fat_die...  \n",
      "510   alkaline_diet low_fat_diet ketogenic_diet veg...  \n",
      "511   high_protien_diet vegan_diet dash_diet ketoge...  \n",
      "\n",
      "[512 rows x 8 columns]\n"
     ]
    }
   ],
   "source": [
    "print(x)"
   ]
  },
  {
   "cell_type": "markdown",
   "metadata": {},
   "source": [
    "## Oversampling"
   ]
  },
  {
   "cell_type": "code",
   "execution_count": null,
   "metadata": {},
   "outputs": [
    {
     "name": "stdout",
     "output_type": "stream",
     "text": [
      "Collecting scikit-learn==1.2.2Note: you may need to restart the kernel to use updated packages.\n"
     ]
    },
    {
     "name": "stderr",
     "output_type": "stream",
     "text": [
      "ERROR: Could not install packages due to an OSError: [WinError 5] Accesso negato: 'C:\\\\Users\\\\perna\\\\AppData\\\\Local\\\\Packages\\\\PythonSoftwareFoundation.Python.3.9_qbz5n2kfra8p0\\\\LocalCache\\\\local-packages\\\\Python39\\\\site-packages\\\\~~learn\\\\.libs\\\\msvcp140.dll'\n",
      "Check the permissions.\n",
      "\n"
     ]
    },
    {
     "name": "stdout",
     "output_type": "stream",
     "text": [
      "\n",
      "  Using cached scikit_learn-1.2.2-cp39-cp39-win_amd64.whl (8.4 MB)\n",
      "Requirement already satisfied: numpy>=1.17.3 in c:\\users\\perna\\appdata\\local\\packages\\pythonsoftwarefoundation.python.3.9_qbz5n2kfra8p0\\localcache\\local-packages\\python39\\site-packages (from scikit-learn==1.2.2) (1.24.4)\n",
      "Requirement already satisfied: scipy>=1.3.2 in c:\\users\\perna\\appdata\\local\\packages\\pythonsoftwarefoundation.python.3.9_qbz5n2kfra8p0\\localcache\\local-packages\\python39\\site-packages (from scikit-learn==1.2.2) (1.8.1)\n",
      "Requirement already satisfied: joblib>=1.1.1 in c:\\users\\perna\\appdata\\local\\packages\\pythonsoftwarefoundation.python.3.9_qbz5n2kfra8p0\\localcache\\local-packages\\python39\\site-packages (from scikit-learn==1.2.2) (1.3.1)\n",
      "Requirement already satisfied: threadpoolctl>=2.0.0 in c:\\users\\perna\\appdata\\local\\packages\\pythonsoftwarefoundation.python.3.9_qbz5n2kfra8p0\\localcache\\local-packages\\python39\\site-packages (from scikit-learn==1.2.2) (3.1.0)\n",
      "Installing collected packages: scikit-learn\n",
      "  Attempting uninstall: scikit-learn\n",
      "    Found existing installation: scikit-learn 1.3.0\n",
      "    Uninstalling scikit-learn-1.3.0:\n",
      "      Successfully uninstalled scikit-learn-1.3.0\n"
     ]
    }
   ],
   "source": [
    "#%pip install scikit-learn==1.2.2"
   ]
  },
  {
   "cell_type": "code",
   "execution_count": null,
   "metadata": {},
   "outputs": [
    {
     "name": "stdout",
     "output_type": "stream",
     "text": [
      "Counter({2111: 3, 2288: 3, 2660: 3, 2255: 3, 2604: 3, 2049: 3, 1980: 3, 2282: 3, 2166: 3, 2755: 3, 2466: 3, 2175: 3, 3084: 3, 2526: 3, 2367: 3, 2308: 3, 2486: 3, 2390: 3, 2388: 3, 2094: 3, 2219: 3, 2067: 3, 2778: 3, 2625: 3, 2885: 3, 2004: 3, 2199: 3, 2342: 3, 2265: 3, 2159: 3, 2382: 3, 2736: 3, 2270: 3, 1836: 3, 1973: 3, 1878: 3, 1811: 3, 2222: 3, 1165: 3, 1108: 3, 1429: 3, 1138: 3, 2609: 3, 2043: 3, 1885: 3, 1969: 3, 2178: 3, 2125: 3, 1794: 3, 1862: 3, 1503: 3, 1675: 3, 1882: 3, 1291: 3, 2129: 3, 1700: 3, 1667: 3, 2384: 3, 1630: 3, 2092: 3, 1844: 3, 2171: 3, 1673: 3, 1442: 3, 1689: 3, 1534: 3, 2120: 3, 1791: 3, 1343: 3, 1555: 3, 1037: 3, 1774: 3, 1585: 3, 2174: 3, 1264: 3, 2326: 3, 2358: 3, 2536: 3, 2080: 3, 1739: 3, 1722: 3, 1637: 3, 1313: 3, 1315: 3, 1783: 3, 845: 3, 1473: 3, 1163: 3, 2147: 3, 1955: 3, 1813: 3, 947: 3, 1823: 3, 1483: 3, 1472: 3, 1872: 3, 2298: 3, 2170: 3, 1099: 3, 2315: 3, 977: 3, 1691: 3, 1947: 3, 2044: 3, 2063: 3, 1748: 3, 1009: 3, 1526: 3, 1135: 3, 1249: 3, 1468: 3, 1646: 3, 1460: 3, 2071: 3, 2073: 3, 1568: 3, 1570: 3, 1618: 3, 2137: 3, 1548: 3, 1375: 3, 2236: 3, 2396: 3, 1940: 3, 2131: 3, 2619: 3, 1998: 3, 1900: 3, 1835: 3, 2173: 3, 1867: 3, 1666: 3, 1991: 3, 1638: 3, 2193: 3, 1976: 3, 2474: 3, 1501: 3, 2772: 3, 2186: 3, 1942: 3, 2543: 3, 2321: 3, 2099: 3, 2281: 3, 1887: 3, 1796: 3, 2524: 3, 1759: 3, 2377: 3, 1668: 3, 1804: 3, 1944: 3, 1800: 3, 1635: 3, 2462: 3, 2148: 3, 2089: 3, 2517: 3, 1924: 3, 1881: 3, 2046: 3, 1632: 3, 1519: 3, 2338: 3, 1572: 3, 1257: 3, 2749: 3, 2050: 3, 1663: 3, 2027: 3, 1417: 3, 2459: 3, 1697: 3, 1830: 3, 2028: 3, 2289: 3, 2668: 3, 1590: 3, 2283: 3, 2097: 3, 1247: 3, 1788: 3, 1361: 3})\n"
     ]
    },
    {
     "data": {
      "text/plain": [
       "Counter({0: 9844, 1: 9844})"
      ]
     },
     "execution_count": 177,
     "metadata": {},
     "output_type": "execute_result"
    }
   ],
   "source": [
    "from sklearn.utils._param_validation import _MissingValues\n",
    "from imblearn.over_sampling import RandomOverSampler\n",
    "from collections import Counter\n",
    "\n",
    "\n",
    "# instantiating the random over sampler \n",
    "ros = RandomOverSampler()\n",
    "# resampling X, y\n",
    "x_ros, y_ros = ros.fit_resample(x, y)\n",
    "# new class distribution \n",
    "print(Counter(y_ros))\n",
    "Counter({0: 9844, 1: 9844})"
   ]
  },
  {
   "cell_type": "code",
   "execution_count": null,
   "metadata": {},
   "outputs": [
    {
     "name": "stdout",
     "output_type": "stream",
     "text": [
      "     bmi  gender  age\n",
      "0     17       1   38\n",
      "1     11       1   34\n",
      "2     13       1   32\n",
      "3     15       1   45\n",
      "4     18       1   48\n",
      "..   ...     ...  ...\n",
      "547   15       0   31\n",
      "548   16       0   35\n",
      "549   16       0   35\n",
      "550   16       1   47\n",
      "551   16       1   47\n",
      "\n",
      "[552 rows x 3 columns]\n"
     ]
    }
   ],
   "source": [
    "print(x_ros)"
   ]
  },
  {
   "cell_type": "code",
   "execution_count": null,
   "metadata": {},
   "outputs": [
    {
     "name": "stdout",
     "output_type": "stream",
     "text": [
      "0      2111\n",
      "1      2288\n",
      "2      2660\n",
      "3      2255\n",
      "4      2604\n",
      "       ... \n",
      "547    2778\n",
      "548    2885\n",
      "549    2885\n",
      "550    3084\n",
      "551    3084\n",
      "Name: calorie_intake, Length: 552, dtype: int64\n"
     ]
    }
   ],
   "source": [
    "print(y_ros)"
   ]
  },
  {
   "cell_type": "markdown",
   "metadata": {},
   "source": [
    "## K-means"
   ]
  },
  {
   "cell_type": "code",
   "execution_count": 34,
   "metadata": {},
   "outputs": [
    {
     "ename": "KeyboardInterrupt",
     "evalue": "",
     "output_type": "error",
     "traceback": [
      "\u001b[1;31m---------------------------------------------------------------------------\u001b[0m",
      "\u001b[1;31mKeyboardInterrupt\u001b[0m                         Traceback (most recent call last)",
      "Cell \u001b[1;32mIn[34], line 8\u001b[0m\n\u001b[0;32m      6\u001b[0m \u001b[39mfor\u001b[39;00m k \u001b[39min\u001b[39;00m k_values:\n\u001b[0;32m      7\u001b[0m     kmeans \u001b[39m=\u001b[39m KMeans(n_clusters\u001b[39m=\u001b[39mk, random_state\u001b[39m=\u001b[39m\u001b[39m0\u001b[39m, n_init \u001b[39m=\u001b[39m \u001b[39m10\u001b[39m)\n\u001b[1;32m----> 8\u001b[0m     kmeans\u001b[39m.\u001b[39;49mfit(X_scaled)\n\u001b[0;32m      9\u001b[0m     labels \u001b[39m=\u001b[39m kmeans\u001b[39m.\u001b[39mlabels_\n\u001b[0;32m     10\u001b[0m     silhouette_scores\u001b[39m.\u001b[39mappend(silhouette_score(X_scaled, labels))\n",
      "File \u001b[1;32m~\\AppData\\Local\\Packages\\PythonSoftwareFoundation.Python.3.9_qbz5n2kfra8p0\\LocalCache\\local-packages\\Python39\\site-packages\\sklearn\\cluster\\_kmeans.py:1468\u001b[0m, in \u001b[0;36mKMeans.fit\u001b[1;34m(self, X, y, sample_weight)\u001b[0m\n\u001b[0;32m   1465\u001b[0m     \u001b[39mprint\u001b[39m(\u001b[39m\"\u001b[39m\u001b[39mInitialization complete\u001b[39m\u001b[39m\"\u001b[39m)\n\u001b[0;32m   1467\u001b[0m \u001b[39m# run a k-means once\u001b[39;00m\n\u001b[1;32m-> 1468\u001b[0m labels, inertia, centers, n_iter_ \u001b[39m=\u001b[39m kmeans_single(\n\u001b[0;32m   1469\u001b[0m     X,\n\u001b[0;32m   1470\u001b[0m     sample_weight,\n\u001b[0;32m   1471\u001b[0m     centers_init,\n\u001b[0;32m   1472\u001b[0m     max_iter\u001b[39m=\u001b[39;49m\u001b[39mself\u001b[39;49m\u001b[39m.\u001b[39;49mmax_iter,\n\u001b[0;32m   1473\u001b[0m     verbose\u001b[39m=\u001b[39;49m\u001b[39mself\u001b[39;49m\u001b[39m.\u001b[39;49mverbose,\n\u001b[0;32m   1474\u001b[0m     tol\u001b[39m=\u001b[39;49m\u001b[39mself\u001b[39;49m\u001b[39m.\u001b[39;49m_tol,\n\u001b[0;32m   1475\u001b[0m     n_threads\u001b[39m=\u001b[39;49m\u001b[39mself\u001b[39;49m\u001b[39m.\u001b[39;49m_n_threads,\n\u001b[0;32m   1476\u001b[0m )\n\u001b[0;32m   1478\u001b[0m \u001b[39m# determine if these results are the best so far\u001b[39;00m\n\u001b[0;32m   1479\u001b[0m \u001b[39m# we chose a new run if it has a better inertia and the clustering is\u001b[39;00m\n\u001b[0;32m   1480\u001b[0m \u001b[39m# different from the best so far (it's possible that the inertia is\u001b[39;00m\n\u001b[0;32m   1481\u001b[0m \u001b[39m# slightly better even if the clustering is the same with potentially\u001b[39;00m\n\u001b[0;32m   1482\u001b[0m \u001b[39m# permuted labels, due to rounding errors)\u001b[39;00m\n\u001b[0;32m   1483\u001b[0m \u001b[39mif\u001b[39;00m best_inertia \u001b[39mis\u001b[39;00m \u001b[39mNone\u001b[39;00m \u001b[39mor\u001b[39;00m (\n\u001b[0;32m   1484\u001b[0m     inertia \u001b[39m<\u001b[39m best_inertia\n\u001b[0;32m   1485\u001b[0m     \u001b[39mand\u001b[39;00m \u001b[39mnot\u001b[39;00m _is_same_clustering(labels, best_labels, \u001b[39mself\u001b[39m\u001b[39m.\u001b[39mn_clusters)\n\u001b[0;32m   1486\u001b[0m ):\n",
      "File \u001b[1;32m~\\AppData\\Local\\Packages\\PythonSoftwareFoundation.Python.3.9_qbz5n2kfra8p0\\LocalCache\\local-packages\\Python39\\site-packages\\sklearn\\cluster\\_kmeans.py:681\u001b[0m, in \u001b[0;36m_kmeans_single_lloyd\u001b[1;34m(X, sample_weight, centers_init, max_iter, verbose, tol, n_threads)\u001b[0m\n\u001b[0;32m    679\u001b[0m \u001b[39mwith\u001b[39;00m threadpool_limits(limits\u001b[39m=\u001b[39m\u001b[39m1\u001b[39m, user_api\u001b[39m=\u001b[39m\u001b[39m\"\u001b[39m\u001b[39mblas\u001b[39m\u001b[39m\"\u001b[39m):\n\u001b[0;32m    680\u001b[0m     \u001b[39mfor\u001b[39;00m i \u001b[39min\u001b[39;00m \u001b[39mrange\u001b[39m(max_iter):\n\u001b[1;32m--> 681\u001b[0m         lloyd_iter(\n\u001b[0;32m    682\u001b[0m             X,\n\u001b[0;32m    683\u001b[0m             sample_weight,\n\u001b[0;32m    684\u001b[0m             centers,\n\u001b[0;32m    685\u001b[0m             centers_new,\n\u001b[0;32m    686\u001b[0m             weight_in_clusters,\n\u001b[0;32m    687\u001b[0m             labels,\n\u001b[0;32m    688\u001b[0m             center_shift,\n\u001b[0;32m    689\u001b[0m             n_threads,\n\u001b[0;32m    690\u001b[0m         )\n\u001b[0;32m    692\u001b[0m         \u001b[39mif\u001b[39;00m verbose:\n\u001b[0;32m    693\u001b[0m             inertia \u001b[39m=\u001b[39m _inertia(X, sample_weight, centers, labels, n_threads)\n",
      "File \u001b[1;32msklearn\\cluster\\_k_means_lloyd.pyx:92\u001b[0m, in \u001b[0;36msklearn.cluster._k_means_lloyd.lloyd_iter_chunked_dense\u001b[1;34m()\u001b[0m\n",
      "File \u001b[1;32m~\\AppData\\Local\\Packages\\PythonSoftwareFoundation.Python.3.9_qbz5n2kfra8p0\\LocalCache\\local-packages\\Python39\\site-packages\\sklearn\\utils\\extmath.py:77\u001b[0m, in \u001b[0;36mrow_norms\u001b[1;34m(X, squared)\u001b[0m\n\u001b[0;32m     75\u001b[0m     norms \u001b[39m=\u001b[39m csr_row_norms(X)\n\u001b[0;32m     76\u001b[0m \u001b[39melse\u001b[39;00m:\n\u001b[1;32m---> 77\u001b[0m     norms \u001b[39m=\u001b[39m np\u001b[39m.\u001b[39;49meinsum(\u001b[39m\"\u001b[39;49m\u001b[39mij,ij->i\u001b[39;49m\u001b[39m\"\u001b[39;49m, X, X)\n\u001b[0;32m     79\u001b[0m \u001b[39mif\u001b[39;00m \u001b[39mnot\u001b[39;00m squared:\n\u001b[0;32m     80\u001b[0m     np\u001b[39m.\u001b[39msqrt(norms, norms)\n",
      "File \u001b[1;32m<__array_function__ internals>:200\u001b[0m, in \u001b[0;36meinsum\u001b[1;34m(*args, **kwargs)\u001b[0m\n",
      "File \u001b[1;32m~\\AppData\\Local\\Packages\\PythonSoftwareFoundation.Python.3.9_qbz5n2kfra8p0\\LocalCache\\local-packages\\Python39\\site-packages\\numpy\\core\\einsumfunc.py:1371\u001b[0m, in \u001b[0;36meinsum\u001b[1;34m(out, optimize, *operands, **kwargs)\u001b[0m\n\u001b[0;32m   1369\u001b[0m     \u001b[39mif\u001b[39;00m specified_out:\n\u001b[0;32m   1370\u001b[0m         kwargs[\u001b[39m'\u001b[39m\u001b[39mout\u001b[39m\u001b[39m'\u001b[39m] \u001b[39m=\u001b[39m out\n\u001b[1;32m-> 1371\u001b[0m     \u001b[39mreturn\u001b[39;00m c_einsum(\u001b[39m*\u001b[39moperands, \u001b[39m*\u001b[39m\u001b[39m*\u001b[39mkwargs)\n\u001b[0;32m   1373\u001b[0m \u001b[39m# Check the kwargs to avoid a more cryptic error later, without having to\u001b[39;00m\n\u001b[0;32m   1374\u001b[0m \u001b[39m# repeat default values here\u001b[39;00m\n\u001b[0;32m   1375\u001b[0m valid_einsum_kwargs \u001b[39m=\u001b[39m [\u001b[39m'\u001b[39m\u001b[39mdtype\u001b[39m\u001b[39m'\u001b[39m, \u001b[39m'\u001b[39m\u001b[39morder\u001b[39m\u001b[39m'\u001b[39m, \u001b[39m'\u001b[39m\u001b[39mcasting\u001b[39m\u001b[39m'\u001b[39m]\n",
      "\u001b[1;31mKeyboardInterrupt\u001b[0m: "
     ]
    }
   ],
   "source": [
    "from sklearn.metrics import silhouette_score\n",
    "\n",
    "k_values = range(2, 512)\n",
    "# Calcola il valore medio della silhouette per ogni valore di k\n",
    "silhouette_scores = []\n",
    "for k in k_values:\n",
    "    kmeans = KMeans(n_clusters=k, random_state=0, n_init = 10)\n",
    "    kmeans.fit(X_scaled)\n",
    "    labels = kmeans.labels_\n",
    "    silhouette_scores.append(silhouette_score(X_scaled, labels))\n",
    "\n",
    "# Visualizza il grafico della silhouette analysis\n",
    "plt.plot(k_values, silhouette_scores, marker='o')\n",
    "plt.xlabel('Numero di cluster (k)')\n",
    "plt.ylabel('Valore medio della silhouette')\n",
    "plt.title('Grafico della Silhouette Analysis')\n",
    "optimal_k = k_values[np.argmax(silhouette_scores)]\n",
    "plt.axvline(x=optimal_k, color='r', linestyle='--')\n",
    "plt.text(optimal_k + 0.1, max(silhouette_scores) - 0.1, f'k = {optimal_k}', color='r')\n",
    "plt.show()"
   ]
  },
  {
   "cell_type": "code",
   "execution_count": 29,
   "metadata": {},
   "outputs": [
    {
     "name": "stderr",
     "output_type": "stream",
     "text": [
      "C:\\Users\\perna\\AppData\\Local\\Packages\\PythonSoftwareFoundation.Python.3.9_qbz5n2kfra8p0\\LocalCache\\local-packages\\Python39\\site-packages\\sklearn\\cluster\\_kmeans.py:870: FutureWarning: The default value of `n_init` will change from 10 to 'auto' in 1.4. Set the value of `n_init` explicitly to suppress the warning\n",
      "  warnings.warn(\n"
     ]
    },
    {
     "data": {
      "image/png": "[encoded data removed]",
      "text/plain": [
       "<Figure size 640x480 with 1 Axes>"
      ]
     },
     "metadata": {},
     "output_type": "display_data"
    }
   ],
   "source": [
    "import numpy as np\n",
    "import matplotlib.pyplot as plt\n",
    "from sklearn.cluster import KMeans\n",
    "\n",
    "\n",
    "# Creazione dell'oggetto KMeans\n",
    "kmeans = KMeans(n_clusters=3)\n",
    "\n",
    "# Addestramento del modello sui dati\n",
    "kmeans.fit(X_scaled)\n",
    "\n",
    "# Etichettatura dei punti\n",
    "labels = kmeans.labels_\n",
    "\n",
    "# Ottenere i centroidi\n",
    "centroids = kmeans.cluster_centers_\n",
    "\n",
    "# Plot dei punti colorati secondo l'etichetta del cluster\n",
    "plt.scatter(X_scaled[:, 0], X_scaled[:, 1], c=labels)\n",
    "# Plot dei centroidi\n",
    "plt.scatter(centroids[:, 0], centroids[:, 1], marker='X', color='red', s=100)\n",
    "plt.xlabel('X')\n",
    "plt.ylabel('Y')\n",
    "plt.title('Clustering con K-Means')\n",
    "plt.show()"
   ]
  },
  {
   "cell_type": "code",
   "execution_count": 32,
   "metadata": {},
   "outputs": [],
   "source": [
    "# Alternatively, you can create a new dataframe with the instances and labels\n",
    "labels_df = pd.DataFrame({'Id_Meal': x['Meal_Id'], 'KMeans_Labels': kmeans.labels_})\n",
    "\n",
    "# Save the dataframe to a file\n",
    "labels_df.to_csv('instances_with_labels.csv', index=False)\n"
   ]
  }
 ],
 "metadata": {
  "kernelspec": {
   "display_name": "base",
   "language": "python",
   "name": "python3"
  },
  "language_info": {
   "codemirror_mode": {
    "name": "ipython",
    "version": 3
   },
   "file_extension": ".py",
   "mimetype": "text/x-python",
   "name": "python",
   "nbconvert_exporter": "python",
   "pygments_lexer": "ipython3",
   "version": "3.9.13"
  },
  "orig_nbformat": 4
 },
 "nbformat": 4,
 "nbformat_minor": 2
}
