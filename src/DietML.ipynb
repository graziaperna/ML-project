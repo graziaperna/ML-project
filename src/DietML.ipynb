{
 "cells": [
  {
   "cell_type": "code",
<<<<<<< HEAD
   "execution_count": 85,
=======
   "execution_count": 17,
>>>>>>> bf9e37a37b98dfb5afaeac3a2b2a3d2de1010d41
   "metadata": {},
   "outputs": [
    {
     "name": "stdout",
     "output_type": "stream",
     "text": [
      "x: \n",
      " age               10726\n",
      "weight(kg)        10726\n",
      "height(m)         10726\n",
      "gender            10726\n",
      "BMI               10726\n",
      "BMR               10726\n",
      "activity_level    10726\n",
      "dtype: int64\n",
      "\n",
      "y: \n",
      " 10726\n",
      "\n"
     ]
    }
   ],
   "source": [
    "import pandas as pd\n",
    "from sklearn.model_selection import train_test_split\n",
    "import matplotlib.pyplot as plt\n",
    "from sklearn.ensemble import RandomForestClassifier\n",
    "from sklearn.metrics import accuracy_score, precision_score, recall_score, f1_score, make_scorer, mean_squared_error, r2_score\n",
    "import numpy as np\n",
    "from sklearn.preprocessing import LabelEncoder\n",
    "from sklearn.preprocessing import StandardScaler\n",
    "from sklearn.model_selection import GridSearchCV\n",
    "from sklearn.model_selection import train_test_split\n",
    "from sklearn.metrics import accuracy_score\n",
    "import os\n",
    "import xgboost as xgb\n",
    "from sklearn.tree import DecisionTreeRegressor\n",
    "from sklearn.ensemble import RandomForestRegressor\n",
    "from sklearn.ensemble import GradientBoostingRegressor\n",
    "from sklearn.ensemble import AdaBoostRegressor\n",
    "import lightgbm as lgb\n",
    "from sklearn.ensemble import ExtraTreesRegressor\n",
    "from sklearn.ensemble import IsolationForest\n",
    "from sklearn.model_selection import cross_validate\n",
    "from sklearn.model_selection import RepeatedKFold\n",
    "import os\n",
    " \n",
    "\n",
    "df = pd.read_csv(\"..\\\\Dataset\\\\reccomender.csv\")\n",
    "x = df[['age','weight(kg)','height(m)','gender','BMI','BMR','activity_level']]\n",
    "y = df.calories\n",
    "print(\"x: \\n\", x.count(), end=\"\\n\\n\")\n",
    "print(\"y: \\n\", y.count(), end=\"\\n\\n\")"
   ]
  },
  {
   "cell_type": "code",
<<<<<<< HEAD
   "execution_count": 86,
=======
   "execution_count": 18,
>>>>>>> bf9e37a37b98dfb5afaeac3a2b2a3d2de1010d41
   "metadata": {},
   "outputs": [],
   "source": [
    "# Creazione dell'oggetto LabelEncoder\n",
    "label_encoder = LabelEncoder()\n",
    "\n",
    "# Codifica delle variabili categoriche come valori numerici\n",
    "x_encoded = x.copy()\n",
    "\n",
    "x_encoded['age'] = label_encoder.fit_transform(x['age'])\n",
    "x_encoded['weight(kg)'] = label_encoder.fit_transform(x['weight(kg)'])\n",
    "x_encoded['height(m)'] = label_encoder.fit_transform(x['height(m)'])\n",
    "x_encoded['gender'] = label_encoder.fit_transform(x['gender'])\n",
    "x_encoded['activity_level'] = label_encoder.fit_transform(x['activity_level'])\n",
    "x_encoded['BMR'] = label_encoder.fit_transform(x['BMR'])\n",
    "x_encoded['BMI'] = label_encoder.fit_transform(x['BMI'])"
   ]
  },
  {
   "cell_type": "code",
<<<<<<< HEAD
   "execution_count": 87,
=======
   "execution_count": 19,
>>>>>>> bf9e37a37b98dfb5afaeac3a2b2a3d2de1010d41
   "metadata": {},
   "outputs": [],
   "source": [
    "from sklearn.preprocessing import MinMaxScaler ,MaxAbsScaler ,RobustScaler ,QuantileTransformer\n",
    "import numpy as np\n",
    "\n",
    "\n",
    "# Creazione di un oggetto StandardScaler\n",
    "scaler = StandardScaler()\n",
    "#scaler = MinMaxScaler()\n",
    "#scaler = MaxAbsScaler()\n",
    "#scaler = RobustScaler()\n",
    "#scaler = QuantileTransformer()\n",
    "\n",
    "# Trasformazione e adattamento dei dati di addestramento\n",
    "x_scaled = scaler.fit_transform(x_encoded)"
   ]
  },
  {
   "cell_type": "code",
<<<<<<< HEAD
   "execution_count": 88,
=======
   "execution_count": 107,
>>>>>>> bf9e37a37b98dfb5afaeac3a2b2a3d2de1010d41
   "metadata": {},
   "outputs": [],
   "source": [
    "from sklearn.metrics import mean_squared_error, r2_score\n",
    "from sklearn.model_selection import train_test_split\n",
    "\n",
    "# Suddivisione iniziale in set di addestramento + convalida e test\n",
<<<<<<< HEAD
    "x_train_val, x_test, y_train_val, y_test = train_test_split(x_scaled, y, test_size=0.3,shuffle=True, random_state=42)\n",
    "\n",
    "# Ulteriore suddivisione del set di addestramento + convalida in set di addestramento e convalida\n",
    "x_train, x_val, y_train, y_val = train_test_split(x_train_val, y_train_val, test_size=0.3, shuffle=True,random_state=42)\n"
=======
    "x_train_val, x_test, y_train_val, y_test = train_test_split(x_scaled, y, test_size=0.3, shuffle=True, random_state=42)\n",
    "\n",
    "# Ulteriore suddivisione del set di addestramento + convalida in set di addestramento e convalida\n",
    "x_train, x_val, y_train, y_val = train_test_split(x_train_val, y_train_val, test_size=0.2, shuffle=True, random_state=42)\n"
>>>>>>> bf9e37a37b98dfb5afaeac3a2b2a3d2de1010d41
   ]
  },
  {
   "cell_type": "code",
<<<<<<< HEAD
   "execution_count": 89,
=======
   "execution_count": 108,
>>>>>>> bf9e37a37b98dfb5afaeac3a2b2a3d2de1010d41
   "metadata": {},
   "outputs": [
    {
     "name": "stdout",
     "output_type": "stream",
     "text": [
      "Number of CPUs in the system: 8\n"
     ]
    }
   ],
   "source": [
<<<<<<< HEAD
    "import os\n",
    "from sklearn.tree import DecisionTreeRegressor\n",
    "from sklearn.ensemble import RandomForestRegressor\n",
    "from sklearn.ensemble import GradientBoostingRegressor\n",
    "from sklearn.ensemble import AdaBoostRegressor\n",
    "from sklearn.ensemble import ExtraTreesRegressor\n",
    "from sklearn.ensemble import IsolationForest\n",
    "from sklearn.ensemble import BaggingRegressor\n",
    "\n",
    " \n",
=======
    "#model = xgb.XGBRegressor()\n",
>>>>>>> bf9e37a37b98dfb5afaeac3a2b2a3d2de1010d41
    "#model = DecisionTreeRegressor()\n",
    "#model = RandomForestRegressor(n_estimators=720)\n",
    "#model = AdaBoostRegressor()\n",
    "#model = GradientBoostingRegressor()\n",
    "model= ExtraTreesRegressor()\n",
    "#model = IsolationForest(contamination='auto')\n",
    "#Lo proveremo con il modello più performante\n",
    "#model = BaggingRegressor(base_estimator=()) \n",
    "\n",
    "model.fit(x_train, y_train)\n",
    "\n",
    "n_cpu = os.cpu_count()\n",
    "print(\"Number of CPUs in the system:\", n_cpu)"
   ]
  },
  {
   "cell_type": "code",
<<<<<<< HEAD
   "execution_count": 90,
=======
   "execution_count": 109,
>>>>>>> bf9e37a37b98dfb5afaeac3a2b2a3d2de1010d41
   "metadata": {},
   "outputs": [
    {
     "name": "stdout",
     "output_type": "stream",
     "text": [
<<<<<<< HEAD
      "Mean Squared Error: 4.426542061523589\n",
      "Root Mean Squared Error: 2.103934899545038\n",
      "r2: 0.9999699967635629\n"
=======
      "mse =  5.989923710330436\n",
      "r2 =  0.9999579844266544\n"
>>>>>>> bf9e37a37b98dfb5afaeac3a2b2a3d2de1010d41
     ]
    }
   ],
   "source": [
    "# Calcolo delle previsioni\n",
    "y_pred = model.predict(x_val)\n",
    "\n",
    "# Calcolo del MSE\n",
    "mse = mean_squared_error(y_val, y_pred)\n",
    "r2 = r2_score(y_val, y_pred)\n",
    "\n",
    "print(\"mse = \", mse)\n",
    "print(\"r2 = \", r2)"
   ]
  },
  {
   "cell_type": "code",
<<<<<<< HEAD
   "execution_count": 91,
   "metadata": {},
   "outputs": [
    {
     "name": "stdout",
     "output_type": "stream",
     "text": [
      "Mean Squared Error: 5.9000043878887425\n",
      "Root Mean Squared Error: 2.4289924635306597\n",
      "r2: 0.9999623642652895\n"
     ]
    }
   ],
   "source": [
    "# Calcolo delle previsioni\n",
    "y_pred = model.predict(x_test)\n",
    "\n",
    "# Calcolo del MSE\n",
    "mse = mean_squared_error(y_test, y_pred)\n",
    "rmse = np.sqrt(mse)\n",
    "r2 = r2_score(y_test, y_pred)\n",
    "\n",
    "print(\"Mean Squared Error:\", mse)\n",
    "print(\"Root Mean Squared Error:\", rmse)\n",
    "print(\"r2:\", r2)"
   ]
  },
  {
   "cell_type": "code",
   "execution_count": 42,
   "metadata": {},
   "outputs": [
    {
     "name": "stdout",
     "output_type": "stream",
     "text": [
      "Distanza tra y_val e y_pred: 8160     0.047820\n",
      "3600     0.088231\n",
      "4318     0.088582\n",
      "2641     1.096381\n",
      "10659    0.452400\n",
      "           ...   \n",
      "8499     0.138135\n",
      "6391     0.025346\n",
      "7764     0.082545\n",
      "7059     0.233196\n",
      "6547     0.123855\n",
      "Name: calories, Length: 2253, dtype: float64\n"
     ]
    },
    {
     "data": {
      "image/png": "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",
=======
   "execution_count": 110,
   "metadata": {},
   "outputs": [
    {
     "data": {
      "image/png": "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",
>>>>>>> bf9e37a37b98dfb5afaeac3a2b2a3d2de1010d41
      "text/plain": [
       "<Figure size 640x480 with 1 Axes>"
      ]
     },
     "metadata": {},
     "output_type": "display_data"
    }
   ],
   "source": [
    "#distanza tra x_val e y_pred\n",
    "plt.plot([y_val, y_val], [y_val, y_pred],'ro-', label='Distanza')\n",
    "plt.plot(y_val, y_pred, 'bo', label='Valore predetto')\n",
    "plt.plot(y_val, y_val, 'go', label='Valore di x')\n",
    "plt.xlabel('x')\n",
    "plt.ylabel('y')\n",
    "plt.title('Distanza tra y_val e y_pred')\n",
    "plt.grid(True)\n",
    "plt.show()\n"
   ]
  },
  {
   "cell_type": "markdown",
   "metadata": {},
   "source": [
    "## GRID SEARCH"
   ]
  },
  {
   "cell_type": "code",
<<<<<<< HEAD
   "execution_count": 158,
=======
   "execution_count": 115,
>>>>>>> bf9e37a37b98dfb5afaeac3a2b2a3d2de1010d41
   "metadata": {},
   "outputs": [
    {
     "name": "stderr",
     "output_type": "stream",
     "text": [
      "C:\\Users\\USER\\AppData\\Roaming\\Python\\Python39\\site-packages\\sklearn\\model_selection\\_search.py:952: UserWarning: One or more of the test scores are non-finite: [nan nan nan nan nan nan nan nan]\n",
      "  warnings.warn(\n"
     ]
    },
    {
     "name": "stdout",
     "output_type": "stream",
     "text": [
<<<<<<< HEAD
      "Migliori iperparametri: {'max_depth': 35, 'min_samples_leaf': 1, 'min_samples_split': 2, 'n_estimators': 720}\n"
=======
      "Fitting 10 folds for each of 9 candidates, totalling 90 fits\n"
     ]
    },
    {
     "name": "stdout",
     "output_type": "stream",
     "text": [
      "Migliori iperparametri: {'max_depth': 20, 'n_estimators': 500}\n"
>>>>>>> bf9e37a37b98dfb5afaeac3a2b2a3d2de1010d41
     ]
    }
   ],
   "source": [
<<<<<<< HEAD
    "scorer = make_scorer('mean_squared_error', greater_is_better=False)\n",
    "\n",
    "params = {'n_estimators': [500,600,720],\n",
    "           'max_depth':[35,40], \n",
    "           'min_samples_split':[2,3], \n",
    "           'min_samples_leaf':[1,2]\n",
    "           }\n",
    "\n",
    "clf_optimized = GridSearchCV(model,param_grid=params,cv=10,n_jobs=n_cpu-1,scoring= scorer,refit=True)\n",
=======
    "params = {'n_estimators': [500,700,720],\n",
    "          'max_depth': [20,30,35]}\n",
    "\n",
    "clf_optimized = GridSearchCV(model,param_grid=params, cv=10,  n_jobs=n_cpu-1,refit=True,verbose=True)\n",
>>>>>>> bf9e37a37b98dfb5afaeac3a2b2a3d2de1010d41
    "clf_optimized.fit(x_train, y_train)\n",
    "print(\"Migliori iperparametri:\",clf_optimized.best_params_)"
   ]
  },
  {
   "cell_type": "code",
<<<<<<< HEAD
   "execution_count": 159,
=======
   "execution_count": 116,
>>>>>>> bf9e37a37b98dfb5afaeac3a2b2a3d2de1010d41
   "metadata": {},
   "outputs": [
    {
     "data": {
      "text/html": [
<<<<<<< HEAD
       "<style>#sk-container-id-21 {color: black;background-color: white;}#sk-container-id-21 pre{padding: 0;}#sk-container-id-21 div.sk-toggleable {background-color: white;}#sk-container-id-21 label.sk-toggleable__label {cursor: pointer;display: block;width: 100%;margin-bottom: 0;padding: 0.3em;box-sizing: border-box;text-align: center;}#sk-container-id-21 label.sk-toggleable__label-arrow:before {content: \"▸\";float: left;margin-right: 0.25em;color: #696969;}#sk-container-id-21 label.sk-toggleable__label-arrow:hover:before {color: black;}#sk-container-id-21 div.sk-estimator:hover label.sk-toggleable__label-arrow:before {color: black;}#sk-container-id-21 div.sk-toggleable__content {max-height: 0;max-width: 0;overflow: hidden;text-align: left;background-color: #f0f8ff;}#sk-container-id-21 div.sk-toggleable__content pre {margin: 0.2em;color: black;border-radius: 0.25em;background-color: #f0f8ff;}#sk-container-id-21 input.sk-toggleable__control:checked~div.sk-toggleable__content {max-height: 200px;max-width: 100%;overflow: auto;}#sk-container-id-21 input.sk-toggleable__control:checked~label.sk-toggleable__label-arrow:before {content: \"▾\";}#sk-container-id-21 div.sk-estimator input.sk-toggleable__control:checked~label.sk-toggleable__label {background-color: #d4ebff;}#sk-container-id-21 div.sk-label input.sk-toggleable__control:checked~label.sk-toggleable__label {background-color: #d4ebff;}#sk-container-id-21 input.sk-hidden--visually {border: 0;clip: rect(1px 1px 1px 1px);clip: rect(1px, 1px, 1px, 1px);height: 1px;margin: -1px;overflow: hidden;padding: 0;position: absolute;width: 1px;}#sk-container-id-21 div.sk-estimator {font-family: monospace;background-color: #f0f8ff;border: 1px dotted black;border-radius: 0.25em;box-sizing: border-box;margin-bottom: 0.5em;}#sk-container-id-21 div.sk-estimator:hover {background-color: #d4ebff;}#sk-container-id-21 div.sk-parallel-item::after {content: \"\";width: 100%;border-bottom: 1px solid gray;flex-grow: 1;}#sk-container-id-21 div.sk-label:hover label.sk-toggleable__label {background-color: #d4ebff;}#sk-container-id-21 div.sk-serial::before {content: \"\";position: absolute;border-left: 1px solid gray;box-sizing: border-box;top: 0;bottom: 0;left: 50%;z-index: 0;}#sk-container-id-21 div.sk-serial {display: flex;flex-direction: column;align-items: center;background-color: white;padding-right: 0.2em;padding-left: 0.2em;position: relative;}#sk-container-id-21 div.sk-item {position: relative;z-index: 1;}#sk-container-id-21 div.sk-parallel {display: flex;align-items: stretch;justify-content: center;background-color: white;position: relative;}#sk-container-id-21 div.sk-item::before, #sk-container-id-21 div.sk-parallel-item::before {content: \"\";position: absolute;border-left: 1px solid gray;box-sizing: border-box;top: 0;bottom: 0;left: 50%;z-index: -1;}#sk-container-id-21 div.sk-parallel-item {display: flex;flex-direction: column;z-index: 1;position: relative;background-color: white;}#sk-container-id-21 div.sk-parallel-item:first-child::after {align-self: flex-end;width: 50%;}#sk-container-id-21 div.sk-parallel-item:last-child::after {align-self: flex-start;width: 50%;}#sk-container-id-21 div.sk-parallel-item:only-child::after {width: 0;}#sk-container-id-21 div.sk-dashed-wrapped {border: 1px dashed gray;margin: 0 0.4em 0.5em 0.4em;box-sizing: border-box;padding-bottom: 0.4em;background-color: white;}#sk-container-id-21 div.sk-label label {font-family: monospace;font-weight: bold;display: inline-block;line-height: 1.2em;}#sk-container-id-21 div.sk-label-container {text-align: center;}#sk-container-id-21 div.sk-container {/* jupyter's `normalize.less` sets `[hidden] { display: none; }` but bootstrap.min.css set `[hidden] { display: none !important; }` so we also need the `!important` here to be able to override the default hidden behavior on the sphinx rendered scikit-learn.org. See: https://github.com/scikit-learn/scikit-learn/issues/21755 */display: inline-block !important;position: relative;}#sk-container-id-21 div.sk-text-repr-fallback {display: none;}</style><div id=\"sk-container-id-21\" class=\"sk-top-container\"><div class=\"sk-text-repr-fallback\"><pre>ExtraTreesRegressor(max_depth=35, n_estimators=720)</pre><b>In a Jupyter environment, please rerun this cell to show the HTML representation or trust the notebook. <br />On GitHub, the HTML representation is unable to render, please try loading this page with nbviewer.org.</b></div><div class=\"sk-container\" hidden><div class=\"sk-item\"><div class=\"sk-estimator sk-toggleable\"><input class=\"sk-toggleable__control sk-hidden--visually\" id=\"sk-estimator-id-21\" type=\"checkbox\" checked><label for=\"sk-estimator-id-21\" class=\"sk-toggleable__label sk-toggleable__label-arrow\">ExtraTreesRegressor</label><div class=\"sk-toggleable__content\"><pre>ExtraTreesRegressor(max_depth=35, n_estimators=720)</pre></div></div></div></div></div>"
      ],
      "text/plain": [
       "ExtraTreesRegressor(max_depth=35, n_estimators=720)"
      ]
     },
     "execution_count": 159,
=======
       "<style>#sk-container-id-17 {color: black;background-color: white;}#sk-container-id-17 pre{padding: 0;}#sk-container-id-17 div.sk-toggleable {background-color: white;}#sk-container-id-17 label.sk-toggleable__label {cursor: pointer;display: block;width: 100%;margin-bottom: 0;padding: 0.3em;box-sizing: border-box;text-align: center;}#sk-container-id-17 label.sk-toggleable__label-arrow:before {content: \"▸\";float: left;margin-right: 0.25em;color: #696969;}#sk-container-id-17 label.sk-toggleable__label-arrow:hover:before {color: black;}#sk-container-id-17 div.sk-estimator:hover label.sk-toggleable__label-arrow:before {color: black;}#sk-container-id-17 div.sk-toggleable__content {max-height: 0;max-width: 0;overflow: hidden;text-align: left;background-color: #f0f8ff;}#sk-container-id-17 div.sk-toggleable__content pre {margin: 0.2em;color: black;border-radius: 0.25em;background-color: #f0f8ff;}#sk-container-id-17 input.sk-toggleable__control:checked~div.sk-toggleable__content {max-height: 200px;max-width: 100%;overflow: auto;}#sk-container-id-17 input.sk-toggleable__control:checked~label.sk-toggleable__label-arrow:before {content: \"▾\";}#sk-container-id-17 div.sk-estimator input.sk-toggleable__control:checked~label.sk-toggleable__label {background-color: #d4ebff;}#sk-container-id-17 div.sk-label input.sk-toggleable__control:checked~label.sk-toggleable__label {background-color: #d4ebff;}#sk-container-id-17 input.sk-hidden--visually {border: 0;clip: rect(1px 1px 1px 1px);clip: rect(1px, 1px, 1px, 1px);height: 1px;margin: -1px;overflow: hidden;padding: 0;position: absolute;width: 1px;}#sk-container-id-17 div.sk-estimator {font-family: monospace;background-color: #f0f8ff;border: 1px dotted black;border-radius: 0.25em;box-sizing: border-box;margin-bottom: 0.5em;}#sk-container-id-17 div.sk-estimator:hover {background-color: #d4ebff;}#sk-container-id-17 div.sk-parallel-item::after {content: \"\";width: 100%;border-bottom: 1px solid gray;flex-grow: 1;}#sk-container-id-17 div.sk-label:hover label.sk-toggleable__label {background-color: #d4ebff;}#sk-container-id-17 div.sk-serial::before {content: \"\";position: absolute;border-left: 1px solid gray;box-sizing: border-box;top: 0;bottom: 0;left: 50%;z-index: 0;}#sk-container-id-17 div.sk-serial {display: flex;flex-direction: column;align-items: center;background-color: white;padding-right: 0.2em;padding-left: 0.2em;position: relative;}#sk-container-id-17 div.sk-item {position: relative;z-index: 1;}#sk-container-id-17 div.sk-parallel {display: flex;align-items: stretch;justify-content: center;background-color: white;position: relative;}#sk-container-id-17 div.sk-item::before, #sk-container-id-17 div.sk-parallel-item::before {content: \"\";position: absolute;border-left: 1px solid gray;box-sizing: border-box;top: 0;bottom: 0;left: 50%;z-index: -1;}#sk-container-id-17 div.sk-parallel-item {display: flex;flex-direction: column;z-index: 1;position: relative;background-color: white;}#sk-container-id-17 div.sk-parallel-item:first-child::after {align-self: flex-end;width: 50%;}#sk-container-id-17 div.sk-parallel-item:last-child::after {align-self: flex-start;width: 50%;}#sk-container-id-17 div.sk-parallel-item:only-child::after {width: 0;}#sk-container-id-17 div.sk-dashed-wrapped {border: 1px dashed gray;margin: 0 0.4em 0.5em 0.4em;box-sizing: border-box;padding-bottom: 0.4em;background-color: white;}#sk-container-id-17 div.sk-label label {font-family: monospace;font-weight: bold;display: inline-block;line-height: 1.2em;}#sk-container-id-17 div.sk-label-container {text-align: center;}#sk-container-id-17 div.sk-container {/* jupyter's `normalize.less` sets `[hidden] { display: none; }` but bootstrap.min.css set `[hidden] { display: none !important; }` so we also need the `!important` here to be able to override the default hidden behavior on the sphinx rendered scikit-learn.org. See: https://github.com/scikit-learn/scikit-learn/issues/21755 */display: inline-block !important;position: relative;}#sk-container-id-17 div.sk-text-repr-fallback {display: none;}</style><div id=\"sk-container-id-17\" class=\"sk-top-container\"><div class=\"sk-text-repr-fallback\"><pre>ExtraTreesRegressor(max_depth=20, n_estimators=500)</pre><b>In a Jupyter environment, please rerun this cell to show the HTML representation or trust the notebook. <br />On GitHub, the HTML representation is unable to render, please try loading this page with nbviewer.org.</b></div><div class=\"sk-container\" hidden><div class=\"sk-item\"><div class=\"sk-estimator sk-toggleable\"><input class=\"sk-toggleable__control sk-hidden--visually\" id=\"sk-estimator-id-17\" type=\"checkbox\" checked><label for=\"sk-estimator-id-17\" class=\"sk-toggleable__label sk-toggleable__label-arrow\">ExtraTreesRegressor</label><div class=\"sk-toggleable__content\"><pre>ExtraTreesRegressor(max_depth=20, n_estimators=500)</pre></div></div></div></div></div>"
      ],
      "text/plain": [
       "ExtraTreesRegressor(max_depth=20, n_estimators=500)"
      ]
     },
     "execution_count": 116,
>>>>>>> bf9e37a37b98dfb5afaeac3a2b2a3d2de1010d41
     "metadata": {},
     "output_type": "execute_result"
    }
   ],
   "source": [
    "# Assegnazione dei migliori parametri al classificatore\n",
    "best_params = clf_optimized.best_params_\n",
    "model.set_params(**best_params)\n",
    "model.fit(x_train,y_train)"
   ]
  },
  {
   "cell_type": "code",
<<<<<<< HEAD
   "execution_count": 160,
=======
   "execution_count": 117,
>>>>>>> bf9e37a37b98dfb5afaeac3a2b2a3d2de1010d41
   "metadata": {},
   "outputs": [
    {
     "name": "stdout",
     "output_type": "stream",
     "text": [
<<<<<<< HEAD
      "Mean Squared Error: 4.709533195166662\n",
      "Root Mean Squared Error: 2.1701458925995416\n",
      "r2: 0.999969958201674\n"
=======
      "Mean Squared Error: 4.656272894512833\n",
      "Root Mean Squared Error: 2.157839867671564\n",
      "r2: 0.9999702979455817\n"
>>>>>>> bf9e37a37b98dfb5afaeac3a2b2a3d2de1010d41
     ]
    }
   ],
   "source": [
    "# Calcolo delle previsioni\n",
    "y_pred = model.predict(x_test)\n",
    "\n",
    "# Calcolo del MSE\n",
    "mse = mean_squared_error(y_test, y_pred)\n",
    "rmse = np.sqrt(mse)\n",
    "r2 = r2_score(y_test, y_pred)\n",
    "\n",
    "print(\"Mean Squared Error:\", mse)\n",
    "print(\"Root Mean Squared Error:\", rmse)\n",
    "print(\"r2:\", r2)"
   ]
  },
  {
   "cell_type": "code",
<<<<<<< HEAD
   "execution_count": 151,
   "metadata": {},
   "outputs": [
    {
     "name": "stdout",
     "output_type": "stream",
     "text": [
      "[2897.96836392]\n"
=======
   "execution_count": 114,
   "metadata": {},
   "outputs": [
    {
     "ename": "AttributeError",
     "evalue": "'list' object has no attribute 'ravel'",
     "output_type": "error",
     "traceback": [
      "\u001b[1;31m---------------------------------------------------------------------------\u001b[0m",
      "\u001b[1;31mAttributeError\u001b[0m                            Traceback (most recent call last)",
      "Cell \u001b[1;32mIn[114], line 2\u001b[0m\n\u001b[0;32m      1\u001b[0m new_labels \u001b[39m=\u001b[39m [[\u001b[39m1\u001b[39m,\u001b[39m19.87212495627667\u001b[39m,\u001b[39m931.917\u001b[39m,\u001b[39m1.3\u001b[39m]]\n\u001b[1;32m----> 2\u001b[0m new_labels_encoded \u001b[39m=\u001b[39m label_encoder\u001b[39m.\u001b[39mfit_transform(new_labels\u001b[39m.\u001b[39;49mravel())\u001b[39m.\u001b[39mreshape(new_labels\u001b[39m.\u001b[39mshape)\n\u001b[0;32m      4\u001b[0m new_data_scaled \u001b[39m=\u001b[39m scaler\u001b[39m.\u001b[39mfit_transform(new_labels_encoded)\n\u001b[0;32m      5\u001b[0m predictions \u001b[39m=\u001b[39m model\u001b[39m.\u001b[39mpredict(new_data_scaled)\n",
      "\u001b[1;31mAttributeError\u001b[0m: 'list' object has no attribute 'ravel'"
>>>>>>> bf9e37a37b98dfb5afaeac3a2b2a3d2de1010d41
     ]
    }
   ],
   "source": [
    "new_labels = [[1,19.87212495627667,931.917,1.3]]\n",
    "new_labels_encoded = label_encoder.fit_transform(new_labels.ravel()).reshape(new_labels.shape)\n",
    "\n",
    "new_data_scaled = scaler.fit_transform(new_labels_encoded)\n",
    "predictions = model.predict(new_data_scaled)\n",
    "print(predictions)"
   ]
  }
 ],
 "metadata": {
  "kernelspec": {
   "display_name": "base",
   "language": "python",
   "name": "python3"
  },
  "language_info": {
   "codemirror_mode": {
    "name": "ipython",
    "version": 3
   },
   "file_extension": ".py",
   "mimetype": "text/x-python",
   "name": "python",
   "nbconvert_exporter": "python",
   "pygments_lexer": "ipython3",
   "version": "3.9.13"
  },
  "orig_nbformat": 4
 },
 "nbformat": 4,
 "nbformat_minor": 2
}
